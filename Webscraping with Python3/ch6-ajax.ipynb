{
 "cells": [
  {
   "cell_type": "markdown",
   "metadata": {},
   "source": [
    "### example:\n",
    "\n",
    "https://www.toutiao.com/api/search/content/?\n",
    "\n",
    "aid=24&offset=0&format=json&keyword=%E8%A1%97%E6%8B%8D&\n",
    "autoload=true&count=20&cur_tab=1&from=search_tab&pd=synthesis\n"
   ]
  },
  {
   "cell_type": "code",
   "execution_count": null,
   "metadata": {},
   "outputs": [],
   "source": [
    "import requests\n",
    "from urllib.parse import urlencode"
   ]
  },
  {
   "cell_type": "code",
   "execution_count": null,
   "metadata": {},
   "outputs": [],
   "source": [
    "def get_page(offset):\n",
    "    params = {\n",
    "        'aid': '24',\n",
    "        'offset': offset,\n",
    "        'format': 'json',\n",
    "        'keyword': '街拍',\n",
    "        'autoload': 'true',\n",
    "        'count': '20',\n",
    "        'cur_tab': '1',\n",
    "        'from': 'search_tab',\n",
    "        'pd': 'synthesis',\n",
    "    }\n",
    "    url = 'https://www.toutiao.com/api/search/content/?' + urlencode(params)\n",
    "    try:\n",
    "        response = requests.get(url)\n",
    "        if response.status_code == 200:\n",
    "            return response.json()\n",
    "    except requests.ConnectionError:\n",
    "        return None"
   ]
  },
  {
   "cell_type": "code",
   "execution_count": null,
   "metadata": {},
   "outputs": [],
   "source": [
    "def get_json(json):\n",
    "    if json.get('data'):\n",
    "        for item in json.get('data'):\n",
    "            title = item.get('title')\n",
    "            images = item.get('image_list')\n",
    "            for image in images:\n",
    "                yield {\n",
    "                    'image': image.get('url'),\n",
    "                    'title': title\n",
    "                }"
   ]
  },
  {
   "cell_type": "code",
   "execution_count": null,
   "metadata": {},
   "outputs": [],
   "source": [
    "import os\n",
    "from hashlib import md5"
   ]
  },
  {
   "cell_type": "code",
   "execution_count": null,
   "metadata": {},
   "outputs": [],
   "source": [
    "def save_image(item):\n",
    "    if not os.path.exists('ch6/{0}'.format(item.get('title'))):\n",
    "        os.mkdir('ch6/{0}'.format(item.get('title')))\n",
    "    try:\n",
    "        response = requests.get(item.get('image'))\n",
    "        if response.status_code == 200:\n",
    "            file_path = 'ch6/{0}/{1}.{2}'.format(item.get('title'), md5(response.content).hexdigest(), 'jpg')\n",
    "            if not os.path.exists(file_path):\n",
    "                with open(file_path, 'wb') as f:\n",
    "                    f.write(response.content)\n",
    "                    print('Download! ', file_path)\n",
    "            else:\n",
    "                print('Already Downloaded', file_path)\n",
    "    except requests.ConnectionError:\n",
    "        print('Failed to Save Image')"
   ]
  },
  {
   "cell_type": "code",
   "execution_count": null,
   "metadata": {},
   "outputs": [],
   "source": [
    "from multiprocessing.pool import Pool"
   ]
  },
  {
   "cell_type": "code",
   "execution_count": null,
   "metadata": {},
   "outputs": [],
   "source": [
    "def main(offset):\n",
    "    json = get_page(offset)\n",
    "    for item in get_json(json):\n",
    "        print(item)\n",
    "        save_image(item)"
   ]
  },
  {
   "cell_type": "code",
   "execution_count": null,
   "metadata": {},
   "outputs": [],
   "source": [
    "GROUP_START = 1\n",
    "GROUP_END = 3\n",
    "if __name__ =='__main__':\n",
    "    pool = Pool()\n",
    "    groups = ([x*20 for x in range(GROUP_START,GROUP_END+1)])\n",
    "    pool.map(main,groups)\n",
    "    pool.close()\n",
    "    pool.join()"
   ]
  }
 ],
 "metadata": {
  "kernelspec": {
   "display_name": "Python 3",
   "language": "python",
   "name": "python3"
  },
  "language_info": {
   "codemirror_mode": {
    "name": "ipython",
    "version": 3
   },
   "file_extension": ".py",
   "mimetype": "text/x-python",
   "name": "python",
   "nbconvert_exporter": "python",
   "pygments_lexer": "ipython3",
   "version": "3.7.3"
  }
 },
 "nbformat": 4,
 "nbformat_minor": 2
}
