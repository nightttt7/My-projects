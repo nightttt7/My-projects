{
 "cells": [
  {
   "cell_type": "markdown",
   "metadata": {},
   "source": [
    "# this ipynb was not run here but local"
   ]
  },
  {
   "cell_type": "code",
   "execution_count": null,
   "metadata": {},
   "outputs": [],
   "source": [
    "# example: OK it works well\n",
    "from selenium import webdriver\n",
    "from selenium.webdriver.common.by import By\n",
    "from selenium.webdriver.common.keys import Keys\n",
    "from selenium.webdriver.support import expected_conditions as EC\n",
    "from selenium.webdriver.support.wait import WebDriverWait\n",
    "\n",
    "browser = webdriver.Chrome()\n",
    "try:\n",
    "    browser.get('https://www.baidu.com')\n",
    "    input = browser.find_element_by_id('kw')\n",
    "    input.send_keys('Python')\n",
    "    input.send_keys(Keys.ENTER)\n",
    "    wait = WebDriverWait(browser, 10)\n",
    "    wait.until(EC.presence_of_element_located((By.ID, 'content_left')))\n",
    "    print(browser.current_url)\n",
    "    print(browser.get_cookies())\n",
    "    print(browser.page_source)\n",
    "finally:\n",
    "    browser.close()"
   ]
  },
  {
   "cell_type": "code",
   "execution_count": null,
   "metadata": {},
   "outputs": [],
   "source": [
    "# # use different browsers\n",
    "# from selenium import webdriver\n",
    "\n",
    "# browser = webdriver.Chrome()\n",
    "# browser = webdriver.Firefox()\n",
    "# browser = webdriver.Edge()\n",
    "# browser = webdriver.PhantomJS()\n",
    "# browser = webdriver.Safari()"
   ]
  },
  {
   "cell_type": "code",
   "execution_count": null,
   "metadata": {},
   "outputs": [],
   "source": [
    "# 访问页面\n",
    "from selenium import webdriver\n",
    "\n",
    "browser = webdriver.Chrome()\n",
    "#　get: 访问网页\n",
    "browser.get('https://www.taobao.com')\n",
    "print(browser.page_source)\n",
    "browser.close()"
   ]
  },
  {
   "cell_type": "code",
   "execution_count": 7,
   "metadata": {},
   "outputs": [
    {
     "name": "stdout",
     "output_type": "stream",
     "text": [
      "<selenium.webdriver.remote.webelement.WebElement (session=\"70f5ad8c5e999bfb0d895ae0933ebbc6\", element=\"0.5806541651032255-1\")>\n"
     ]
    }
   ],
   "source": [
    "# 寻找节点 example\n",
    "from selenium import webdriver\n",
    "\n",
    "browser = webdriver.Chrome()\n",
    "browser.get('https://www.baidu.com/')\n",
    "input_first = browser.find_element_by_id('lg')\n",
    "print(input_first)\n",
    "browser.close()"
   ]
  },
  {
   "cell_type": "markdown",
   "metadata": {},
   "source": [
    "# 寻找节点\n",
    "find_element_by_id\n",
    "\n",
    "find_element_by_name\n",
    "\n",
    "find_element_by_xpath\n",
    "\n",
    "find_element_by_link_text\n",
    "\n",
    "find_element_by_partial_link_text\n",
    "\n",
    "find_element_by_tag_name\n",
    "\n",
    "find_element_by_class_name\n",
    "\n",
    "find_element_by_css_selector\n",
    "\n",
    "# or\n",
    "find_element(by.XX,\"xx\")"
   ]
  },
  {
   "cell_type": "markdown",
   "metadata": {},
   "source": [
    "# 寻找多个节点\n",
    "add an s\n",
    "\n",
    "find_elements\n",
    "\n",
    "return a list"
   ]
  },
  {
   "cell_type": "code",
   "execution_count": 9,
   "metadata": {},
   "outputs": [],
   "source": [
    "# 动作链\n",
    "from selenium import webdriver\n",
    "from selenium.webdriver import ActionChains\n",
    "\n",
    "browser = webdriver.Chrome()\n",
    "url = 'http://www.runoob.com/try/try.php?filename=jqueryui-api-droppable'\n",
    "browser.get(url)\n",
    "browser.switch_to.frame('iframeResult')\n",
    "source = browser.find_element_by_css_selector('#draggable')\n",
    "target = browser.find_element_by_css_selector('#droppable')\n",
    "actions = ActionChains(browser)\n",
    "actions.drag_and_drop(source, target)\n",
    "actions.perform()"
   ]
  },
  {
   "cell_type": "code",
   "execution_count": 8,
   "metadata": {},
   "outputs": [],
   "source": [
    "# 执行JavaScript\n",
    "from selenium import webdriver\n",
    " \n",
    "browser = webdriver.Chrome()\n",
    "browser.get('https://www.zhihu.com/explore')\n",
    "browser.execute_script('window.scrollTo(0, document.body.scrollHeight)')\n",
    "browser.execute_script('alert(\"To Bottom\")')"
   ]
  },
  {
   "cell_type": "code",
   "execution_count": 11,
   "metadata": {},
   "outputs": [
    {
     "name": "stdout",
     "output_type": "stream",
     "text": [
      "NO LOGO\n",
      "<selenium.webdriver.remote.webelement.WebElement (session=\"d2fecd265470b93b92a3d764d037d0e8\", element=\"0.3479724093515004-2\")>\n",
      "RUNOOB.COM\n"
     ]
    }
   ],
   "source": [
    "# 切换Frame\n",
    "import time\n",
    "from selenium import webdriver\n",
    "from selenium.common.exceptions import NoSuchElementException\n",
    "\n",
    "browser = webdriver.Chrome()\n",
    "url = 'http://www.runoob.com/try/try.php?filename=jqueryui-api-droppable'\n",
    "browser.get(url)\n",
    "browser.switch_to.frame('iframeResult')\n",
    "try:\n",
    "    logo = browser.find_element_by_class_name('logo')\n",
    "except NoSuchElementException:\n",
    "    print('NO LOGO')\n",
    "browser.switch_to.parent_frame()\n",
    "logo = browser.find_element_by_class_name('logo')\n",
    "print(logo)\n",
    "print(logo.text)"
   ]
  },
  {
   "cell_type": "code",
   "execution_count": null,
   "metadata": {},
   "outputs": [],
   "source": [
    "# 隐式等待\n",
    "browser.implicitly_wait(10)"
   ]
  },
  {
   "cell_type": "code",
   "execution_count": 15,
   "metadata": {},
   "outputs": [],
   "source": [
    "# # 显式等待 P259\n",
    "# from selenium import webdriver\n",
    "# from selenium.webdriver.common.by import By\n",
    "# from selenium.webdriver.support.ui import WebDriverWait\n",
    "# from selenium.webdriver.support import expected_conditions as EC\n",
    "\n",
    "# browser = webdriver.Chrome()\n",
    "# browser.get('https://www.taobao.com/')\n",
    "# wait = WebDriverWait(browser, 10)\n",
    "# input = wait.until(EC.presence_of_element_located((By.ID, 'q')))\n",
    "# button = wait.until(EC.element_to_be_clickable((By.CSS_SELECTOR, '.btn-search')))\n",
    "# print(input, button)"
   ]
  },
  {
   "cell_type": "code",
   "execution_count": 1,
   "metadata": {},
   "outputs": [],
   "source": [
    "# 前进和后退\n",
    "import time\n",
    "from selenium import webdriver\n",
    "\n",
    "browser = webdriver.Chrome()\n",
    "browser.get('https://www.baidu.com/')\n",
    "browser.get('https://www.taobao.com/')\n",
    "browser.get('https://www.python.org/')\n",
    "browser.back()\n",
    "time.sleep(1)\n",
    "browser.forward()\n",
    "browser.close()"
   ]
  },
  {
   "cell_type": "code",
   "execution_count": null,
   "metadata": {},
   "outputs": [],
   "source": [
    "# Cookies\n",
    "from selenium import webdriver\n",
    "\n",
    "browser = webdriver.Chrome()\n",
    "browser.get('https://www.zhihu.com/explore')\n",
    "print(browser.get_cookies())\n",
    "browser.add_cookie({'name': 'name', 'domain': 'www.zhihu.com', 'value': 'germey'})\n",
    "print(browser.get_cookies())\n",
    "browser.delete_all_cookies()\n",
    "print(browser.get_cookies())"
   ]
  },
  {
   "cell_type": "code",
   "execution_count": 10,
   "metadata": {},
   "outputs": [],
   "source": [
    "# 选项卡管理\n",
    "from selenium import webdriver\n",
    "import time\n",
    "\n",
    "browser = webdriver.Chrome()\n",
    "browser.get('https://nightttt7.github.io/')\n",
    "browser.execute_script('window.open()')\n",
    "browser.switch_to_window(browser.window_handles[1])\n",
    "browser.get('https://nightttt7.github.io/')\n",
    "browser.switch_to_window(browser.window_handles[0])"
   ]
  }
 ],
 "metadata": {
  "kernelspec": {
   "display_name": "Python 3",
   "language": "python",
   "name": "python3"
  },
  "language_info": {
   "codemirror_mode": {
    "name": "ipython",
    "version": 3
   },
   "file_extension": ".py",
   "mimetype": "text/x-python",
   "name": "python",
   "nbconvert_exporter": "python",
   "pygments_lexer": "ipython3",
   "version": "3.7.3"
  }
 },
 "nbformat": 4,
 "nbformat_minor": 2
}
