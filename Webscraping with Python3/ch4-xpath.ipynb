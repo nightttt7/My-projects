{
 "cells": [
  {
   "cell_type": "code",
   "execution_count": 3,
   "metadata": {},
   "outputs": [
    {
     "data": {
      "text/plain": [
       "<Element html at 0x7f6ce66227c8>"
      ]
     },
     "execution_count": 3,
     "metadata": {},
     "output_type": "execute_result"
    }
   ],
   "source": [
    "# 准备好HTML对象\n",
    "from lxml import etree\n",
    "text = '''\n",
    "<div>\n",
    "    <ul>\n",
    "         <li class=\"item-0\"><a href=\"link1.html\">first item</a></li>\n",
    "         <li class=\"item-1\"><a href=\"link2.html\">second item</a></li>\n",
    "         <li class=\"item-inactive\"><a href=\"link3.html\">third item</a></li>\n",
    "         <li class=\"item-1\"><a href=\"link4.html\">fourth item</a></li>\n",
    "         <li class=\"item-0\"><a href=\"link5.html\">fifth item</a>\n",
    "     </ul>\n",
    " </div>\n",
    "'''\n",
    "# 转化为html对象(自动补全)\n",
    "html = etree.HTML(text)\n",
    "html"
   ]
  },
  {
   "cell_type": "code",
   "execution_count": 15,
   "metadata": {},
   "outputs": [
    {
     "name": "stdout",
     "output_type": "stream",
     "text": [
      "<html><body><div>\n",
      "    <ul>\n",
      "         <li class=\"item-0\"><a href=\"link1.html\">first item</a></li>\n",
      "         <li class=\"item-1\"><a href=\"link2.html\">second item</a></li>\n",
      "         <li class=\"item-inactive\"><a href=\"link3.html\">third item</a></li>\n",
      "         <li class=\"item-1\"><a href=\"link4.html\">fourth item</a></li>\n",
      "         <li class=\"item-0\"><a href=\"link5.html\">fifth item</a>\n",
      "     </li></ul>\n",
      " </div>\n",
      "</body></html>\n"
     ]
    }
   ],
   "source": [
    "# tostring: 查看html\n",
    "def printhtml(html):\n",
    "    print(etree.tostring(html).decode('utf-8'))\n",
    "printhtml(html)"
   ]
  },
  {
   "cell_type": "code",
   "execution_count": 18,
   "metadata": {},
   "outputs": [],
   "source": [
    "# 从文件读取html\n",
    "html = etree.parse('relatedfiles/maoyan.html', etree.HTMLParser())\n",
    "# printhtml(html)"
   ]
  },
  {
   "cell_type": "code",
   "execution_count": 22,
   "metadata": {},
   "outputs": [
    {
     "data": {
      "text/plain": [
       "[<Element html at 0x7f6ce42ef648>,\n",
       " <Element head at 0x7f6ce42efa08>,\n",
       " <Element title at 0x7f6ce42efbc8>,\n",
       " <Element link at 0x7f6ce4250a88>,\n",
       " <Element link at 0x7f6ce42509c8>]"
      ]
     },
     "execution_count": 22,
     "metadata": {},
     "output_type": "execute_result"
    }
   ],
   "source": [
    "# 所有节点\n",
    "# 显示前五个\n",
    "html.xpath('//*')[:5]"
   ]
  },
  {
   "cell_type": "code",
   "execution_count": 28,
   "metadata": {},
   "outputs": [
    {
     "name": "stdout",
     "output_type": "stream",
     "text": [
      "<link rel=\"stylesheet\" href=\"//ms0.meituan.net/mywww/common.4b838ec3.css\"/>&#13;\n",
      "\n"
     ]
    }
   ],
   "source": [
    "# 显示第22个\n",
    "printhtml(html.xpath('//*')[22])\n",
    "# 中文出现编码错误, 来源于lxml库的内部bug!!"
   ]
  },
  {
   "cell_type": "code",
   "execution_count": 33,
   "metadata": {},
   "outputs": [
    {
     "data": {
      "text/plain": [
       "[<Element li at 0x7f6ce4266548>,\n",
       " <Element li at 0x7f6ce42665c8>,\n",
       " <Element li at 0x7f6ce4266648>,\n",
       " <Element li at 0x7f6ce42666c8>,\n",
       " <Element li at 0x7f6ce4266748>]"
      ]
     },
     "execution_count": 33,
     "metadata": {},
     "output_type": "execute_result"
    }
   ],
   "source": [
    "# <li>标签\n",
    "html.xpath('//li')[:5]"
   ]
  },
  {
   "cell_type": "code",
   "execution_count": 31,
   "metadata": {},
   "outputs": [
    {
     "name": "stdout",
     "output_type": "stream",
     "text": [
      "<li><a href=\"/\" data-act=\"home-click\">&#233;&#166;&#150;&#233;&#161;&#181;</a></li>&#13;\n",
      "                \n"
     ]
    }
   ],
   "source": [
    "printhtml(html.xpath('//li')[0])\n",
    "# 中文输出问题"
   ]
  },
  {
   "cell_type": "code",
   "execution_count": 38,
   "metadata": {},
   "outputs": [
    {
     "data": {
      "text/plain": [
       "[<Element a at 0x7f6ce4266588>,\n",
       " <Element a at 0x7f6ce4266608>,\n",
       " <Element a at 0x7f6ce4266688>,\n",
       " <Element a at 0x7f6ce4266708>,\n",
       " <Element a at 0x7f6ce4266788>]"
      ]
     },
     "execution_count": 38,
     "metadata": {},
     "output_type": "execute_result"
    }
   ],
   "source": [
    "# 子节点\n",
    "html.xpath('//li/a')[:5]"
   ]
  },
  {
   "cell_type": "code",
   "execution_count": 39,
   "metadata": {},
   "outputs": [
    {
     "name": "stdout",
     "output_type": "stream",
     "text": [
      "<a href=\"/board\" data-act=\"board-click\" class=\"active\">&#230;&#166;&#156;&#229;&#141;&#149;</a>\n"
     ]
    }
   ],
   "source": [
    "printhtml(html.xpath('//li/a')[3])"
   ]
  },
  {
   "cell_type": "code",
   "execution_count": 73,
   "metadata": {},
   "outputs": [
    {
     "name": "stdout",
     "output_type": "stream",
     "text": [
      "<p class=\"friendly-links\">&#13;\n",
      "        &#229;&#143;&#139;&#230;&#131;&#133;&#233;&#147;&#190;&#230;&#142;&#165; :&#13;\n",
      "        <a href=\"http://www.meituan.com\" data-query=\"utm_source=wwwmaoyan\" target=\"_blank\">&#231;&#190;&#142;&#229;&#155;&#162;&#231;&#189;&#145;</a>&#13;\n",
      "        <span/>&#13;\n",
      "        <a href=\"http://i.meituan.com/client\" data-query=\"utm_source=wwwmaoyan\" target=\"_blank\">&#231;&#190;&#142;&#229;&#155;&#162;&#228;&#184;&#139;&#232;&#189;&#189;</a>&#13;\n",
      "        <span/>&#13;\n",
      "        <a href=\"https://www.huanxi.com\" data-query=\"utm_source=maoyan_pc\" target=\"_blank\">&#230;&#172;&#162;&#229;&#150;&#156;&#233;&#166;&#150;&#230;&#152;&#160;</a>&#13;\n",
      "    </p>&#13;\n",
      "    \n"
     ]
    }
   ],
   "source": [
    "# 父节点\n",
    "printhtml(html.xpath('//a[@href=\"http://www.meituan.com\"]/..')[0])"
   ]
  },
  {
   "cell_type": "code",
   "execution_count": 52,
   "metadata": {},
   "outputs": [
    {
     "data": {
      "text/plain": [
       "[<Element p at 0x7f6ce4269ec8>, <Element p at 0x7f6ce4269f48>]"
      ]
     },
     "execution_count": 52,
     "metadata": {},
     "output_type": "execute_result"
    }
   ],
   "source": [
    "# 属性匹配\n",
    "html.xpath('//p[@class=\"friendly-links\"]')"
   ]
  },
  {
   "cell_type": "code",
   "execution_count": 76,
   "metadata": {},
   "outputs": [
    {
     "data": {
      "text/plain": [
       "'<div class=\"city-list-header\">&#229;&#174;&#154;&#228;&#189;&#141;&#229;&#159;&#142;&#229;&#184;&#130;&#239;&#188;&#154;<a class=\"js-geo-city\"/></div>&#13;\\n                &#13;\\n            '"
      ]
     },
     "execution_count": 76,
     "metadata": {},
     "output_type": "execute_result"
    }
   ],
   "source": [
    "etree.tostring(html.xpath('//div[@class=\"city-list-header\"]')[0]).decode('utf-8')"
   ]
  },
  {
   "cell_type": "code",
   "execution_count": 90,
   "metadata": {},
   "outputs": [
    {
     "data": {
      "text/plain": [
       "'\\r\\n      å\\x95\\x86å\\x8a¡å\\x90\\x88ä½\\x9cé\\x82®ç®±ï¼\\x9av@maoyan.com\\r\\n      å®¢æ\\x9c\\x8dç\\x94µè¯\\x9dï¼\\x9a10105335\\r\\n      è¿\\x9dæ³\\x95å\\x92\\x8cä¸\\x8dè\\x89¯ä¿¡æ\\x81¯ä¸¾æ\\x8a¥ç\\x94µè¯\\x9dï¼\\x9a4006018900\\r\\n      '"
      ]
     },
     "execution_count": 90,
     "metadata": {},
     "output_type": "execute_result"
    }
   ],
   "source": [
    "# 文本获取\n",
    "html.xpath('//div[@class=\"footer\"]/p/text()')[0]\n",
    "# 中文显示bug"
   ]
  },
  {
   "cell_type": "code",
   "execution_count": 95,
   "metadata": {},
   "outputs": [
    {
     "data": {
      "text/plain": [
       "['footer']"
      ]
     },
     "execution_count": 95,
     "metadata": {},
     "output_type": "execute_result"
    }
   ],
   "source": [
    "# 属性获取 !没有[]\n",
    "html.xpath('//div[@class=\"footer\"]/@class')"
   ]
  },
  {
   "cell_type": "code",
   "execution_count": 96,
   "metadata": {},
   "outputs": [],
   "source": [
    "from lxml import etree\n",
    "text = '''\n",
    "<li class=\"li li-first\" name=\"item\"><a href=\"link.html\">first item</a></li>\n",
    "'''\n",
    "html = etree.HTML(text)"
   ]
  },
  {
   "cell_type": "code",
   "execution_count": 98,
   "metadata": {},
   "outputs": [],
   "source": [
    "# 含有某属性\n",
    "from lxml import etree\n",
    "text = '''\n",
    "<li class=\"li li-first\"><a href=\"link.html\">first item</a></li>\n",
    "'''\n",
    "html = etree.HTML(text)"
   ]
  },
  {
   "cell_type": "code",
   "execution_count": 99,
   "metadata": {},
   "outputs": [
    {
     "data": {
      "text/plain": [
       "[<Element li at 0x7f6ce420a0c8>]"
      ]
     },
     "execution_count": 99,
     "metadata": {},
     "output_type": "execute_result"
    }
   ],
   "source": [
    "# !![contains(@class,\"li\")]\n",
    "html.xpath('//li[contains(@class, \"li\")]')"
   ]
  },
  {
   "cell_type": "code",
   "execution_count": 101,
   "metadata": {},
   "outputs": [],
   "source": [
    "# 运算符\n",
    "# or and 等\n",
    "# + - * div"
   ]
  },
  {
   "cell_type": "code",
   "execution_count": 102,
   "metadata": {},
   "outputs": [],
   "source": [
    "# 按续选择\n",
    "text = '''\n",
    "<div>\n",
    "    <ul>\n",
    "         <li class=\"item-0\"><a href=\"link1.html\">first item</a></li>\n",
    "         <li class=\"item-1\"><a href=\"link2.html\">second item</a></li>\n",
    "         <li class=\"item-inactive\"><a href=\"link3.html\">third item</a></li>\n",
    "         <li class=\"item-1\"><a href=\"link4.html\">fourth item</a></li>\n",
    "         <li class=\"item-0\"><a href=\"link5.html\">fifth item</a>\n",
    "     </ul>\n",
    " </div>\n",
    "'''\n",
    "html = etree.HTML(text)"
   ]
  },
  {
   "cell_type": "code",
   "execution_count": 107,
   "metadata": {},
   "outputs": [
    {
     "data": {
      "text/plain": [
       "['first item']"
      ]
     },
     "execution_count": 107,
     "metadata": {},
     "output_type": "execute_result"
    }
   ],
   "source": [
    "html.xpath('//li[1]/a/text()')"
   ]
  },
  {
   "cell_type": "code",
   "execution_count": 108,
   "metadata": {},
   "outputs": [
    {
     "data": {
      "text/plain": [
       "['fifth item']"
      ]
     },
     "execution_count": 108,
     "metadata": {},
     "output_type": "execute_result"
    }
   ],
   "source": [
    "html.xpath('//li[last()]/a/text()')"
   ]
  },
  {
   "cell_type": "code",
   "execution_count": 109,
   "metadata": {},
   "outputs": [
    {
     "data": {
      "text/plain": [
       "['first item', 'second item']"
      ]
     },
     "execution_count": 109,
     "metadata": {},
     "output_type": "execute_result"
    }
   ],
   "source": [
    "html.xpath('//li[position()<3]/a/text()')"
   ]
  },
  {
   "cell_type": "code",
   "execution_count": 110,
   "metadata": {},
   "outputs": [
    {
     "data": {
      "text/plain": [
       "['third item']"
      ]
     },
     "execution_count": 110,
     "metadata": {},
     "output_type": "execute_result"
    }
   ],
   "source": [
    "html.xpath('//li[last()-2]/a/text()')"
   ]
  },
  {
   "cell_type": "code",
   "execution_count": 111,
   "metadata": {},
   "outputs": [],
   "source": [
    "# 节点轴选择"
   ]
  },
  {
   "cell_type": "code",
   "execution_count": 114,
   "metadata": {},
   "outputs": [
    {
     "data": {
      "text/plain": [
       "[<Element html at 0x7f6ce420aa08>,\n",
       " <Element body at 0x7f6ce42104c8>,\n",
       " <Element div at 0x7f6ce42101c8>,\n",
       " <Element ul at 0x7f6ce42105c8>]"
      ]
     },
     "execution_count": 114,
     "metadata": {},
     "output_type": "execute_result"
    }
   ],
   "source": [
    "# 祖先节点\n",
    "html.xpath('//li[1]/ancestor::*')"
   ]
  },
  {
   "cell_type": "code",
   "execution_count": 115,
   "metadata": {},
   "outputs": [
    {
     "data": {
      "text/plain": [
       "[<Element div at 0x7f6ce42101c8>]"
      ]
     },
     "execution_count": 115,
     "metadata": {},
     "output_type": "execute_result"
    }
   ],
   "source": [
    "html.xpath('//li[1]/ancestor::div')"
   ]
  },
  {
   "cell_type": "code",
   "execution_count": 116,
   "metadata": {},
   "outputs": [
    {
     "data": {
      "text/plain": [
       "['item-0']"
      ]
     },
     "execution_count": 116,
     "metadata": {},
     "output_type": "execute_result"
    }
   ],
   "source": [
    "# 所有属性\n",
    "html.xpath('//li[1]/attribute::*')"
   ]
  },
  {
   "cell_type": "code",
   "execution_count": 117,
   "metadata": {},
   "outputs": [
    {
     "data": {
      "text/plain": [
       "[<Element a at 0x7f6ce4210208>]"
      ]
     },
     "execution_count": 117,
     "metadata": {},
     "output_type": "execute_result"
    }
   ],
   "source": [
    "# 直接子节点\n",
    "html.xpath('//li[1]/child::*')"
   ]
  },
  {
   "cell_type": "code",
   "execution_count": 118,
   "metadata": {},
   "outputs": [
    {
     "data": {
      "text/plain": [
       "[<Element a at 0x7f6ce4210208>]"
      ]
     },
     "execution_count": 118,
     "metadata": {},
     "output_type": "execute_result"
    }
   ],
   "source": [
    "# 子孙节点\n",
    "html.xpath('//li[1]/descendant::*')"
   ]
  },
  {
   "cell_type": "code",
   "execution_count": 120,
   "metadata": {},
   "outputs": [
    {
     "data": {
      "text/plain": [
       "[<Element li at 0x7f6ce427d948>,\n",
       " <Element a at 0x7f6ce4210408>,\n",
       " <Element li at 0x7f6ce427d1c8>,\n",
       " <Element a at 0x7f6ce420ad48>,\n",
       " <Element li at 0x7f6ce4274e88>,\n",
       " <Element a at 0x7f6ce4274fc8>,\n",
       " <Element li at 0x7f6ce42741c8>,\n",
       " <Element a at 0x7f6ce4210288>]"
      ]
     },
     "execution_count": 120,
     "metadata": {},
     "output_type": "execute_result"
    }
   ],
   "source": [
    "# 后续节点\n",
    "html.xpath('//li[1]/following::*')"
   ]
  },
  {
   "cell_type": "code",
   "execution_count": 123,
   "metadata": {},
   "outputs": [
    {
     "data": {
      "text/plain": [
       "[<Element li at 0x7f6ce427d948>,\n",
       " <Element li at 0x7f6ce427d1c8>,\n",
       " <Element li at 0x7f6ce4274e88>,\n",
       " <Element li at 0x7f6ce42741c8>]"
      ]
     },
     "execution_count": 123,
     "metadata": {},
     "output_type": "execute_result"
    }
   ],
   "source": [
    "# 后续同级节点\n",
    "html.xpath('//li[1]/following-sibling::*')\n"
   ]
  }
 ],
 "metadata": {
  "kernelspec": {
   "display_name": "Python 3",
   "language": "python",
   "name": "python3"
  },
  "language_info": {
   "codemirror_mode": {
    "name": "ipython",
    "version": 3
   },
   "file_extension": ".py",
   "mimetype": "text/x-python",
   "name": "python",
   "nbconvert_exporter": "python",
   "pygments_lexer": "ipython3",
   "version": "3.7.2"
  }
 },
 "nbformat": 4,
 "nbformat_minor": 2
}
