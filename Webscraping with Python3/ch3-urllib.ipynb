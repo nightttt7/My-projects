{
 "cells": [
  {
   "cell_type": "markdown",
   "metadata": {},
   "source": [
    "# urllib"
   ]
  },
  {
   "cell_type": "markdown",
   "metadata": {},
   "source": [
    "**入门: urlopen**"
   ]
  },
  {
   "cell_type": "code",
   "execution_count": 73,
   "metadata": {},
   "outputs": [
    {
     "data": {
      "text/plain": [
       "'<!doctype html>\\n<!--[if lt IE 7]>   <html class=\"no-js ie6 lt-ie7 lt-ie8 lt-ie9\">   <![endif]-->\\n<!--[if IE 7]>      <html class=\"no-js ie7 lt-ie8 lt-ie9\">          <![endif]-->\\n<!--[if IE 8]>      <h'"
      ]
     },
     "execution_count": 73,
     "metadata": {},
     "output_type": "execute_result"
    }
   ],
   "source": [
    "import urllib.request as req\n",
    "response = req.urlopen('https://www.python.org/')\n",
    "response.read().decode('utf-8')[:200]"
   ]
  },
  {
   "cell_type": "code",
   "execution_count": 13,
   "metadata": {},
   "outputs": [
    {
     "data": {
      "text/plain": [
       "http.client.HTTPResponse"
      ]
     },
     "execution_count": 13,
     "metadata": {},
     "output_type": "execute_result"
    }
   ],
   "source": [
    "type(response)"
   ]
  },
  {
   "cell_type": "code",
   "execution_count": 14,
   "metadata": {},
   "outputs": [
    {
     "data": {
      "text/plain": [
       "200"
      ]
     },
     "execution_count": 14,
     "metadata": {},
     "output_type": "execute_result"
    }
   ],
   "source": [
    "response.code"
   ]
  },
  {
   "cell_type": "code",
   "execution_count": 15,
   "metadata": {},
   "outputs": [
    {
     "data": {
      "text/plain": [
       "200"
      ]
     },
     "execution_count": 15,
     "metadata": {},
     "output_type": "execute_result"
    }
   ],
   "source": [
    "response.status"
   ]
  },
  {
   "cell_type": "code",
   "execution_count": 16,
   "metadata": {},
   "outputs": [
    {
     "data": {
      "text/plain": [
       "[('Server', 'nginx'),\n",
       " ('Content-Type', 'text/html; charset=utf-8'),\n",
       " ('X-Frame-Options', 'SAMEORIGIN')]"
      ]
     },
     "execution_count": 16,
     "metadata": {},
     "output_type": "execute_result"
    }
   ],
   "source": [
    "response.getheaders()[:3]"
   ]
  },
  {
   "cell_type": "code",
   "execution_count": 17,
   "metadata": {},
   "outputs": [
    {
     "data": {
      "text/plain": [
       "'nginx'"
      ]
     },
     "execution_count": 17,
     "metadata": {},
     "output_type": "execute_result"
    }
   ],
   "source": [
    "response.getheader('Server')"
   ]
  },
  {
   "cell_type": "code",
   "execution_count": 20,
   "metadata": {},
   "outputs": [],
   "source": [
    "import urllib.parse as par"
   ]
  },
  {
   "cell_type": "code",
   "execution_count": 21,
   "metadata": {},
   "outputs": [
    {
     "data": {
      "text/plain": [
       "b'{\\n  \"args\": {}, \\n  \"data\": \"\", \\n  \"files\": {}, \\n  \"form\": {\\n    \"word\": \"hello\"\\n  }, \\n  \"headers\": {\\n    \"Accept-Encoding\": \"identity\", \\n    \"Connection\": \"close\", \\n    \"Content-Length\": \"10\", \\n    \"Content-Type\": \"application/x-www-form-urlencoded\", \\n    \"Host\": \"httpbin.org\", \\n    \"User-Agent\": \"Python-urllib/3.6\"\\n  }, \\n  \"json\": null, \\n  \"origin\": \"3.120.235.86\", \\n  \"url\": \"http://httpbin.org/post\"\\n}\\n'"
      ]
     },
     "execution_count": 21,
     "metadata": {},
     "output_type": "execute_result"
    }
   ],
   "source": [
    "# arg: data\n",
    "\n",
    "# par.urlencode将参数字典转化为字符串\n",
    "data = bytes(par.urlencode({'word':'hello'}), encoding='utf-8')\n",
    "# 附带data的post请求(有data参数只能是post请求)\n",
    "response = req.urlopen('http://httpbin.org/post', data=data)\n",
    "response.read()"
   ]
  },
  {
   "cell_type": "code",
   "execution_count": 22,
   "metadata": {},
   "outputs": [
    {
     "data": {
      "text/plain": [
       "b'word=hello'"
      ]
     },
     "execution_count": 22,
     "metadata": {},
     "output_type": "execute_result"
    }
   ],
   "source": [
    "data"
   ]
  },
  {
   "cell_type": "code",
   "execution_count": 25,
   "metadata": {},
   "outputs": [
    {
     "data": {
      "text/plain": [
       "b'{\\n  \"args\": {}, \\n  \"headers\": {\\n    \"Accept-Encoding\": \"identity\", \\n    \"Connection\": \"close\", \\n    \"Host\": \"httpbin.org\", \\n    \"User-Agent\": \"Python-urllib/3.6\"\\n  }, \\n  \"origin\": \"3.120.235.86\", \\n  \"url\": \"http://httpbin.org/get\"\\n}\\n'"
      ]
     },
     "execution_count": 25,
     "metadata": {},
     "output_type": "execute_result"
    }
   ],
   "source": [
    "# arg: timeout\n",
    "response = req.urlopen('http://httpbin.org/get', timeout=1)\n",
    "response.read()"
   ]
  },
  {
   "cell_type": "code",
   "execution_count": 32,
   "metadata": {},
   "outputs": [],
   "source": [
    "# when timeout jump\n",
    "import socket\n",
    "import urllib.error"
   ]
  },
  {
   "cell_type": "code",
   "execution_count": 46,
   "metadata": {},
   "outputs": [
    {
     "name": "stdout",
     "output_type": "stream",
     "text": [
      "time out\n"
     ]
    }
   ],
   "source": [
    "try:\n",
    "    response = req.urlopen('http://httpbin.org/get', timeout=0.01)\n",
    "except urllib.error.URLError as e:\n",
    "    if isinstance(e.reason, socket.timeout):\n",
    "        print('time out')\n",
    "# timeout"
   ]
  },
  {
   "cell_type": "markdown",
   "metadata": {},
   "source": [
    "**请求: request**"
   ]
  },
  {
   "cell_type": "code",
   "execution_count": 47,
   "metadata": {},
   "outputs": [],
   "source": [
    "# complex request\n",
    "url = 'http://httpbin.org/post'\n",
    "headers = {\n",
    "    # firefox's User-Agent\n",
    "    'User-Agent': 'Mozilla/5.0 (X11; U; Linux i686) Gecko/20071127 Firefox/2.0.0.11',\n",
    "    # 域\n",
    "    'Host': 'httpbin.org'\n",
    "}"
   ]
  },
  {
   "cell_type": "code",
   "execution_count": 49,
   "metadata": {},
   "outputs": [],
   "source": [
    "dict = {\n",
    "    'name': 'Germey'\n",
    "}\n",
    "data = bytes(par.urlencode(dict), encoding='utf8')"
   ]
  },
  {
   "cell_type": "code",
   "execution_count": 52,
   "metadata": {},
   "outputs": [],
   "source": [
    "myreq = req.Request(url=url, data=data, headers=headers, method='POST')\n",
    "response = req.urlopen(myreq)\n",
    "result = response.read().decode('utf-8')"
   ]
  },
  {
   "cell_type": "code",
   "execution_count": 53,
   "metadata": {},
   "outputs": [
    {
     "data": {
      "text/plain": [
       "{'args': {},\n",
       " 'data': '',\n",
       " 'files': {},\n",
       " 'form': {'name': 'Germey'},\n",
       " 'headers': {'Accept-Encoding': 'identity',\n",
       "  'Connection': 'close',\n",
       "  'Content-Length': '11',\n",
       "  'Content-Type': 'application/x-www-form-urlencoded',\n",
       "  'Host': 'httpbin.org',\n",
       "  'User-Agent': 'Mozilla/5.0 (X11; U; Linux i686) Gecko/20071127 Firefox/2.0.0.11'},\n",
       " 'json': None,\n",
       " 'origin': '3.120.235.86',\n",
       " 'url': 'http://httpbin.org/post'}"
      ]
     },
     "execution_count": 53,
     "metadata": {},
     "output_type": "execute_result"
    }
   ],
   "source": [
    "import json\n",
    "json.loads(result)\n",
    "# problem: null changed to None"
   ]
  },
  {
   "cell_type": "code",
   "execution_count": 57,
   "metadata": {},
   "outputs": [
    {
     "data": {
      "text/plain": [
       "{'args': {},\n",
       " 'data': '',\n",
       " 'files': {},\n",
       " 'form': {'name': 'Germey'},\n",
       " 'headers': {'Accept-Encoding': 'identity',\n",
       "  'Connection': 'close',\n",
       "  'Content-Length': '11',\n",
       "  'Content-Type': 'application/x-www-form-urlencoded',\n",
       "  'Host': 'httpbin.org',\n",
       "  'User-Agent': 'Mozilla/4.0 (compatible; MSIE 5.5; Windows NT)'},\n",
       " 'json': None,\n",
       " 'origin': '3.120.235.86',\n",
       " 'url': 'http://httpbin.org/post'}"
      ]
     },
     "execution_count": 57,
     "metadata": {},
     "output_type": "execute_result"
    }
   ],
   "source": [
    "# use add_header method\n",
    "myreq = req.Request(url=url, data=data, method='POST')\n",
    "myreq.add_header('User-Agent', 'Mozilla/4.0 (compatible; MSIE 5.5; Windows NT)')\n",
    "json.loads(req.urlopen(myreq).read().decode('utf-8'))"
   ]
  },
  {
   "cell_type": "markdown",
   "metadata": {},
   "source": [
    "**urllib.request.BaseHandler**"
   ]
  },
  {
   "cell_type": "code",
   "execution_count": 61,
   "metadata": {},
   "outputs": [],
   "source": [
    "# 处理cookies\n",
    "\n",
    "# 获取cookie\n",
    "import http.cookiejar\n",
    "\n",
    "cookie = http.cookiejar.CookieJar()\n",
    "handler = req.HTTPCookieProcessor(cookie)\n",
    "opener = req.build_opener(handler)\n",
    "response = opener.open('http://www.baidu.com')"
   ]
  },
  {
   "cell_type": "code",
   "execution_count": 65,
   "metadata": {},
   "outputs": [
    {
     "data": {
      "text/plain": [
       "<CookieJar[Cookie(version=0, name='BAIDUID', value='998BE1D22DA99B5C5DA6E02755BECF8B:FG=1', port=None, port_specified=False, domain='.baidu.com', domain_specified=True, domain_initial_dot=True, path='/', path_specified=True, secure=False, expires=3693420275, discard=False, comment=None, comment_url=None, rest={}, rfc2109=False), Cookie(version=0, name='BIDUPSID', value='998BE1D22DA99B5C5DA6E02755BECF8B', port=None, port_specified=False, domain='.baidu.com', domain_specified=True, domain_initial_dot=True, path='/', path_specified=True, secure=False, expires=3693420275, discard=False, comment=None, comment_url=None, rest={}, rfc2109=False), Cookie(version=0, name='H_PS_PSSID', value='1440_27216_21086_28205_28132_26350_27751_28140_22158', port=None, port_specified=False, domain='.baidu.com', domain_specified=True, domain_initial_dot=True, path='/', path_specified=True, secure=False, expires=None, discard=True, comment=None, comment_url=None, rest={}, rfc2109=False), Cookie(version=0, name='PSTM', value='1545936627', port=None, port_specified=False, domain='.baidu.com', domain_specified=True, domain_initial_dot=True, path='/', path_specified=True, secure=False, expires=3693420275, discard=False, comment=None, comment_url=None, rest={}, rfc2109=False), Cookie(version=0, name='delPer', value='0', port=None, port_specified=False, domain='.baidu.com', domain_specified=True, domain_initial_dot=True, path='/', path_specified=True, secure=False, expires=None, discard=True, comment=None, comment_url=None, rest={}, rfc2109=False), Cookie(version=0, name='BDSVRTM', value='0', port=None, port_specified=False, domain='www.baidu.com', domain_specified=False, domain_initial_dot=False, path='/', path_specified=True, secure=False, expires=None, discard=True, comment=None, comment_url=None, rest={}, rfc2109=False), Cookie(version=0, name='BD_HOME', value='0', port=None, port_specified=False, domain='www.baidu.com', domain_specified=False, domain_initial_dot=False, path='/', path_specified=True, secure=False, expires=None, discard=True, comment=None, comment_url=None, rest={}, rfc2109=False)]>"
      ]
     },
     "execution_count": 65,
     "metadata": {},
     "output_type": "execute_result"
    }
   ],
   "source": [
    "cookie\n",
    "# <CookieJar[]> 内有多个Cookie(), 拥有name,value等属性"
   ]
  },
  {
   "cell_type": "code",
   "execution_count": 67,
   "metadata": {},
   "outputs": [
    {
     "name": "stdout",
     "output_type": "stream",
     "text": [
      "BAIDUID                998BE1D22DA99B5C5DA6E02755BECF8B:FG=1\n",
      "BIDUPSID                998BE1D22DA99B5C5DA6E02755BECF8B\n",
      "H_PS_PSSID                1440_27216_21086_28205_28132_26350_27751_28140_22158\n",
      "PSTM                1545936627\n",
      "delPer                0\n",
      "BDSVRTM                0\n",
      "BD_HOME                0\n"
     ]
    }
   ],
   "source": [
    "for item in cookie:\n",
    "    print(item.name+\"                \"+item.value)"
   ]
  },
  {
   "cell_type": "code",
   "execution_count": 72,
   "metadata": {},
   "outputs": [],
   "source": [
    "# 保存为文本\n",
    "cookie = http.cookiejar.MozillaCookieJar('relatedfiles/cookietest')\n",
    "handler = req.HTTPCookieProcessor(cookie)\n",
    "opener = req.build_opener(handler)\n",
    "response = opener.open('http://www.baidu.com')\n",
    "\n",
    "cookie.save(ignore_discard=True, ignore_expires=True)"
   ]
  },
  {
   "cell_type": "code",
   "execution_count": 76,
   "metadata": {},
   "outputs": [],
   "source": [
    "# LWP格式: pass"
   ]
  },
  {
   "cell_type": "code",
   "execution_count": 75,
   "metadata": {},
   "outputs": [
    {
     "data": {
      "text/plain": [
       "'<!DOCTYPE html>\\n<!--STATUS OK-->\\n\\r\\n\\r\\n\\r\\n\\r\\n\\r\\n\\r\\n\\r\\n\\r\\n\\r\\n\\r\\n\\r\\n\\r\\n\\r\\n\\r\\n\\r\\n\\r\\n\\r\\n\\r\\n\\r\\n\\r\\n\\r\\n\\r\\n\\r\\n\\r\\n\\r\\n\\r\\n\\r\\n\\r\\n\\r\\n\\r\\n\\r\\n\\r\\n\\r\\n\\r\\n\\r\\n\\r\\n\\r\\n\\r\\n\\r\\n\\r\\n\\r\\n\\r\\n\\r\\n\\r\\n\\r\\n\\r\\n\\r\\n\\r\\n\\r\\n\\r\\n\\r\\n\\r\\n\\r\\n\\r\\n\\r\\n\\r\\n\\t\\r\\n\\r\\n\\r\\n\\r\\n\\r\\n\\r\\n\\r\\n\\r\\n\\r\\n\\r\\n\\r\\n\\r\\n\\r\\n\\r\\n\\r\\n\\r\\n\\r\\n\\r\\n\\r\\n\\r\\n\\r\\n\\r\\n\\r\\n\\r\\n\\r\\n\\r\\n\\r\\n\\r\\n\\r\\n\\r\\n\\r\\n\\r\\n\\r\\n\\t\\r\\n        \\r\\n\\t\\t\\t        \\r\\n\\t\\r\\n\\t\\t\\t        \\r\\n\\t\\r\\n\\t\\t\\t        \\r\\n\\t\\r\\n\\t\\t\\t        \\r\\n\\t\\t\\t    \\r\\n\\r\\n\\t\\r\\n'"
      ]
     },
     "execution_count": 75,
     "metadata": {},
     "output_type": "execute_result"
    }
   ],
   "source": [
    "# 使用cookie\n",
    "cookie.load('relatedfiles/cookietest', ignore_discard=True, ignore_expires=True)\n",
    "handler = urllib.request.HTTPCookieProcessor(cookie)\n",
    "opener = urllib.request.build_opener(handler)\n",
    "response = opener.open('http://www.baidu.com')\n",
    "response.read().decode('utf-8')[:300]"
   ]
  },
  {
   "cell_type": "markdown",
   "metadata": {},
   "source": [
    "**处理异常**"
   ]
  },
  {
   "cell_type": "code",
   "execution_count": 77,
   "metadata": {},
   "outputs": [],
   "source": [
    "from urllib import error, request"
   ]
  },
  {
   "cell_type": "code",
   "execution_count": 80,
   "metadata": {},
   "outputs": [
    {
     "name": "stdout",
     "output_type": "stream",
     "text": [
      "Not Found\n"
     ]
    }
   ],
   "source": [
    "# urlerror\n",
    "try:\n",
    "    res = request.urlopen('https://example.com/notexist.html')\n",
    "except error.URLError as e:\n",
    "    print(e.reason)"
   ]
  },
  {
   "cell_type": "code",
   "execution_count": 82,
   "metadata": {},
   "outputs": [
    {
     "name": "stdout",
     "output_type": "stream",
     "text": [
      "Not Found\n",
      "404\n",
      "Accept-Ranges: bytes\n",
      "Cache-Control: max-age=604800\n",
      "Content-Type: text/html; charset=UTF-8\n",
      "Date: Thu, 27 Dec 2018 20:23:48 GMT\n",
      "Expires: Thu, 03 Jan 2019 20:23:48 GMT\n",
      "Last-Modified: Thu, 27 Dec 2018 20:19:00 GMT\n",
      "Server: ECS (dca/2495)\n",
      "Vary: Accept-Encoding\n",
      "X-Cache: 404-HIT\n",
      "Content-Length: 1270\n",
      "Connection: close\n",
      "\n",
      "\n"
     ]
    }
   ],
   "source": [
    "# httperror (urlerror's son-class) \n",
    "try:\n",
    "    res = request.urlopen('https://example.com/notexist.html')\n",
    "except error.HTTPError as e:\n",
    "    print(e.reason, e.code, e.headers, sep='\\n')"
   ]
  },
  {
   "cell_type": "code",
   "execution_count": 84,
   "metadata": {},
   "outputs": [
    {
     "name": "stdout",
     "output_type": "stream",
     "text": [
      "succed\n"
     ]
    }
   ],
   "source": [
    "# better code\n",
    "try:\n",
    "    res = request.urlopen('https://example.com/index.html')\n",
    "except error.HTTPError  as e:\n",
    "    print(e.reason, e.code, e.headers, sep='\\n')\n",
    "except error.URLError as e:\n",
    "    print(e.reason)\n",
    "else:\n",
    "    print('succed')"
   ]
  },
  {
   "cell_type": "code",
   "execution_count": 85,
   "metadata": {},
   "outputs": [
    {
     "name": "stdout",
     "output_type": "stream",
     "text": [
      "<class 'socket.timeout'>\n",
      "TIME OUT\n"
     ]
    }
   ],
   "source": [
    "# 返回一个对象而不是字符串\n",
    "try:\n",
    "    response = request.urlopen('https://www.baidu.com', timeout=0.01)\n",
    "except error.URLError as e:\n",
    "    print(type(e.reason))\n",
    "    if isinstance(e.reason, socket.timeout):\n",
    "        print('TIME OUT')"
   ]
  },
  {
   "cell_type": "markdown",
   "metadata": {},
   "source": [
    "**解析链接**"
   ]
  },
  {
   "cell_type": "code",
   "execution_count": 89,
   "metadata": {},
   "outputs": [
    {
     "data": {
      "text/plain": [
       "ParseResult(scheme='https', netloc='tianchi.aliyun.com', path='/user/myGitlab.htm', params='', query='spm=5176.100150.0.0.791f2009FtTxRl', fragment='')"
      ]
     },
     "execution_count": 89,
     "metadata": {},
     "output_type": "execute_result"
    }
   ],
   "source": [
    "# url的识别和分段: urlparse()\n",
    "from urllib import parse\n",
    "parse.urlparse('https://tianchi.aliyun.com/user/myGitlab.htm?spm=5176.100150.0.0.791f2009FtTxRl')\n",
    "# scheme: 协议\n",
    "# netloc: 域名\n",
    "# path\n",
    "# params\n",
    "# query: 用于get类型的url\n",
    "# frament: #\n",
    "# 标准的链接格式\n",
    "# scheme://netloc/path;params?query#frament"
   ]
  },
  {
   "cell_type": "code",
   "execution_count": 92,
   "metadata": {},
   "outputs": [
    {
     "data": {
      "text/plain": [
       "'https://tianchi.aliyun.com/user/myGitlab.htm?spm=5176.100150.0.0.791f2009FtTxRl'"
      ]
     },
     "execution_count": 92,
     "metadata": {},
     "output_type": "execute_result"
    }
   ],
   "source": [
    "# urlunparse()\n",
    "parse.urlunparse(['https','tianchi.aliyun.com','user/myGitlab.htm','','spm=5176.100150.0.0.791f2009FtTxRl',''])"
   ]
  },
  {
   "cell_type": "code",
   "execution_count": 95,
   "metadata": {},
   "outputs": [
    {
     "data": {
      "text/plain": [
       "SplitResult(scheme='https', netloc='tianchi.aliyun.com', path='/user/myGitlab.htm', query='spm=5176.100150.0.0.791f2009FtTxRl', fragment='')"
      ]
     },
     "execution_count": 95,
     "metadata": {},
     "output_type": "execute_result"
    }
   ],
   "source": [
    "# urlsplit & urlunsplit: params包含在path中\n",
    "parse.urlsplit('https://tianchi.aliyun.com/user/myGitlab.htm?spm=5176.100150.0.0.791f2009FtTxRl')"
   ]
  },
  {
   "cell_type": "code",
   "execution_count": 96,
   "metadata": {},
   "outputs": [
    {
     "data": {
      "text/plain": [
       "'https://tianchi.aliyun.com/user/myGitlab.htm?spm=5176.100150.0.0.791f2009FtTxRl'"
      ]
     },
     "execution_count": 96,
     "metadata": {},
     "output_type": "execute_result"
    }
   ],
   "source": [
    "parse.urlunsplit(['https','tianchi.aliyun.com','user/myGitlab.htm','spm=5176.100150.0.0.791f2009FtTxRl',''])"
   ]
  },
  {
   "cell_type": "code",
   "execution_count": 99,
   "metadata": {},
   "outputs": [
    {
     "data": {
      "text/plain": [
       "'http://www.baidu.com/FAQ.html'"
      ]
     },
     "execution_count": 99,
     "metadata": {},
     "output_type": "execute_result"
    }
   ],
   "source": [
    "# urljoin\n",
    "# par2 补充 par1, par1可选scheme,netloc和path\n",
    "parse.urljoin('http://www.baidu.com', 'FAQ.html')"
   ]
  },
  {
   "cell_type": "code",
   "execution_count": 101,
   "metadata": {},
   "outputs": [
    {
     "data": {
      "text/plain": [
       "'https://cuiqingcai.com/FAQ.html'"
      ]
     },
     "execution_count": 101,
     "metadata": {},
     "output_type": "execute_result"
    }
   ],
   "source": [
    "# par2包含的部分会覆盖par1\n",
    "parse.urljoin('http://www.baidu.com', 'https://cuiqingcai.com/FAQ.html')"
   ]
  },
  {
   "cell_type": "code",
   "execution_count": 107,
   "metadata": {},
   "outputs": [
    {
     "data": {
      "text/plain": [
       "'http://www.baidu.com?name=germey&age=22'"
      ]
     },
     "execution_count": 107,
     "metadata": {},
     "output_type": "execute_result"
    }
   ],
   "source": [
    "# urlencode: dict=>get par\n",
    "params = {\n",
    "    'name': 'germey',\n",
    "    'age': 22\n",
    "}\n",
    "base_url = 'http://www.baidu.com?'\n",
    "url = base_url + parse.urlencode(params)\n",
    "url"
   ]
  },
  {
   "cell_type": "code",
   "execution_count": 112,
   "metadata": {},
   "outputs": [
    {
     "data": {
      "text/plain": [
       "{'name': ['germey'], 'age': ['22']}"
      ]
     },
     "execution_count": 112,
     "metadata": {},
     "output_type": "execute_result"
    }
   ],
   "source": [
    "# parse_qs urlencode逆向\n",
    "parse.parse_qs(parse.urlsplit(url).query)"
   ]
  },
  {
   "cell_type": "code",
   "execution_count": 113,
   "metadata": {},
   "outputs": [
    {
     "data": {
      "text/plain": [
       "[('name', 'germey'), ('age', '22')]"
      ]
     },
     "execution_count": 113,
     "metadata": {},
     "output_type": "execute_result"
    }
   ],
   "source": [
    "# parse_qsl =>list\n",
    "parse.parse_qsl(parse.urlsplit(url).query)"
   ]
  },
  {
   "cell_type": "code",
   "execution_count": 115,
   "metadata": {},
   "outputs": [
    {
     "data": {
      "text/plain": [
       "'https\"//www.baidu.com/s?wd=%E4%B8%AD%E6%96%87'"
      ]
     },
     "execution_count": 115,
     "metadata": {},
     "output_type": "execute_result"
    }
   ],
   "source": [
    "# unicode => urlcode\n",
    "# quote()\n",
    "url = 'https\"//www.baidu.com/s?wd=' + parse.quote('中文')\n",
    "url"
   ]
  },
  {
   "cell_type": "code",
   "execution_count": 121,
   "metadata": {},
   "outputs": [
    {
     "data": {
      "text/plain": [
       "{'ei': ['uUYlXNvuJIWQmgX884CgCw'],\n",
       " 'q': ['python3网络爬虫开发实战'],\n",
       " 'oq': ['python3网络爬虫开发实战'],\n",
       " 'gs_l': ['psy-ab.3..0i71l8.0.0..1784...0.0..0.0.0.......0......gws-wiz.e4qUIr993lc']}"
      ]
     },
     "execution_count": 121,
     "metadata": {},
     "output_type": "execute_result"
    }
   ],
   "source": [
    "# urlcode => unicode\n",
    "# unquote()\n",
    "a = parse.urlsplit('https://www.google.com/search?ei=uUYlXNvuJIWQmgX884CgCw&q=python3%E7%BD%91%E7%BB%9C%E7%88%AC%E8%99%AB%E5%BC%80%E5%8F%91%E5%AE%9E%E6%88%98&oq=python3%E7%BD%91%E7%BB%9C%E7%88%AC%E8%99%AB%E5%BC%80%E5%8F%91%E5%AE%9E%E6%88%98&gs_l=psy-ab.3..0i71l8.0.0..1784...0.0..0.0.0.......0......gws-wiz.e4qUIr993lc')\n",
    "b = parse.unquote(a.query)\n",
    "parse.parse_qs(b)"
   ]
  },
  {
   "cell_type": "markdown",
   "metadata": {},
   "source": [
    "# 分析Robots协议"
   ]
  },
  {
   "cell_type": "code",
   "execution_count": 130,
   "metadata": {},
   "outputs": [
    {
     "name": "stdout",
     "output_type": "stream",
     "text": [
      "False\n",
      "False\n"
     ]
    }
   ],
   "source": [
    "from urllib.robotparser import RobotFileParser\n",
    "\n",
    "# 也可直接使用 rp = RobotFileParser('http://www.jianshu.com/robots.txt')\n",
    "rp = RobotFileParser()\n",
    "rp.set_url('http://www.jianshu.com/robots.txt')\n",
    "# read: 执行读取操作\n",
    "rp.read()\n",
    "# 理论上这个是输出True的\n",
    "print(rp.can_fetch('*', 'https://www.jianshu.com/p/c65e78dc3d1d'))\n",
    "print(rp.can_fetch('*', \"http://www.jianshu.com/search?q=python&page=1&type=collections\"))"
   ]
  },
  {
   "cell_type": "markdown",
   "metadata": {},
   "source": [
    "http://www.jianshu.com/robots.txt 内容如下\n",
    "\n",
    "```\n",
    "User-agent: *\n",
    "Disallow: /search\n",
    "Disallow: /convos/\n",
    "Disallow: /notes/\n",
    "Disallow: /admin/\n",
    "Disallow: /adm/\n",
    "Disallow: /p/0826cf4692f9\n",
    "Disallow: /p/d8b31d20a867\n",
    "Disallow: /collections/*/recommended_authors\n",
    "Disallow: /trial/*\n",
    "Disallow: /keyword_notes\n",
    "Disallow: /stats-2017/*\n",
    "\n",
    "User-agent: trendkite-akashic-crawler\n",
    "Request-rate: 1/2 # load 1 page per 2 seconds\n",
    "Crawl-delay: 60\n",
    "\n",
    "User-agent: YisouSpider\n",
    "Request-rate: 1/10 # load 1 page per 10 seconds\n",
    "Crawl-delay: 60\n",
    "```"
   ]
  }
 ],
 "metadata": {
  "kernelspec": {
   "display_name": "Python 3",
   "language": "python",
   "name": "python3"
  },
  "language_info": {
   "codemirror_mode": {
    "name": "ipython",
    "version": 3
   },
   "file_extension": ".py",
   "mimetype": "text/x-python",
   "name": "python",
   "nbconvert_exporter": "python",
   "pygments_lexer": "ipython3",
   "version": "3.7.3"
  }
 },
 "nbformat": 4,
 "nbformat_minor": 2
}
