{
 "cells": [
  {
   "cell_type": "code",
   "execution_count": 1,
   "metadata": {},
   "outputs": [],
   "source": [
    "import numpy as np\n",
    "import pandas as pd\n",
    "import matplotlib.pyplot as plt\n",
    "from sklearn import linear_model\n",
    "from patsy import dmatrix\n",
    "%matplotlib inline\n",
    "\n",
    "import pylab \n",
    "import scipy.stats as stats"
   ]
  },
  {
   "cell_type": "code",
   "execution_count": 2,
   "metadata": {},
   "outputs": [],
   "source": [
    "ipos = pd.read_csv(\"ipo_data.csv\")"
   ]
  },
  {
   "cell_type": "code",
   "execution_count": 3,
   "metadata": {},
   "outputs": [],
   "source": [
    "# delete all the \"$\" sambols\n",
    "# ipos.applymap(lambda x: x if not \"$\" in str(x)else x.replace(\"$\",\"\"))\n",
    "ipos = ipos.applymap(lambda x: x if not \"$\" in str(x)else x.replace(\"$\",\"\"))"
   ]
  },
  {
   "cell_type": "code",
   "execution_count": 4,
   "metadata": {},
   "outputs": [],
   "source": [
    "# delete all the \"%\" sambols\n",
    "# ipos.applymap(lambda x: x if not \"%\" in str(x)else x.replace(\"%\",\"\"))\n",
    "ipos = ipos.applymap(lambda x: x if not \"%\" in str(x)else x.replace(\"%\",\"\"))"
   ]
  },
  {
   "cell_type": "code",
   "execution_count": 5,
   "metadata": {},
   "outputs": [
    {
     "data": {
      "text/html": [
       "<div>\n",
       "<style scoped>\n",
       "    .dataframe tbody tr th:only-of-type {\n",
       "        vertical-align: middle;\n",
       "    }\n",
       "\n",
       "    .dataframe tbody tr th {\n",
       "        vertical-align: top;\n",
       "    }\n",
       "\n",
       "    .dataframe thead th {\n",
       "        text-align: right;\n",
       "    }\n",
       "</style>\n",
       "<table border=\"1\" class=\"dataframe\">\n",
       "  <thead>\n",
       "    <tr style=\"text-align: right;\">\n",
       "      <th></th>\n",
       "      <th>Trade Date</th>\n",
       "      <th>Issuer</th>\n",
       "      <th>Symbol</th>\n",
       "      <th>Lead/Joint-Lead Managers</th>\n",
       "      <th>Offer Price</th>\n",
       "      <th>Opening Price</th>\n",
       "      <th>1st Day Close</th>\n",
       "      <th>1st Day % Px Chng</th>\n",
       "      <th>$ Change Opening</th>\n",
       "      <th>$ Change Close</th>\n",
       "      <th>Star Ratings</th>\n",
       "      <th>Performed</th>\n",
       "    </tr>\n",
       "  </thead>\n",
       "  <tbody>\n",
       "    <tr>\n",
       "      <th>0</th>\n",
       "      <td>1/8/19</td>\n",
       "      <td>MMTEC</td>\n",
       "      <td>MTC</td>\n",
       "      <td>WestPark Capital</td>\n",
       "      <td>4.00</td>\n",
       "      <td>5.91</td>\n",
       "      <td>7.55</td>\n",
       "      <td>88.75</td>\n",
       "      <td>1.91</td>\n",
       "      <td>3.55</td>\n",
       "      <td>N/C</td>\n",
       "      <td>NaN</td>\n",
       "    </tr>\n",
       "    <tr>\n",
       "      <th>1</th>\n",
       "      <td>1/29/19</td>\n",
       "      <td>Andina Acquisition Corp. III</td>\n",
       "      <td>ANDAU</td>\n",
       "      <td>Cowen/ Craig-Hallum Capital Group</td>\n",
       "      <td>10.00</td>\n",
       "      <td>10.00</td>\n",
       "      <td>10.01</td>\n",
       "      <td>0.10</td>\n",
       "      <td>0.00</td>\n",
       "      <td>0.01</td>\n",
       "      <td>1</td>\n",
       "      <td>NaN</td>\n",
       "    </tr>\n",
       "    <tr>\n",
       "      <th>2</th>\n",
       "      <td>1/30/19</td>\n",
       "      <td>PIMCO Energy &amp; Tactical Credit Opportunities Fund</td>\n",
       "      <td>NRGX</td>\n",
       "      <td>UBS Investment Bank/ BofA Merrill Lynch/ Morga...</td>\n",
       "      <td>20.00</td>\n",
       "      <td>20.00</td>\n",
       "      <td>20.20</td>\n",
       "      <td>1.00</td>\n",
       "      <td>0.00</td>\n",
       "      <td>0.20</td>\n",
       "      <td>1</td>\n",
       "      <td>NaN</td>\n",
       "    </tr>\n",
       "    <tr>\n",
       "      <th>3</th>\n",
       "      <td>1/31/19</td>\n",
       "      <td>New Fortress Energy</td>\n",
       "      <td>NFE</td>\n",
       "      <td>Morgan Stanley/ Barclays</td>\n",
       "      <td>14.00</td>\n",
       "      <td>13.25</td>\n",
       "      <td>13.07</td>\n",
       "      <td>-6.64</td>\n",
       "      <td>-0.75</td>\n",
       "      <td>-0.93</td>\n",
       "      <td>1</td>\n",
       "      <td>NaN</td>\n",
       "    </tr>\n",
       "    <tr>\n",
       "      <th>4</th>\n",
       "      <td>1/31/19</td>\n",
       "      <td>Pivotal Acquisition</td>\n",
       "      <td>PVT.U</td>\n",
       "      <td>Cantor</td>\n",
       "      <td>10.00</td>\n",
       "      <td>10.05</td>\n",
       "      <td>10.10</td>\n",
       "      <td>1.00</td>\n",
       "      <td>0.05</td>\n",
       "      <td>0.10</td>\n",
       "      <td>1</td>\n",
       "      <td>NaN</td>\n",
       "    </tr>\n",
       "  </tbody>\n",
       "</table>\n",
       "</div>"
      ],
      "text/plain": [
       "  Trade Date                                             Issuer Symbol  \\\n",
       "0     1/8/19                                              MMTEC    MTC   \n",
       "1    1/29/19                       Andina Acquisition Corp. III  ANDAU   \n",
       "2    1/30/19  PIMCO Energy & Tactical Credit Opportunities Fund   NRGX   \n",
       "3    1/31/19                                New Fortress Energy    NFE   \n",
       "4    1/31/19                                Pivotal Acquisition  PVT.U   \n",
       "\n",
       "                            Lead/Joint-Lead Managers Offer Price  \\\n",
       "0                                   WestPark Capital        4.00   \n",
       "1                  Cowen/ Craig-Hallum Capital Group       10.00   \n",
       "2  UBS Investment Bank/ BofA Merrill Lynch/ Morga...       20.00   \n",
       "3                           Morgan Stanley/ Barclays       14.00   \n",
       "4                                             Cantor       10.00   \n",
       "\n",
       "  Opening Price 1st Day Close 1st Day % Px Chng $ Change Opening  \\\n",
       "0          5.91          7.55             88.75             1.91   \n",
       "1         10.00         10.01              0.10             0.00   \n",
       "2         20.00         20.20              1.00             0.00   \n",
       "3         13.25         13.07             -6.64            -0.75   \n",
       "4         10.05         10.10              1.00             0.05   \n",
       "\n",
       "  $ Change Close Star Ratings Performed  \n",
       "0           3.55          N/C       NaN  \n",
       "1           0.01            1       NaN  \n",
       "2           0.20            1       NaN  \n",
       "3          -0.93            1       NaN  \n",
       "4           0.10            1       NaN  "
      ]
     },
     "execution_count": 5,
     "metadata": {},
     "output_type": "execute_result"
    }
   ],
   "source": [
    "ipos[:5]"
   ]
  },
  {
   "cell_type": "code",
   "execution_count": 6,
   "metadata": {},
   "outputs": [
    {
     "name": "stdout",
     "output_type": "stream",
     "text": [
      "<class 'pandas.core.frame.DataFrame'>\n",
      "RangeIndex: 3232 entries, 0 to 3231\n",
      "Data columns (total 12 columns):\n",
      "Trade Date                  3232 non-null object\n",
      "Issuer                      3232 non-null object\n",
      "Symbol                      3232 non-null object\n",
      "Lead/Joint-Lead Managers    3232 non-null object\n",
      "Offer Price                 3230 non-null object\n",
      "Opening Price               3230 non-null object\n",
      "1st Day Close               3231 non-null object\n",
      "1st Day % Px Chng           3229 non-null object\n",
      "$ Change Opening            3230 non-null object\n",
      "$ Change Close              3230 non-null object\n",
      "Star Ratings                3230 non-null object\n",
      "Performed                   371 non-null object\n",
      "dtypes: object(12)\n",
      "memory usage: 303.1+ KB\n"
     ]
    }
   ],
   "source": [
    "ipos.info()"
   ]
  },
  {
   "cell_type": "code",
   "execution_count": 7,
   "metadata": {},
   "outputs": [],
   "source": [
    "ipos.replace('N/C',0, inplace=True)"
   ]
  },
  {
   "cell_type": "code",
   "execution_count": 8,
   "metadata": {},
   "outputs": [],
   "source": [
    "ipos['Trade Date'] = pd.to_datetime(ipos['Trade Date'])\n",
    "ipos['Offer Price'] = ipos['Offer Price'].astype('float')\n",
    "ipos['Opening Price'] = ipos['Opening Price'].astype('float')\n",
    "ipos['1st Day Close'] = ipos['1st Day Close'].astype('float')\n",
    "ipos['1st Day % Px Chng'] = ipos['1st Day % Px Chng'].astype('float')\n",
    "ipos['$ Change Close'] = ipos['$ Change Close'].astype('float')\n",
    "ipos['$ Change Opening'] = ipos['$ Change Opening'].astype('float')\n",
    "ipos['Star Ratings'] = ipos['Star Ratings'].astype('float')"
   ]
  },
  {
   "cell_type": "code",
   "execution_count": 9,
   "metadata": {},
   "outputs": [
    {
     "data": {
      "text/html": [
       "<div>\n",
       "<style scoped>\n",
       "    .dataframe tbody tr th:only-of-type {\n",
       "        vertical-align: middle;\n",
       "    }\n",
       "\n",
       "    .dataframe tbody tr th {\n",
       "        vertical-align: top;\n",
       "    }\n",
       "\n",
       "    .dataframe thead th {\n",
       "        text-align: right;\n",
       "    }\n",
       "</style>\n",
       "<table border=\"1\" class=\"dataframe\">\n",
       "  <thead>\n",
       "    <tr style=\"text-align: right;\">\n",
       "      <th></th>\n",
       "      <th>Trade Date</th>\n",
       "      <th>Issuer</th>\n",
       "      <th>Symbol</th>\n",
       "      <th>Lead/Joint-Lead Managers</th>\n",
       "      <th>Offer Price</th>\n",
       "      <th>Opening Price</th>\n",
       "      <th>1st Day Close</th>\n",
       "      <th>1st Day % Px Chng</th>\n",
       "      <th>$ Change Opening</th>\n",
       "      <th>$ Change Close</th>\n",
       "      <th>Star Ratings</th>\n",
       "      <th>Performed</th>\n",
       "    </tr>\n",
       "  </thead>\n",
       "  <tbody>\n",
       "    <tr>\n",
       "      <th>0</th>\n",
       "      <td>2019-01-08</td>\n",
       "      <td>MMTEC</td>\n",
       "      <td>MTC</td>\n",
       "      <td>WestPark Capital</td>\n",
       "      <td>4.0</td>\n",
       "      <td>5.91</td>\n",
       "      <td>7.55</td>\n",
       "      <td>88.75</td>\n",
       "      <td>1.91</td>\n",
       "      <td>3.55</td>\n",
       "      <td>0.0</td>\n",
       "      <td>NaN</td>\n",
       "    </tr>\n",
       "    <tr>\n",
       "      <th>1</th>\n",
       "      <td>2019-01-29</td>\n",
       "      <td>Andina Acquisition Corp. III</td>\n",
       "      <td>ANDAU</td>\n",
       "      <td>Cowen/ Craig-Hallum Capital Group</td>\n",
       "      <td>10.0</td>\n",
       "      <td>10.00</td>\n",
       "      <td>10.01</td>\n",
       "      <td>0.10</td>\n",
       "      <td>0.00</td>\n",
       "      <td>0.01</td>\n",
       "      <td>1.0</td>\n",
       "      <td>NaN</td>\n",
       "    </tr>\n",
       "    <tr>\n",
       "      <th>2</th>\n",
       "      <td>2019-01-30</td>\n",
       "      <td>PIMCO Energy &amp; Tactical Credit Opportunities Fund</td>\n",
       "      <td>NRGX</td>\n",
       "      <td>UBS Investment Bank/ BofA Merrill Lynch/ Morga...</td>\n",
       "      <td>20.0</td>\n",
       "      <td>20.00</td>\n",
       "      <td>20.20</td>\n",
       "      <td>1.00</td>\n",
       "      <td>0.00</td>\n",
       "      <td>0.20</td>\n",
       "      <td>1.0</td>\n",
       "      <td>NaN</td>\n",
       "    </tr>\n",
       "    <tr>\n",
       "      <th>3</th>\n",
       "      <td>2019-01-31</td>\n",
       "      <td>New Fortress Energy</td>\n",
       "      <td>NFE</td>\n",
       "      <td>Morgan Stanley/ Barclays</td>\n",
       "      <td>14.0</td>\n",
       "      <td>13.25</td>\n",
       "      <td>13.07</td>\n",
       "      <td>-6.64</td>\n",
       "      <td>-0.75</td>\n",
       "      <td>-0.93</td>\n",
       "      <td>1.0</td>\n",
       "      <td>NaN</td>\n",
       "    </tr>\n",
       "    <tr>\n",
       "      <th>4</th>\n",
       "      <td>2019-01-31</td>\n",
       "      <td>Pivotal Acquisition</td>\n",
       "      <td>PVT.U</td>\n",
       "      <td>Cantor</td>\n",
       "      <td>10.0</td>\n",
       "      <td>10.05</td>\n",
       "      <td>10.10</td>\n",
       "      <td>1.00</td>\n",
       "      <td>0.05</td>\n",
       "      <td>0.10</td>\n",
       "      <td>1.0</td>\n",
       "      <td>NaN</td>\n",
       "    </tr>\n",
       "  </tbody>\n",
       "</table>\n",
       "</div>"
      ],
      "text/plain": [
       "  Trade Date                                             Issuer Symbol  \\\n",
       "0 2019-01-08                                              MMTEC    MTC   \n",
       "1 2019-01-29                       Andina Acquisition Corp. III  ANDAU   \n",
       "2 2019-01-30  PIMCO Energy & Tactical Credit Opportunities Fund   NRGX   \n",
       "3 2019-01-31                                New Fortress Energy    NFE   \n",
       "4 2019-01-31                                Pivotal Acquisition  PVT.U   \n",
       "\n",
       "                            Lead/Joint-Lead Managers  Offer Price  \\\n",
       "0                                   WestPark Capital          4.0   \n",
       "1                  Cowen/ Craig-Hallum Capital Group         10.0   \n",
       "2  UBS Investment Bank/ BofA Merrill Lynch/ Morga...         20.0   \n",
       "3                           Morgan Stanley/ Barclays         14.0   \n",
       "4                                             Cantor         10.0   \n",
       "\n",
       "   Opening Price  1st Day Close  1st Day % Px Chng  $ Change Opening  \\\n",
       "0           5.91           7.55              88.75              1.91   \n",
       "1          10.00          10.01               0.10              0.00   \n",
       "2          20.00          20.20               1.00              0.00   \n",
       "3          13.25          13.07              -6.64             -0.75   \n",
       "4          10.05          10.10               1.00              0.05   \n",
       "\n",
       "   $ Change Close  Star Ratings Performed  \n",
       "0            3.55           0.0       NaN  \n",
       "1            0.01           1.0       NaN  \n",
       "2            0.20           1.0       NaN  \n",
       "3           -0.93           1.0       NaN  \n",
       "4            0.10           1.0       NaN  "
      ]
     },
     "execution_count": 9,
     "metadata": {},
     "output_type": "execute_result"
    }
   ],
   "source": [
    "ipos[:5]"
   ]
  },
  {
   "cell_type": "code",
   "execution_count": 10,
   "metadata": {},
   "outputs": [
    {
     "name": "stdout",
     "output_type": "stream",
     "text": [
      "<class 'pandas.core.frame.DataFrame'>\n",
      "RangeIndex: 3232 entries, 0 to 3231\n",
      "Data columns (total 12 columns):\n",
      "Trade Date                  3232 non-null datetime64[ns]\n",
      "Issuer                      3232 non-null object\n",
      "Symbol                      3232 non-null object\n",
      "Lead/Joint-Lead Managers    3232 non-null object\n",
      "Offer Price                 3230 non-null float64\n",
      "Opening Price               3230 non-null float64\n",
      "1st Day Close               3231 non-null float64\n",
      "1st Day % Px Chng           3229 non-null float64\n",
      "$ Change Opening            3230 non-null float64\n",
      "$ Change Close              3230 non-null float64\n",
      "Star Ratings                3230 non-null float64\n",
      "Performed                   371 non-null object\n",
      "dtypes: datetime64[ns](1), float64(7), object(4)\n",
      "memory usage: 303.1+ KB\n"
     ]
    }
   ],
   "source": [
    "ipos.info()"
   ]
  },
  {
   "cell_type": "code",
   "execution_count": 11,
   "metadata": {},
   "outputs": [
    {
     "data": {
      "text/plain": [
       "<matplotlib.axes._subplots.AxesSubplot at 0x7f7355fb6ac8>"
      ]
     },
     "execution_count": 11,
     "metadata": {},
     "output_type": "execute_result"
    },
    {
     "data": {
      "image/png": "[encoded data removed]",
      "text/plain": [
       "<Figure size 432x288 with 1 Axes>"
      ]
     },
     "metadata": {
      "needs_background": "light"
     },
     "output_type": "display_data"
    }
   ],
   "source": [
    "ipos.groupby(ipos['Trade Date'].dt.year)['1st Day % Px Chng'].mean().plot(kind='bar', title=\"mean 1st Day % Px Chng\")"
   ]
  },
  {
   "cell_type": "code",
   "execution_count": 12,
   "metadata": {},
   "outputs": [
    {
     "data": {
      "text/plain": [
       "<matplotlib.axes._subplots.AxesSubplot at 0x7f7353d15128>"
      ]
     },
     "execution_count": 12,
     "metadata": {},
     "output_type": "execute_result"
    },
    {
     "data": {
      "image/png": "[encoded data removed]",
      "text/plain": [
       "<Figure size 432x288 with 1 Axes>"
      ]
     },
     "metadata": {
      "needs_background": "light"
     },
     "output_type": "display_data"
    }
   ],
   "source": [
    "ipos.groupby(ipos['Trade Date'].dt.year)['1st Day % Px Chng'].median().plot(kind='bar', title=\"mean 1st Day % Px Chng\")"
   ]
  },
  {
   "cell_type": "code",
   "execution_count": 13,
   "metadata": {},
   "outputs": [
    {
     "data": {
      "text/plain": [
       "count    3229.000000\n",
       "mean       13.001182\n",
       "std        27.349681\n",
       "min      -100.000000\n",
       "25%         0.000000\n",
       "50%         4.180000\n",
       "75%        18.920000\n",
       "max       353.850000\n",
       "Name: 1st Day % Px Chng, dtype: float64"
      ]
     },
     "execution_count": 13,
     "metadata": {},
     "output_type": "execute_result"
    }
   ],
   "source": [
    "ipos['1st Day % Px Chng'].describe()"
   ]
  },
  {
   "cell_type": "code",
   "execution_count": 14,
   "metadata": {},
   "outputs": [
    {
     "data": {
      "text/plain": [
       "<matplotlib.axes._subplots.AxesSubplot at 0x7f7353c59278>"
      ]
     },
     "execution_count": 14,
     "metadata": {},
     "output_type": "execute_result"
    },
    {
     "data": {
      "image/png": "[encoded data removed]",
      "text/plain": [
       "<Figure size 432x288 with 1 Axes>"
      ]
     },
     "metadata": {
      "needs_background": "light"
     },
     "output_type": "display_data"
    }
   ],
   "source": [
    "ipos['1st Day % Px Chng'].hist(bins=100, color='grey')"
   ]
  },
  {
   "cell_type": "code",
   "execution_count": 15,
   "metadata": {},
   "outputs": [
    {
     "data": {
      "text/html": [
       "<div>\n",
       "<style scoped>\n",
       "    .dataframe tbody tr th:only-of-type {\n",
       "        vertical-align: middle;\n",
       "    }\n",
       "\n",
       "    .dataframe tbody tr th {\n",
       "        vertical-align: top;\n",
       "    }\n",
       "\n",
       "    .dataframe thead th {\n",
       "        text-align: right;\n",
       "    }\n",
       "</style>\n",
       "<table border=\"1\" class=\"dataframe\">\n",
       "  <thead>\n",
       "    <tr style=\"text-align: right;\">\n",
       "      <th></th>\n",
       "      <th>Trade Date</th>\n",
       "      <th>Issuer</th>\n",
       "      <th>Symbol</th>\n",
       "      <th>Lead/Joint-Lead Managers</th>\n",
       "      <th>Offer Price</th>\n",
       "      <th>Opening Price</th>\n",
       "      <th>1st Day Close</th>\n",
       "      <th>1st Day % Px Chng</th>\n",
       "      <th>$ Change Opening</th>\n",
       "      <th>$ Change Close</th>\n",
       "      <th>Star Ratings</th>\n",
       "      <th>Performed</th>\n",
       "      <th>cotc</th>\n",
       "    </tr>\n",
       "  </thead>\n",
       "  <tbody>\n",
       "    <tr>\n",
       "      <th>0</th>\n",
       "      <td>2019-01-08</td>\n",
       "      <td>MMTEC</td>\n",
       "      <td>MTC</td>\n",
       "      <td>WestPark Capital</td>\n",
       "      <td>4.0</td>\n",
       "      <td>5.91</td>\n",
       "      <td>7.55</td>\n",
       "      <td>88.75</td>\n",
       "      <td>1.91</td>\n",
       "      <td>3.55</td>\n",
       "      <td>0.0</td>\n",
       "      <td>NaN</td>\n",
       "      <td>-21.721854</td>\n",
       "    </tr>\n",
       "    <tr>\n",
       "      <th>1</th>\n",
       "      <td>2019-01-29</td>\n",
       "      <td>Andina Acquisition Corp. III</td>\n",
       "      <td>ANDAU</td>\n",
       "      <td>Cowen/ Craig-Hallum Capital Group</td>\n",
       "      <td>10.0</td>\n",
       "      <td>10.00</td>\n",
       "      <td>10.01</td>\n",
       "      <td>0.10</td>\n",
       "      <td>0.00</td>\n",
       "      <td>0.01</td>\n",
       "      <td>1.0</td>\n",
       "      <td>NaN</td>\n",
       "      <td>-0.099900</td>\n",
       "    </tr>\n",
       "    <tr>\n",
       "      <th>2</th>\n",
       "      <td>2019-01-30</td>\n",
       "      <td>PIMCO Energy &amp; Tactical Credit Opportunities Fund</td>\n",
       "      <td>NRGX</td>\n",
       "      <td>UBS Investment Bank/ BofA Merrill Lynch/ Morga...</td>\n",
       "      <td>20.0</td>\n",
       "      <td>20.00</td>\n",
       "      <td>20.20</td>\n",
       "      <td>1.00</td>\n",
       "      <td>0.00</td>\n",
       "      <td>0.20</td>\n",
       "      <td>1.0</td>\n",
       "      <td>NaN</td>\n",
       "      <td>-0.990099</td>\n",
       "    </tr>\n",
       "    <tr>\n",
       "      <th>3</th>\n",
       "      <td>2019-01-31</td>\n",
       "      <td>New Fortress Energy</td>\n",
       "      <td>NFE</td>\n",
       "      <td>Morgan Stanley/ Barclays</td>\n",
       "      <td>14.0</td>\n",
       "      <td>13.25</td>\n",
       "      <td>13.07</td>\n",
       "      <td>-6.64</td>\n",
       "      <td>-0.75</td>\n",
       "      <td>-0.93</td>\n",
       "      <td>1.0</td>\n",
       "      <td>NaN</td>\n",
       "      <td>1.377200</td>\n",
       "    </tr>\n",
       "    <tr>\n",
       "      <th>4</th>\n",
       "      <td>2019-01-31</td>\n",
       "      <td>Pivotal Acquisition</td>\n",
       "      <td>PVT.U</td>\n",
       "      <td>Cantor</td>\n",
       "      <td>10.0</td>\n",
       "      <td>10.05</td>\n",
       "      <td>10.10</td>\n",
       "      <td>1.00</td>\n",
       "      <td>0.05</td>\n",
       "      <td>0.10</td>\n",
       "      <td>1.0</td>\n",
       "      <td>NaN</td>\n",
       "      <td>-0.495050</td>\n",
       "    </tr>\n",
       "  </tbody>\n",
       "</table>\n",
       "</div>"
      ],
      "text/plain": [
       "  Trade Date                                             Issuer Symbol  \\\n",
       "0 2019-01-08                                              MMTEC    MTC   \n",
       "1 2019-01-29                       Andina Acquisition Corp. III  ANDAU   \n",
       "2 2019-01-30  PIMCO Energy & Tactical Credit Opportunities Fund   NRGX   \n",
       "3 2019-01-31                                New Fortress Energy    NFE   \n",
       "4 2019-01-31                                Pivotal Acquisition  PVT.U   \n",
       "\n",
       "                            Lead/Joint-Lead Managers  Offer Price  \\\n",
       "0                                   WestPark Capital          4.0   \n",
       "1                  Cowen/ Craig-Hallum Capital Group         10.0   \n",
       "2  UBS Investment Bank/ BofA Merrill Lynch/ Morga...         20.0   \n",
       "3                           Morgan Stanley/ Barclays         14.0   \n",
       "4                                             Cantor         10.0   \n",
       "\n",
       "   Opening Price  1st Day Close  1st Day % Px Chng  $ Change Opening  \\\n",
       "0           5.91           7.55              88.75              1.91   \n",
       "1          10.00          10.01               0.10              0.00   \n",
       "2          20.00          20.20               1.00              0.00   \n",
       "3          13.25          13.07              -6.64             -0.75   \n",
       "4          10.05          10.10               1.00              0.05   \n",
       "\n",
       "   $ Change Close  Star Ratings Performed       cotc  \n",
       "0            3.55           0.0       NaN -21.721854  \n",
       "1            0.01           1.0       NaN  -0.099900  \n",
       "2            0.20           1.0       NaN  -0.990099  \n",
       "3           -0.93           1.0       NaN   1.377200  \n",
       "4            0.10           1.0       NaN  -0.495050  "
      ]
     },
     "execution_count": 15,
     "metadata": {},
     "output_type": "execute_result"
    }
   ],
   "source": [
    "# change of open to close in %\n",
    "ipos[\"cotc\"] = (ipos['Opening Price']/ipos['1st Day Close']-1)*100\n",
    "ipos[:5]"
   ]
  },
  {
   "cell_type": "code",
   "execution_count": 16,
   "metadata": {},
   "outputs": [
    {
     "data": {
      "text/plain": [
       "count    3230.000000\n",
       "mean       -0.299419\n",
       "std         9.627022\n",
       "min       -61.452096\n",
       "25%        -3.765954\n",
       "50%         0.000000\n",
       "75%         2.972973\n",
       "max        97.165633\n",
       "Name: cotc, dtype: float64"
      ]
     },
     "execution_count": 16,
     "metadata": {},
     "output_type": "execute_result"
    }
   ],
   "source": [
    "ipos['cotc'].describe()"
   ]
  },
  {
   "cell_type": "code",
   "execution_count": 17,
   "metadata": {},
   "outputs": [
    {
     "data": {
      "text/plain": [
       "<matplotlib.axes._subplots.AxesSubplot at 0x7f7355f9dc18>"
      ]
     },
     "execution_count": 17,
     "metadata": {},
     "output_type": "execute_result"
    },
    {
     "data": {
      "image/png": "[encoded data removed]",
      "text/plain": [
       "<Figure size 432x288 with 1 Axes>"
      ]
     },
     "metadata": {
      "needs_background": "light"
     },
     "output_type": "display_data"
    }
   ],
   "source": [
    "ipos['cotc'].hist(bins=100, color='grey')"
   ]
  },
  {
   "cell_type": "code",
   "execution_count": 18,
   "metadata": {},
   "outputs": [
    {
     "data": {
      "image/png": "[encoded data removed]",
      "text/plain": [
       "<Figure size 432x288 with 1 Axes>"
      ]
     },
     "metadata": {
      "needs_background": "light"
     },
     "output_type": "display_data"
    }
   ],
   "source": [
    "# QQ-plot\n",
    "stats.probplot(ipos['cotc'], dist = \"norm\", plot=pylab)\n",
    "pylab.show()"
   ]
  },
  {
   "cell_type": "code",
   "execution_count": 19,
   "metadata": {},
   "outputs": [],
   "source": [
    "# Feature engineering\n",
    "# get sp500 daily\n",
    "sp = pd.read_csv('sp500.csv')\n",
    "sp.sort_values('Date', inplace=True)\n",
    "sp = sp[1:]"
   ]
  },
  {
   "cell_type": "code",
   "execution_count": 20,
   "metadata": {},
   "outputs": [
    {
     "data": {
      "text/html": [
       "<div>\n",
       "<style scoped>\n",
       "    .dataframe tbody tr th:only-of-type {\n",
       "        vertical-align: middle;\n",
       "    }\n",
       "\n",
       "    .dataframe tbody tr th {\n",
       "        vertical-align: top;\n",
       "    }\n",
       "\n",
       "    .dataframe thead th {\n",
       "        text-align: right;\n",
       "    }\n",
       "</style>\n",
       "<table border=\"1\" class=\"dataframe\">\n",
       "  <thead>\n",
       "    <tr style=\"text-align: right;\">\n",
       "      <th></th>\n",
       "      <th>Date</th>\n",
       "      <th>Open</th>\n",
       "      <th>High</th>\n",
       "      <th>Low</th>\n",
       "      <th>Close</th>\n",
       "      <th>Adj Close</th>\n",
       "      <th>Volume</th>\n",
       "    </tr>\n",
       "  </thead>\n",
       "  <tbody>\n",
       "    <tr>\n",
       "      <th>4816</th>\n",
       "      <td>2019-02-25</td>\n",
       "      <td>2804.350098</td>\n",
       "      <td>2813.489990</td>\n",
       "      <td>2794.989990</td>\n",
       "      <td>2796.110107</td>\n",
       "      <td>2796.110107</td>\n",
       "      <td>3804380000</td>\n",
       "    </tr>\n",
       "    <tr>\n",
       "      <th>4817</th>\n",
       "      <td>2019-02-26</td>\n",
       "      <td>2792.360107</td>\n",
       "      <td>2803.120117</td>\n",
       "      <td>2789.469971</td>\n",
       "      <td>2793.899902</td>\n",
       "      <td>2793.899902</td>\n",
       "      <td>3645680000</td>\n",
       "    </tr>\n",
       "    <tr>\n",
       "      <th>4818</th>\n",
       "      <td>2019-02-27</td>\n",
       "      <td>2787.500000</td>\n",
       "      <td>2795.760010</td>\n",
       "      <td>2775.129883</td>\n",
       "      <td>2792.379883</td>\n",
       "      <td>2792.379883</td>\n",
       "      <td>3767130000</td>\n",
       "    </tr>\n",
       "    <tr>\n",
       "      <th>4819</th>\n",
       "      <td>2019-02-28</td>\n",
       "      <td>2788.110107</td>\n",
       "      <td>2793.729980</td>\n",
       "      <td>2782.510010</td>\n",
       "      <td>2784.489990</td>\n",
       "      <td>2784.489990</td>\n",
       "      <td>4396930000</td>\n",
       "    </tr>\n",
       "    <tr>\n",
       "      <th>4820</th>\n",
       "      <td>2019-03-01</td>\n",
       "      <td>2798.219971</td>\n",
       "      <td>2808.020020</td>\n",
       "      <td>2787.379883</td>\n",
       "      <td>2803.689941</td>\n",
       "      <td>2803.689941</td>\n",
       "      <td>3972280000</td>\n",
       "    </tr>\n",
       "  </tbody>\n",
       "</table>\n",
       "</div>"
      ],
      "text/plain": [
       "            Date         Open         High          Low        Close  \\\n",
       "4816  2019-02-25  2804.350098  2813.489990  2794.989990  2796.110107   \n",
       "4817  2019-02-26  2792.360107  2803.120117  2789.469971  2793.899902   \n",
       "4818  2019-02-27  2787.500000  2795.760010  2775.129883  2792.379883   \n",
       "4819  2019-02-28  2788.110107  2793.729980  2782.510010  2784.489990   \n",
       "4820  2019-03-01  2798.219971  2808.020020  2787.379883  2803.689941   \n",
       "\n",
       "        Adj Close      Volume  \n",
       "4816  2796.110107  3804380000  \n",
       "4817  2793.899902  3645680000  \n",
       "4818  2792.379883  3767130000  \n",
       "4819  2784.489990  4396930000  \n",
       "4820  2803.689941  3972280000  "
      ]
     },
     "execution_count": 20,
     "metadata": {},
     "output_type": "execute_result"
    }
   ],
   "source": [
    "sp[-5:]"
   ]
  },
  {
   "cell_type": "code",
   "execution_count": 21,
   "metadata": {},
   "outputs": [
    {
     "data": {
      "image/png": "[encoded data removed]",
      "text/plain": [
       "<Figure size 936x360 with 1 Axes>"
      ]
     },
     "metadata": {
      "needs_background": "light"
     },
     "output_type": "display_data"
    }
   ],
   "source": [
    "all_dates = sp[['Date']]\n",
    "tkr_index = [x for x in all_dates.index if x % 15 == 0]\n",
    "all_dates.loc[tkr_index]\n",
    "fig, ax = plt.subplots(figsize=(13,5))\n",
    "ax.set_title('S&P 500 Index')\n",
    "ax.plot(sp['Close'], color='k', linewidth=2)\n",
    "ax.set_xticks(np.arange(0,len(sp),90));\n",
    "ax.set_xticklabels([sp['Date'][x] for x in sp[['Date']].index if x % 90 == 0], rotation=-70);"
   ]
  },
  {
   "cell_type": "code",
   "execution_count": 22,
   "metadata": {},
   "outputs": [],
   "source": [
    "def get_week_chg(ipo_dt):\n",
    "    try:\n",
    "        # index\n",
    "        day_ago_idx =  sp[sp['Date']==str(ipo_dt.date())].index[0] - 1\n",
    "        # index\n",
    "        week_ago_idx = sp[sp['Date']==str(ipo_dt.date())].index[0] - 8\n",
    "        # change of the above two\n",
    "        chg = (sp.iloc[day_ago_idx]['Close'] - sp.iloc[week_ago_idx]['Close'])/(sp.iloc[week_ago_idx]['Close'])\n",
    "        return chg * 100\n",
    "    except:\n",
    "        print('error', ipo_dt.date())"
   ]
  },
  {
   "cell_type": "code",
   "execution_count": 23,
   "metadata": {},
   "outputs": [
    {
     "name": "stdout",
     "output_type": "stream",
     "text": [
      "error 2019-02-24\n",
      "error 2015-02-21\n",
      "error 2015-02-21\n",
      "error 2013-11-16\n",
      "error 2009-08-01\n"
     ]
    }
   ],
   "source": [
    "ipos['spwc'] = ipos['Trade Date'].map(get_week_chg)"
   ]
  },
  {
   "cell_type": "code",
   "execution_count": 24,
   "metadata": {},
   "outputs": [],
   "source": [
    "ipos[ipos['Trade Date'] == pd.to_datetime('2019-02-24')]\n",
    "ipos.loc[16, 'Trade Date'] = pd.to_datetime('2019-02-15')"
   ]
  },
  {
   "cell_type": "code",
   "execution_count": 25,
   "metadata": {},
   "outputs": [],
   "source": [
    "ipos[ipos['Trade Date'] == pd.to_datetime('2015-02-21')]\n",
    "ipos.loc[566, 'Trade Date'] = pd.to_datetime('2015-02-23')\n",
    "ipos.loc[567, 'Trade Date'] = pd.to_datetime('2015-02-23')"
   ]
  },
  {
   "cell_type": "code",
   "execution_count": 26,
   "metadata": {},
   "outputs": [],
   "source": [
    "ipos[ipos['Trade Date'] == pd.to_datetime('2013-11-16')]\n",
    "ipos.loc[1195, 'Trade Date'] = pd.to_datetime('2013-11-08')"
   ]
  },
  {
   "cell_type": "code",
   "execution_count": 27,
   "metadata": {},
   "outputs": [],
   "source": [
    "ipos[ipos['Trade Date'] == pd.to_datetime('2009-08-01')]\n",
    "ipos.loc[1694, 'Trade Date'] = pd.to_datetime('2009-08-21')"
   ]
  },
  {
   "cell_type": "code",
   "execution_count": 28,
   "metadata": {},
   "outputs": [],
   "source": [
    "ipos['spwc'] = ipos['Trade Date'].map(get_week_chg)"
   ]
  },
  {
   "cell_type": "code",
   "execution_count": 29,
   "metadata": {
    "collapsed": false
   },
   "outputs": [],
   "source": [
    "def get_cto_chg(ipo_dt):\n",
    "    try:\n",
    "        today_open_idx =  sp[sp['Date']==str(ipo_dt.date())].index[0]\n",
    "        yday_close_idx = sp[sp['Date']==str(ipo_dt.date())].index[0] - 1\n",
    "        chg = (sp.iloc[today_open_idx]['Open'] - \\\n",
    "               sp.iloc[yday_close_idx]['Close'])/(sp.iloc[yday_close_idx]['Close'])\n",
    "        return chg * 100\n",
    "    except:\n",
    "        print('error', ipo_dt)"
   ]
  },
  {
   "cell_type": "code",
   "execution_count": 30,
   "metadata": {
    "collapsed": false
   },
   "outputs": [],
   "source": [
    "ipos.drop(axis=0, index=24, inplace=True)"
   ]
  },
  {
   "cell_type": "code",
   "execution_count": 31,
   "metadata": {
    "collapsed": false
   },
   "outputs": [],
   "source": [
    "ipos['spcoc'] = ipos['Trade Date'].map(get_cto_chg)"
   ]
  },
  {
   "cell_type": "code",
   "execution_count": 32,
   "metadata": {},
   "outputs": [],
   "source": [
    "# Lead/Joint-Lead Managers data\n",
    "ipos['Lead Mgr'] = ipos['Lead/Joint-Lead Managers'].map(lambda x:x.split('/')[0])\n",
    "ipos['Lead Mgr'] = ipos['Lead Mgr'].map(lambda x:x.strip())"
   ]
  },
  {
   "cell_type": "code",
   "execution_count": 33,
   "metadata": {},
   "outputs": [],
   "source": [
    "# copy codes, rename the bank names"
   ]
  },
  {
   "cell_type": "code",
   "execution_count": 34,
   "metadata": {},
   "outputs": [],
   "source": [
    "ipos.loc[ipos['Lead Mgr'].str.contains('Hambrecht'),'Lead Mgr'] = 'WR Hambrecht+Co.'\n",
    "\n",
    "ipos.loc[ipos['Lead Mgr'].str.contains('Edwards'), 'Lead Mgr'] = 'AG Edwards'\n",
    "\n",
    "ipos.loc[ipos['Lead Mgr'].str.contains('Edwrads'), 'Lead Mgr'] = 'AG Edwards'\n",
    "\n",
    "ipos.loc[ipos['Lead Mgr'].str.contains('Barclay'), 'Lead Mgr'] = 'Barclays'\n",
    "\n",
    "ipos.loc[ipos['Lead Mgr'].str.contains('Aegis'), 'Lead Mgr'] = 'Aegis Capital'\n",
    "\n",
    "ipos.loc[ipos['Lead Mgr'].str.contains('Deutsche'), 'Lead Mgr'] = 'Deutsche Bank'\n",
    "\n",
    "ipos.loc[ipos['Lead Mgr'].str.contains('Suisse'), 'Lead Mgr'] = 'CSFB'\n",
    "\n",
    "ipos.loc[ipos['Lead Mgr'].str.contains('CS.?F'), 'Lead Mgr'] = 'CSFB'\n",
    "\n",
    "ipos.loc[ipos['Lead Mgr'].str.contains('^Early'), 'Lead Mgr'] = 'EarlyBirdCapital'\n",
    "\n",
    "ipos.loc[325,'Lead Mgr'] = 'Maximum Captial'\n",
    "\n",
    "ipos.loc[ipos['Lead Mgr'].str.contains('Keefe'), 'Lead Mgr'] = 'Keefe, Bruyette & Woods'\n",
    "\n",
    "ipos.loc[ipos['Lead Mgr'].str.contains('Stan'), 'Lead Mgr'] = 'Morgan Stanley'\n",
    "\n",
    "ipos.loc[ipos['Lead Mgr'].str.contains('P. Morg'), 'Lead Mgr'] = 'JP Morgan'\n",
    "\n",
    "ipos.loc[ipos['Lead Mgr'].str.contains('PM'), 'Lead Mgr'] = 'JP Morgan'\n",
    "\n",
    "ipos.loc[ipos['Lead Mgr'].str.contains('J\\.P\\.'), 'Lead Mgr'] = 'JP Morgan'\n",
    "\n",
    "ipos.loc[ipos['Lead Mgr'].str.contains('Banc of'), 'Lead Mgr'] = 'Banc of America'\n",
    "\n",
    "ipos.loc[ipos['Lead Mgr'].str.contains('Lych'), 'Lead Mgr'] = 'BofA Merrill Lynch'\n",
    "\n",
    "ipos.loc[ipos['Lead Mgr'].str.contains('Merrill$'), 'Lead Mgr'] = 'Merrill Lynch'\n",
    "\n",
    "ipos.loc[ipos['Lead Mgr'].str.contains('Lymch'), 'Lead Mgr'] = 'Merrill Lynch'\n",
    "\n",
    "ipos.loc[ipos['Lead Mgr'].str.contains('A Merril Lynch'), 'Lead Mgr'] = 'BofA Merrill Lynch'\n",
    "\n",
    "ipos.loc[ipos['Lead Mgr'].str.contains('Merril '), 'Lead Mgr'] = 'Merrill Lynch'\n",
    "\n",
    "ipos.loc[ipos['Lead Mgr'].str.contains('BofA$'), 'Lead Mgr'] = 'BofA Merrill Lynch'\n",
    "\n",
    "ipos.loc[ipos['Lead Mgr'].str.contains('SANDLER'), 'Lead Mgr'] = 'Sandler O\\'neil + Partners'\n",
    "\n",
    "ipos.loc[ipos['Lead Mgr'].str.contains('Sandler'), 'Lead Mgr'] = 'Sandler O\\'Neil + Partners'\n",
    "\n",
    "ipos.loc[ipos['Lead Mgr'].str.contains('Renshaw'), 'Lead Mgr'] = 'Rodman & Renshaw'\n",
    "\n",
    "ipos.loc[ipos['Lead Mgr'].str.contains('Baird'), 'Lead Mgr'] = 'RW Baird'\n",
    "\n",
    "ipos.loc[ipos['Lead Mgr'].str.contains('Cantor'), 'Lead Mgr'] = 'Cantor Fitzgerald'\n",
    "\n",
    "ipos.loc[ipos['Lead Mgr'].str.contains('Goldman'), 'Lead Mgr'] = 'Goldman Sachs'\n",
    "\n",
    "ipos.loc[ipos['Lead Mgr'].str.contains('Bear'), 'Lead Mgr'] = 'Bear Stearns'\n",
    "\n",
    "ipos.loc[ipos['Lead Mgr'].str.contains('BoA'), 'Lead Mgr'] = 'BofA Merrill Lynch'\n",
    "\n",
    "ipos.loc[ipos['Lead Mgr'].str.contains('Broadband'), 'Lead Mgr'] = 'Broadband Capital'\n",
    "\n",
    "ipos.loc[ipos['Lead Mgr'].str.contains('Davidson'), 'Lead Mgr'] = 'DA Davidson'\n",
    "\n",
    "ipos.loc[ipos['Lead Mgr'].str.contains('Feltl'), 'Lead Mgr'] = 'Feltl & Co.'\n",
    "\n",
    "ipos.loc[ipos['Lead Mgr'].str.contains('China'), 'Lead Mgr'] = 'China International'\n",
    "\n",
    "ipos.loc[ipos['Lead Mgr'].str.contains('Cit'), 'Lead Mgr'] = 'Citigroup'\n",
    "\n",
    "ipos.loc[ipos['Lead Mgr'].str.contains('Ferris'), 'Lead Mgr'] = 'Ferris Baker Watts'\n",
    "\n",
    "ipos.loc[ipos['Lead Mgr'].str.contains('Friedman|Freidman|FBR'), 'Lead Mgr'] = 'Friedman Billings Ramsey'\n",
    "\n",
    "ipos.loc[ipos['Lead Mgr'].str.contains('^I-'), 'Lead Mgr'] = 'I-Bankers'\n",
    "\n",
    "ipos.loc[ipos['Lead Mgr'].str.contains('Gunn'), 'Lead Mgr'] = 'Gunn Allen'\n",
    "\n",
    "ipos.loc[ipos['Lead Mgr'].str.contains('Jeffer'), 'Lead Mgr'] = 'Jefferies'\n",
    "\n",
    "ipos.loc[ipos['Lead Mgr'].str.contains('Oppen'), 'Lead Mgr'] = 'Oppenheimer'\n",
    "\n",
    "ipos.loc[ipos['Lead Mgr'].str.contains('JMP'), 'Lead Mgr'] = 'JMP Securities'\n",
    "\n",
    "ipos.loc[ipos['Lead Mgr'].str.contains('Rice'), 'Lead Mgr'] = 'Johnson Rice'\n",
    "\n",
    "ipos.loc[ipos['Lead Mgr'].str.contains('Ladenburg'), 'Lead Mgr'] = 'Ladenburg Thalmann'\n",
    "\n",
    "ipos.loc[ipos['Lead Mgr'].str.contains('Piper'), 'Lead Mgr'] = 'Piper Jaffray'\n",
    "\n",
    "ipos.loc[ipos['Lead Mgr'].str.contains('Pali'), 'Lead Mgr'] = 'Pali Capital'\n",
    "\n",
    "ipos.loc[ipos['Lead Mgr'].str.contains('Paulson'), 'Lead Mgr'] = 'Paulson Investment Co.'\n",
    "\n",
    "ipos.loc[ipos['Lead Mgr'].str.contains('Roth'), 'Lead Mgr'] = 'Roth Capital'\n",
    "\n",
    "ipos.loc[ipos['Lead Mgr'].str.contains('Stifel'), 'Lead Mgr'] = 'Stifel Nicolaus'\n",
    "\n",
    "ipos.loc[ipos['Lead Mgr'].str.contains('SunTrust'), 'Lead Mgr'] = 'SunTrust Robinson'\n",
    "\n",
    "ipos.loc[ipos['Lead Mgr'].str.contains('Wachovia'), 'Lead Mgr'] = 'Wachovia'\n",
    "\n",
    "ipos.loc[ipos['Lead Mgr'].str.contains('Wedbush'), 'Lead Mgr'] = 'Wedbush Morgan'\n",
    "\n",
    "ipos.loc[ipos['Lead Mgr'].str.contains('Blair'), 'Lead Mgr'] = 'William Blair'\n",
    "\n",
    "ipos.loc[ipos['Lead Mgr'].str.contains('Wunderlich'), 'Lead Mgr'] = 'Wunderlich'\n",
    "\n",
    "ipos.loc[ipos['Lead Mgr'].str.contains('Max'), 'Lead Mgr'] = 'Maxim Group'\n",
    "\n",
    "ipos.loc[ipos['Lead Mgr'].str.contains('CIBC'), 'Lead Mgr'] = 'CIBC'\n",
    "\n",
    "ipos.loc[ipos['Lead Mgr'].str.contains('CRT'), 'Lead Mgr'] = 'CRT Capital'\n",
    "\n",
    "ipos.loc[ipos['Lead Mgr'].str.contains('HCF'),'Lead Mgr'] = 'HCFP Brenner'\n",
    "\n",
    "ipos.loc[ipos['Lead Mgr'].str.contains('Cohen'), 'Lead Mgr']  = 'Cohen & Co.'\n",
    "\n",
    "ipos.loc[ipos['Lead Mgr'].str.contains('Cowen'), 'Lead Mgr'] = 'Cowen & Co.'\n",
    "\n",
    "ipos.loc[ipos['Lead Mgr'].str.contains('Leerink'), 'Lead Mgr']  = 'Leerink Partners'\n",
    "\n",
    "ipos.loc[ipos['Lead Mgr'].str.contains('Lynch\\xca'), 'Lead Mgr'] = 'Merrill Lynch'"
   ]
  },
  {
   "cell_type": "code",
   "execution_count": 35,
   "metadata": {},
   "outputs": [
    {
     "data": {
      "text/plain": [
       "array(['WestPark Capital', 'Cowen/ Craig-Hallum Capital Group',\n",
       "       'UBS Investment Bank/ BofA Merrill Lynch/ Morgan Stanley/ Wells Fargo Securities/ RBC Capital Markets/ Stifel',\n",
       "       ..., 'Utendhal Capital Partners', 'BBVA/CSFB',\n",
       "       'Goldman Sachs/Lazard'], dtype=object)"
      ]
     },
     "execution_count": 35,
     "metadata": {},
     "output_type": "execute_result"
    }
   ],
   "source": [
    "ipos['Lead/Joint-Lead Managers'].unique()"
   ]
  },
  {
   "cell_type": "code",
   "execution_count": 36,
   "metadata": {},
   "outputs": [],
   "source": [
    "# number of Lead-Lead Managers\n",
    "ipos['Total Underwriters'] = ipos['Lead/Joint-Lead Managers'].map(lambda x: len(x.split('/')))"
   ]
  },
  {
   "cell_type": "code",
   "execution_count": 37,
   "metadata": {
    "collapsed": true
   },
   "outputs": [],
   "source": [
    "# deal with the date things\n",
    "ipos['Week Day'] = ipos['Trade Date'].dt.dayofweek.map({0:'Mon', 1:'Tues', 2:'Wed',\\\n",
    "                                                  3:'Thurs', 4:'Fri', 5:'Sat', 6:'Sun'})"
   ]
  },
  {
   "cell_type": "code",
   "execution_count": 38,
   "metadata": {
    "collapsed": true
   },
   "outputs": [],
   "source": [
    "ipos['Month'] = ipos['Trade Date'].map(lambda x: x.month)"
   ]
  },
  {
   "cell_type": "code",
   "execution_count": 39,
   "metadata": {
    "collapsed": true
   },
   "outputs": [],
   "source": [
    "ipos['Month'] = ipos['Month'].map({1:'Jan', 2:'Feb', 3:'Mar', 4:'Apr', 5:'May', 6:'Jun',7:'Jul',\\\n",
    "                                   8:'Aug', 9:'Sep', 10:'Oct', 11:'Nov', 12:'Dec'})"
   ]
  },
  {
   "cell_type": "code",
   "execution_count": 40,
   "metadata": {
    "collapsed": false
   },
   "outputs": [],
   "source": [
    "# change opening/open price\n",
    "ipos['Gap Open Pct'] = (ipos['$ Change Opening'].astype('float')/ipos['Opening Price'].astype('float')) * 100"
   ]
  },
  {
   "cell_type": "code",
   "execution_count": 41,
   "metadata": {
    "collapsed": false
   },
   "outputs": [],
   "source": [
    "# issue to close change\n",
    "ipos['Open to Close Pct'] = (ipos['$ Change Opening'].astype('float') - ipos['$ Change Close'].astype('float'))/\\\n",
    "                             ipos['Opening Price'].astype('float') * 100"
   ]
  },
  {
   "cell_type": "code",
   "execution_count": 42,
   "metadata": {
    "collapsed": false
   },
   "outputs": [
    {
     "data": {
      "text/plain": [
       "Index(['Trade Date', 'Issuer', 'Symbol', 'Lead/Joint-Lead Managers',\n",
       "       'Offer Price', 'Opening Price', '1st Day Close', '1st Day % Px Chng',\n",
       "       '$ Change Opening', '$ Change Close', 'Star Ratings', 'Performed',\n",
       "       'cotc', 'spwc', 'spcoc', 'Lead Mgr', 'Total Underwriters', 'Week Day',\n",
       "       'Month', 'Gap Open Pct', 'Open to Close Pct'],\n",
       "      dtype='object')"
      ]
     },
     "execution_count": 42,
     "metadata": {},
     "output_type": "execute_result"
    }
   ],
   "source": [
    "ipos.columns"
   ]
  },
  {
   "cell_type": "code",
   "execution_count": 43,
   "metadata": {},
   "outputs": [],
   "source": [
    "# delete the wrong data from ipos\n",
    "ipos.drop([12,13,14], inplace=True)\n",
    "ipos.reset_index(drop=True, inplace=True)"
   ]
  },
  {
   "cell_type": "code",
   "execution_count": 44,
   "metadata": {
    "collapsed": false
   },
   "outputs": [],
   "source": [
    "X = dmatrix('Month + Q(\"Week Day\") + Q(\"Total Underwriters\") + Q(\"Gap Open Pct\") + Q(\"$ Change Opening\") +\\\n",
    "                  Q(\"Lead Mgr\") + Q(\"Offer Price\") + Q(\"Opening Price\") +\\\n",
    "                  Q(\"spcoc\") + Q(\"spwc\")', data=ipos, return_type='dataframe')"
   ]
  },
  {
   "cell_type": "code",
   "execution_count": 45,
   "metadata": {
    "collapsed": false,
    "scrolled": true
   },
   "outputs": [],
   "source": [
    "# Before index 428 is after 2017(0101) IPO, or before 2017(0101)\n",
    "idx = 428\n",
    "# before 2017: train\n",
    "# after 2017 (contain): test\n",
    "X_train = X[idx:]\n",
    "X_test = X[:idx]\n",
    "# cotc > but: buy it\n",
    "buy = 1\n",
    "y_train = ipos['cotc'][idx:].map(lambda x: 1 if x >= buy else 0)\n",
    "y_test = ipos['cotc'][:idx].map(lambda x: 1 if x >= buy else 0)"
   ]
  },
  {
   "cell_type": "code",
   "execution_count": 46,
   "metadata": {
    "collapsed": false
   },
   "outputs": [
    {
     "name": "stderr",
     "output_type": "stream",
     "text": [
      "/usr/local/python3/lib/python3.7/site-packages/sklearn/linear_model/logistic.py:433: FutureWarning: Default solver will be changed to 'lbfgs' in 0.22. Specify a solver to silence this warning.\n",
      "  FutureWarning)\n"
     ]
    },
    {
     "data": {
      "text/plain": [
       "LogisticRegression(C=1.0, class_weight=None, dual=False, fit_intercept=True,\n",
       "          intercept_scaling=1, max_iter=100, multi_class='warn',\n",
       "          n_jobs=None, penalty='l2', random_state=None, solver='warn',\n",
       "          tol=0.0001, verbose=0, warm_start=False)"
      ]
     },
     "execution_count": 46,
     "metadata": {},
     "output_type": "execute_result"
    }
   ],
   "source": [
    "clf = linear_model.LogisticRegression()\n",
    "clf.fit(X_train, y_train)"
   ]
  },
  {
   "cell_type": "code",
   "execution_count": 47,
   "metadata": {
    "collapsed": false
   },
   "outputs": [
    {
     "data": {
      "text/plain": [
       "0.6285046728971962"
      ]
     },
     "execution_count": 47,
     "metadata": {},
     "output_type": "execute_result"
    }
   ],
   "source": [
    "clf.score(X_test, y_test)"
   ]
  },
  {
   "cell_type": "code",
   "execution_count": 48,
   "metadata": {
    "collapsed": false
   },
   "outputs": [
    {
     "data": {
      "text/plain": [
       "count    429.000000\n",
       "mean       0.281240\n",
       "std        9.801567\n",
       "min      -43.018159\n",
       "25%       -2.608696\n",
       "50%        0.000000\n",
       "75%        3.349964\n",
       "max       35.041322\n",
       "Name: cotc, dtype: float64"
      ]
     },
     "execution_count": 48,
     "metadata": {},
     "output_type": "execute_result"
    }
   ],
   "source": [
    "ipos[(ipos['Trade Date']>='2017-01-01')]['cotc'].describe()"
   ]
  },
  {
   "cell_type": "code",
   "execution_count": 49,
   "metadata": {
    "collapsed": false
   },
   "outputs": [],
   "source": [
    "# pl: predict label\n",
    "# tl: test label (read)\n",
    "pred_label = clf.predict(X_test)\n",
    "results=[]\n",
    "for pl, tl, idx, chg in zip(pred_label, y_test, y_test.index, ipos.iloc[y_test.index]['cotc']):\n",
    "    if pl == tl:\n",
    "        results.append([idx, chg, pl, tl, 1])\n",
    "    else:\n",
    "        results.append([idx, chg, pl, tl, 0])"
   ]
  },
  {
   "cell_type": "code",
   "execution_count": 50,
   "metadata": {
    "collapsed": false
   },
   "outputs": [
    {
     "data": {
      "text/html": [
       "<div>\n",
       "<style scoped>\n",
       "    .dataframe tbody tr th:only-of-type {\n",
       "        vertical-align: middle;\n",
       "    }\n",
       "\n",
       "    .dataframe tbody tr th {\n",
       "        vertical-align: top;\n",
       "    }\n",
       "\n",
       "    .dataframe thead th {\n",
       "        text-align: right;\n",
       "    }\n",
       "</style>\n",
       "<table border=\"1\" class=\"dataframe\">\n",
       "  <thead>\n",
       "    <tr style=\"text-align: right;\">\n",
       "      <th></th>\n",
       "      <th>index</th>\n",
       "      <th>$ chg</th>\n",
       "      <th>predicted</th>\n",
       "      <th>actual</th>\n",
       "      <th>correct</th>\n",
       "    </tr>\n",
       "  </thead>\n",
       "  <tbody>\n",
       "    <tr>\n",
       "      <th>0</th>\n",
       "      <td>0</td>\n",
       "      <td>-21.721854</td>\n",
       "      <td>0</td>\n",
       "      <td>0</td>\n",
       "      <td>1</td>\n",
       "    </tr>\n",
       "    <tr>\n",
       "      <th>1</th>\n",
       "      <td>1</td>\n",
       "      <td>-0.099900</td>\n",
       "      <td>0</td>\n",
       "      <td>0</td>\n",
       "      <td>1</td>\n",
       "    </tr>\n",
       "    <tr>\n",
       "      <th>2</th>\n",
       "      <td>2</td>\n",
       "      <td>-0.990099</td>\n",
       "      <td>1</td>\n",
       "      <td>0</td>\n",
       "      <td>0</td>\n",
       "    </tr>\n",
       "    <tr>\n",
       "      <th>3</th>\n",
       "      <td>3</td>\n",
       "      <td>1.377200</td>\n",
       "      <td>0</td>\n",
       "      <td>1</td>\n",
       "      <td>0</td>\n",
       "    </tr>\n",
       "    <tr>\n",
       "      <th>4</th>\n",
       "      <td>4</td>\n",
       "      <td>-0.495050</td>\n",
       "      <td>0</td>\n",
       "      <td>0</td>\n",
       "      <td>1</td>\n",
       "    </tr>\n",
       "  </tbody>\n",
       "</table>\n",
       "</div>"
      ],
      "text/plain": [
       "   index      $ chg  predicted  actual  correct\n",
       "0      0 -21.721854          0       0        1\n",
       "1      1  -0.099900          0       0        1\n",
       "2      2  -0.990099          1       0        0\n",
       "3      3   1.377200          0       1        0\n",
       "4      4  -0.495050          0       0        1"
      ]
     },
     "execution_count": 50,
     "metadata": {},
     "output_type": "execute_result"
    }
   ],
   "source": [
    "rf = pd.DataFrame(results, columns=['index', '$ chg', 'predicted', 'actual', 'correct'])\n",
    "rf[:5]"
   ]
  },
  {
   "cell_type": "code",
   "execution_count": 51,
   "metadata": {
    "collapsed": false
   },
   "outputs": [
    {
     "data": {
      "text/plain": [
       "-21.84639321552978"
      ]
     },
     "execution_count": 51,
     "metadata": {},
     "output_type": "execute_result"
    }
   ],
   "source": [
    "rf[rf['predicted']==1]['$ chg'].sum()"
   ]
  },
  {
   "cell_type": "code",
   "execution_count": 52,
   "metadata": {
    "collapsed": false
   },
   "outputs": [
    {
     "data": {
      "text/plain": [
       "120.65179261060482"
      ]
     },
     "execution_count": 52,
     "metadata": {},
     "output_type": "execute_result"
    }
   ],
   "source": [
    "ipos[(ipos['Trade Date']>='2017-01-01')]['cotc'].sum()"
   ]
  },
  {
   "cell_type": "code",
   "execution_count": 53,
   "metadata": {
    "collapsed": false
   },
   "outputs": [
    {
     "data": {
      "text/plain": [
       "count    10.000000\n",
       "mean     -2.184639\n",
       "std      11.626122\n",
       "min     -17.510040\n",
       "25%     -11.695167\n",
       "50%      -1.078707\n",
       "75%       5.885962\n",
       "max      18.518519\n",
       "Name: $ chg, dtype: float64"
      ]
     },
     "execution_count": 53,
     "metadata": {},
     "output_type": "execute_result"
    }
   ],
   "source": [
    "rf[rf['predicted']==1]['$ chg'].describe()"
   ]
  },
  {
   "cell_type": "code",
   "execution_count": 54,
   "metadata": {},
   "outputs": [],
   "source": [
    "# all: mean = 0.2812\n",
    "\n",
    "# buy = 0.25\n",
    "# strategy: mean = 0.5804\n",
    "\n",
    "# buy = 1\n",
    "# strategy: mean = -2.18"
   ]
  },
  {
   "cell_type": "code",
   "execution_count": 55,
   "metadata": {
    "collapsed": false
   },
   "outputs": [
    {
     "data": {
      "text/plain": [
       "Text(0.5, 0, 'Index')"
      ]
     },
     "execution_count": 55,
     "metadata": {},
     "output_type": "execute_result"
    },
    {
     "data": {
      "image/png": "[encoded data removed]",
      "text/plain": [
       "<Figure size 792x360 with 1 Axes>"
      ]
     },
     "metadata": {
      "needs_background": "light"
     },
     "output_type": "display_data"
    }
   ],
   "source": [
    "fig, ax = plt.subplots(figsize=(11,5))\n",
    "rf[rf['predicted']==1]['$ chg'].plot(kind='bar')\n",
    "ax.set_title('Model Predicted Buys', y=1.01)\n",
    "ax.set_ylabel('$ Change Open to Close')\n",
    "ax.set_xlabel('Index')"
   ]
  },
  {
   "cell_type": "code",
   "execution_count": 56,
   "metadata": {
    "collapsed": false,
    "scrolled": true
   },
   "outputs": [
    {
     "data": {
      "text/html": [
       "<div>\n",
       "<style scoped>\n",
       "    .dataframe tbody tr th:only-of-type {\n",
       "        vertical-align: middle;\n",
       "    }\n",
       "\n",
       "    .dataframe tbody tr th {\n",
       "        vertical-align: top;\n",
       "    }\n",
       "\n",
       "    .dataframe thead th {\n",
       "        text-align: right;\n",
       "    }\n",
       "</style>\n",
       "<table border=\"1\" class=\"dataframe\">\n",
       "  <thead>\n",
       "    <tr style=\"text-align: right;\">\n",
       "      <th></th>\n",
       "      <th>Coef</th>\n",
       "      <th>Feature</th>\n",
       "    </tr>\n",
       "  </thead>\n",
       "  <tbody>\n",
       "    <tr>\n",
       "      <th>0</th>\n",
       "      <td>1.321354</td>\n",
       "      <td>Q(\"Lead Mgr\")[T.Feltl &amp; Co.]</td>\n",
       "    </tr>\n",
       "    <tr>\n",
       "      <th>1</th>\n",
       "      <td>1.242563</td>\n",
       "      <td>Q(\"Lead Mgr\")[T.Leerink Partners]</td>\n",
       "    </tr>\n",
       "    <tr>\n",
       "      <th>2</th>\n",
       "      <td>0.975289</td>\n",
       "      <td>Q(\"Lead Mgr\")[T.Axiom Capital Management]</td>\n",
       "    </tr>\n",
       "    <tr>\n",
       "      <th>3</th>\n",
       "      <td>0.918412</td>\n",
       "      <td>Q(\"Lead Mgr\")[T.Johnson Rice]</td>\n",
       "    </tr>\n",
       "    <tr>\n",
       "      <th>4</th>\n",
       "      <td>0.829852</td>\n",
       "      <td>Q(\"Lead Mgr\")[T.Dawson James Securities]</td>\n",
       "    </tr>\n",
       "  </tbody>\n",
       "</table>\n",
       "</div>"
      ],
      "text/plain": [
       "       Coef                                    Feature\n",
       "0  1.321354               Q(\"Lead Mgr\")[T.Feltl & Co.]\n",
       "1  1.242563          Q(\"Lead Mgr\")[T.Leerink Partners]\n",
       "2  0.975289  Q(\"Lead Mgr\")[T.Axiom Capital Management]\n",
       "3  0.918412              Q(\"Lead Mgr\")[T.Johnson Rice]\n",
       "4  0.829852   Q(\"Lead Mgr\")[T.Dawson James Securities]"
      ]
     },
     "execution_count": 56,
     "metadata": {},
     "output_type": "execute_result"
    }
   ],
   "source": [
    "fv = pd.DataFrame(X_train.columns, clf.coef_.T).reset_index()\n",
    "fv.columns = ['Coef', 'Feature']\n",
    "fv.sort_values('Coef', ascending=0).reset_index(drop=True)[:5]"
   ]
  },
  {
   "cell_type": "code",
   "execution_count": 57,
   "metadata": {
    "collapsed": false,
    "scrolled": true
   },
   "outputs": [
    {
     "data": {
      "text/html": [
       "<div>\n",
       "<style scoped>\n",
       "    .dataframe tbody tr th:only-of-type {\n",
       "        vertical-align: middle;\n",
       "    }\n",
       "\n",
       "    .dataframe tbody tr th {\n",
       "        vertical-align: top;\n",
       "    }\n",
       "\n",
       "    .dataframe thead th {\n",
       "        text-align: right;\n",
       "    }\n",
       "</style>\n",
       "<table border=\"1\" class=\"dataframe\">\n",
       "  <thead>\n",
       "    <tr style=\"text-align: right;\">\n",
       "      <th></th>\n",
       "      <th>Coef</th>\n",
       "      <th>Feature</th>\n",
       "    </tr>\n",
       "  </thead>\n",
       "  <tbody>\n",
       "    <tr>\n",
       "      <th>12</th>\n",
       "      <td>0.066621</td>\n",
       "      <td>Q(\"Week Day\")[T.Mon]</td>\n",
       "    </tr>\n",
       "    <tr>\n",
       "      <th>13</th>\n",
       "      <td>0.032937</td>\n",
       "      <td>Q(\"Week Day\")[T.Thurs]</td>\n",
       "    </tr>\n",
       "    <tr>\n",
       "      <th>14</th>\n",
       "      <td>-0.047538</td>\n",
       "      <td>Q(\"Week Day\")[T.Tues]</td>\n",
       "    </tr>\n",
       "    <tr>\n",
       "      <th>15</th>\n",
       "      <td>0.159165</td>\n",
       "      <td>Q(\"Week Day\")[T.Wed]</td>\n",
       "    </tr>\n",
       "  </tbody>\n",
       "</table>\n",
       "</div>"
      ],
      "text/plain": [
       "        Coef                 Feature\n",
       "12  0.066621    Q(\"Week Day\")[T.Mon]\n",
       "13  0.032937  Q(\"Week Day\")[T.Thurs]\n",
       "14 -0.047538   Q(\"Week Day\")[T.Tues]\n",
       "15  0.159165    Q(\"Week Day\")[T.Wed]"
      ]
     },
     "execution_count": 57,
     "metadata": {},
     "output_type": "execute_result"
    }
   ],
   "source": [
    "fv[fv['Feature'].str.contains('Week Day')]"
   ]
  },
  {
   "cell_type": "code",
   "execution_count": 58,
   "metadata": {
    "collapsed": false
   },
   "outputs": [
    {
     "data": {
      "text/html": [
       "<div>\n",
       "<style scoped>\n",
       "    .dataframe tbody tr th:only-of-type {\n",
       "        vertical-align: middle;\n",
       "    }\n",
       "\n",
       "    .dataframe tbody tr th {\n",
       "        vertical-align: top;\n",
       "    }\n",
       "\n",
       "    .dataframe thead th {\n",
       "        text-align: right;\n",
       "    }\n",
       "</style>\n",
       "<table border=\"1\" class=\"dataframe\">\n",
       "  <thead>\n",
       "    <tr style=\"text-align: right;\">\n",
       "      <th></th>\n",
       "      <th>Trade Date</th>\n",
       "      <th>Issuer</th>\n",
       "      <th>Symbol</th>\n",
       "      <th>Lead/Joint-Lead Managers</th>\n",
       "      <th>Offer Price</th>\n",
       "      <th>Opening Price</th>\n",
       "      <th>1st Day Close</th>\n",
       "      <th>1st Day % Px Chng</th>\n",
       "      <th>$ Change Opening</th>\n",
       "      <th>$ Change Close</th>\n",
       "      <th>...</th>\n",
       "      <th>Performed</th>\n",
       "      <th>cotc</th>\n",
       "      <th>spwc</th>\n",
       "      <th>spcoc</th>\n",
       "      <th>Lead Mgr</th>\n",
       "      <th>Total Underwriters</th>\n",
       "      <th>Week Day</th>\n",
       "      <th>Month</th>\n",
       "      <th>Gap Open Pct</th>\n",
       "      <th>Open to Close Pct</th>\n",
       "    </tr>\n",
       "  </thead>\n",
       "  <tbody>\n",
       "    <tr>\n",
       "      <th>1458</th>\n",
       "      <td>2011-06-22</td>\n",
       "      <td>Fidus Investment</td>\n",
       "      <td>FDUS</td>\n",
       "      <td>Morgan Keegan</td>\n",
       "      <td>15.0</td>\n",
       "      <td>14.75</td>\n",
       "      <td>15.00</td>\n",
       "      <td>0.00</td>\n",
       "      <td>-0.25</td>\n",
       "      <td>0.00</td>\n",
       "      <td>...</td>\n",
       "      <td>NaN</td>\n",
       "      <td>-1.666667</td>\n",
       "      <td>1.203782</td>\n",
       "      <td>-0.041957</td>\n",
       "      <td>Morgan Keegan</td>\n",
       "      <td>1</td>\n",
       "      <td>Wed</td>\n",
       "      <td>Jun</td>\n",
       "      <td>-1.694915</td>\n",
       "      <td>-1.694915</td>\n",
       "    </tr>\n",
       "    <tr>\n",
       "      <th>1810</th>\n",
       "      <td>2007-02-26</td>\n",
       "      <td>Rosetta Genomics</td>\n",
       "      <td>ROSG</td>\n",
       "      <td>C.E. Unterberg, Towbin</td>\n",
       "      <td>7.0</td>\n",
       "      <td>7.02</td>\n",
       "      <td>7.32</td>\n",
       "      <td>4.57</td>\n",
       "      <td>0.02</td>\n",
       "      <td>0.32</td>\n",
       "      <td>...</td>\n",
       "      <td>NaN</td>\n",
       "      <td>-4.098361</td>\n",
       "      <td>-0.407480</td>\n",
       "      <td>-0.008279</td>\n",
       "      <td>C.E. Unterberg, Towbin</td>\n",
       "      <td>1</td>\n",
       "      <td>Mon</td>\n",
       "      <td>Feb</td>\n",
       "      <td>0.284900</td>\n",
       "      <td>-4.273504</td>\n",
       "    </tr>\n",
       "    <tr>\n",
       "      <th>2400</th>\n",
       "      <td>2005-08-04</td>\n",
       "      <td>Advanced Life Sciences</td>\n",
       "      <td>ADLS</td>\n",
       "      <td>C.E. Unterberg, Towbin/ThinkEquity Partners</td>\n",
       "      <td>5.0</td>\n",
       "      <td>5.03</td>\n",
       "      <td>6.00</td>\n",
       "      <td>20.00</td>\n",
       "      <td>0.03</td>\n",
       "      <td>1.00</td>\n",
       "      <td>...</td>\n",
       "      <td>NaN</td>\n",
       "      <td>-16.166667</td>\n",
       "      <td>0.381750</td>\n",
       "      <td>0.000000</td>\n",
       "      <td>C.E. Unterberg, Towbin</td>\n",
       "      <td>2</td>\n",
       "      <td>Thurs</td>\n",
       "      <td>Aug</td>\n",
       "      <td>0.596421</td>\n",
       "      <td>-19.284294</td>\n",
       "    </tr>\n",
       "    <tr>\n",
       "      <th>2848</th>\n",
       "      <td>2002-05-21</td>\n",
       "      <td>Computer Programs and Systems</td>\n",
       "      <td>CPSI</td>\n",
       "      <td>Morgan Keegan/Raymond James</td>\n",
       "      <td>16.5</td>\n",
       "      <td>17.50</td>\n",
       "      <td>18.12</td>\n",
       "      <td>9.82</td>\n",
       "      <td>1.00</td>\n",
       "      <td>1.62</td>\n",
       "      <td>...</td>\n",
       "      <td>NaN</td>\n",
       "      <td>-3.421634</td>\n",
       "      <td>2.359266</td>\n",
       "      <td>0.000000</td>\n",
       "      <td>Morgan Keegan</td>\n",
       "      <td>2</td>\n",
       "      <td>Tues</td>\n",
       "      <td>May</td>\n",
       "      <td>5.714286</td>\n",
       "      <td>-3.542857</td>\n",
       "    </tr>\n",
       "    <tr>\n",
       "      <th>2929</th>\n",
       "      <td>2001-05-23</td>\n",
       "      <td>Smith &amp; Wollensky</td>\n",
       "      <td>SWRG</td>\n",
       "      <td>CE Unterberg Towbin</td>\n",
       "      <td>8.5</td>\n",
       "      <td>8.51</td>\n",
       "      <td>7.77</td>\n",
       "      <td>-8.59</td>\n",
       "      <td>0.01</td>\n",
       "      <td>-0.73</td>\n",
       "      <td>...</td>\n",
       "      <td>NaN</td>\n",
       "      <td>9.523810</td>\n",
       "      <td>3.213176</td>\n",
       "      <td>0.000000</td>\n",
       "      <td>CE Unterberg Towbin</td>\n",
       "      <td>1</td>\n",
       "      <td>Wed</td>\n",
       "      <td>May</td>\n",
       "      <td>0.117509</td>\n",
       "      <td>8.695652</td>\n",
       "    </tr>\n",
       "    <tr>\n",
       "      <th>2987</th>\n",
       "      <td>2001-12-14</td>\n",
       "      <td>Northwest Biotherapeutics</td>\n",
       "      <td>NWBT</td>\n",
       "      <td>C.E. Unterberg, Towbin</td>\n",
       "      <td>5.0</td>\n",
       "      <td>5.10</td>\n",
       "      <td>5.31</td>\n",
       "      <td>6.20</td>\n",
       "      <td>0.10</td>\n",
       "      <td>0.31</td>\n",
       "      <td>...</td>\n",
       "      <td>NaN</td>\n",
       "      <td>-3.954802</td>\n",
       "      <td>-4.038109</td>\n",
       "      <td>0.000000</td>\n",
       "      <td>C.E. Unterberg, Towbin</td>\n",
       "      <td>1</td>\n",
       "      <td>Fri</td>\n",
       "      <td>Dec</td>\n",
       "      <td>1.960784</td>\n",
       "      <td>-4.117647</td>\n",
       "    </tr>\n",
       "    <tr>\n",
       "      <th>3119</th>\n",
       "      <td>2000-08-09</td>\n",
       "      <td>Millennium Cell</td>\n",
       "      <td>MCEL</td>\n",
       "      <td>Morgan Keegan</td>\n",
       "      <td>10.0</td>\n",
       "      <td>10.00</td>\n",
       "      <td>10.00</td>\n",
       "      <td>0.00</td>\n",
       "      <td>0.00</td>\n",
       "      <td>0.00</td>\n",
       "      <td>...</td>\n",
       "      <td>NaN</td>\n",
       "      <td>0.000000</td>\n",
       "      <td>2.938158</td>\n",
       "      <td>0.000000</td>\n",
       "      <td>Morgan Keegan</td>\n",
       "      <td>1</td>\n",
       "      <td>Wed</td>\n",
       "      <td>Aug</td>\n",
       "      <td>0.000000</td>\n",
       "      <td>0.000000</td>\n",
       "    </tr>\n",
       "    <tr>\n",
       "      <th>3149</th>\n",
       "      <td>2000-08-25</td>\n",
       "      <td>ServiceWare Technologies</td>\n",
       "      <td>SVCW</td>\n",
       "      <td>C.E. Unterberg, Towbin</td>\n",
       "      <td>7.0</td>\n",
       "      <td>8.50</td>\n",
       "      <td>8.75</td>\n",
       "      <td>25.00</td>\n",
       "      <td>1.50</td>\n",
       "      <td>1.75</td>\n",
       "      <td>...</td>\n",
       "      <td>NaN</td>\n",
       "      <td>-2.857143</td>\n",
       "      <td>1.797478</td>\n",
       "      <td>0.000000</td>\n",
       "      <td>C.E. Unterberg, Towbin</td>\n",
       "      <td>1</td>\n",
       "      <td>Fri</td>\n",
       "      <td>Aug</td>\n",
       "      <td>17.647059</td>\n",
       "      <td>-2.941176</td>\n",
       "    </tr>\n",
       "  </tbody>\n",
       "</table>\n",
       "<p>8 rows × 21 columns</p>\n",
       "</div>"
      ],
      "text/plain": [
       "     Trade Date                         Issuer Symbol  \\\n",
       "1458 2011-06-22               Fidus Investment   FDUS   \n",
       "1810 2007-02-26               Rosetta Genomics   ROSG   \n",
       "2400 2005-08-04         Advanced Life Sciences   ADLS   \n",
       "2848 2002-05-21  Computer Programs and Systems   CPSI   \n",
       "2929 2001-05-23              Smith & Wollensky   SWRG   \n",
       "2987 2001-12-14      Northwest Biotherapeutics   NWBT   \n",
       "3119 2000-08-09                Millennium Cell   MCEL   \n",
       "3149 2000-08-25       ServiceWare Technologies   SVCW   \n",
       "\n",
       "                         Lead/Joint-Lead Managers  Offer Price  Opening Price  \\\n",
       "1458                                Morgan Keegan         15.0          14.75   \n",
       "1810                       C.E. Unterberg, Towbin          7.0           7.02   \n",
       "2400  C.E. Unterberg, Towbin/ThinkEquity Partners          5.0           5.03   \n",
       "2848                  Morgan Keegan/Raymond James         16.5          17.50   \n",
       "2929                          CE Unterberg Towbin          8.5           8.51   \n",
       "2987                       C.E. Unterberg, Towbin          5.0           5.10   \n",
       "3119                                Morgan Keegan         10.0          10.00   \n",
       "3149                       C.E. Unterberg, Towbin          7.0           8.50   \n",
       "\n",
       "      1st Day Close  1st Day % Px Chng  $ Change Opening  $ Change Close  ...  \\\n",
       "1458          15.00               0.00             -0.25            0.00  ...   \n",
       "1810           7.32               4.57              0.02            0.32  ...   \n",
       "2400           6.00              20.00              0.03            1.00  ...   \n",
       "2848          18.12               9.82              1.00            1.62  ...   \n",
       "2929           7.77              -8.59              0.01           -0.73  ...   \n",
       "2987           5.31               6.20              0.10            0.31  ...   \n",
       "3119          10.00               0.00              0.00            0.00  ...   \n",
       "3149           8.75              25.00              1.50            1.75  ...   \n",
       "\n",
       "      Performed       cotc      spwc     spcoc                Lead Mgr  \\\n",
       "1458        NaN  -1.666667  1.203782 -0.041957           Morgan Keegan   \n",
       "1810        NaN  -4.098361 -0.407480 -0.008279  C.E. Unterberg, Towbin   \n",
       "2400        NaN -16.166667  0.381750  0.000000  C.E. Unterberg, Towbin   \n",
       "2848        NaN  -3.421634  2.359266  0.000000           Morgan Keegan   \n",
       "2929        NaN   9.523810  3.213176  0.000000     CE Unterberg Towbin   \n",
       "2987        NaN  -3.954802 -4.038109  0.000000  C.E. Unterberg, Towbin   \n",
       "3119        NaN   0.000000  2.938158  0.000000           Morgan Keegan   \n",
       "3149        NaN  -2.857143  1.797478  0.000000  C.E. Unterberg, Towbin   \n",
       "\n",
       "     Total Underwriters  Week Day Month Gap Open Pct  Open to Close Pct  \n",
       "1458                  1       Wed   Jun    -1.694915          -1.694915  \n",
       "1810                  1       Mon   Feb     0.284900          -4.273504  \n",
       "2400                  2     Thurs   Aug     0.596421         -19.284294  \n",
       "2848                  2      Tues   May     5.714286          -3.542857  \n",
       "2929                  1       Wed   May     0.117509           8.695652  \n",
       "2987                  1       Fri   Dec     1.960784          -4.117647  \n",
       "3119                  1       Wed   Aug     0.000000           0.000000  \n",
       "3149                  1       Fri   Aug    17.647059          -2.941176  \n",
       "\n",
       "[8 rows x 21 columns]"
      ]
     },
     "execution_count": 58,
     "metadata": {},
     "output_type": "execute_result"
    }
   ],
   "source": [
    "ipos[ipos['Lead Mgr'].str.contains('Keegan|Towbin')]"
   ]
  },
  {
   "cell_type": "code",
   "execution_count": 79,
   "metadata": {
    "collapsed": false,
    "scrolled": true
   },
   "outputs": [
    {
     "data": {
      "text/plain": [
       "0.5981308411214953"
      ]
     },
     "execution_count": 79,
     "metadata": {},
     "output_type": "execute_result"
    }
   ],
   "source": [
    "# use RandomForestClassifier\n",
    "from sklearn.ensemble import RandomForestClassifier\n",
    "clf_rf = RandomForestClassifier(n_estimators=500)\n",
    "model = clf_rf.fit(X_train, y_train)\n",
    "clf_rf.score(X_test, y_test)"
   ]
  },
  {
   "cell_type": "code",
   "execution_count": 81,
   "metadata": {
    "collapsed": false,
    "scrolled": true
   },
   "outputs": [
    {
     "data": {
      "text/html": [
       "<div>\n",
       "<style scoped>\n",
       "    .dataframe tbody tr th:only-of-type {\n",
       "        vertical-align: middle;\n",
       "    }\n",
       "\n",
       "    .dataframe tbody tr th {\n",
       "        vertical-align: top;\n",
       "    }\n",
       "\n",
       "    .dataframe thead th {\n",
       "        text-align: right;\n",
       "    }\n",
       "</style>\n",
       "<table border=\"1\" class=\"dataframe\">\n",
       "  <thead>\n",
       "    <tr style=\"text-align: right;\">\n",
       "      <th></th>\n",
       "      <th>index</th>\n",
       "      <th>$ chg</th>\n",
       "      <th>predicted</th>\n",
       "      <th>actual</th>\n",
       "      <th>correct</th>\n",
       "    </tr>\n",
       "  </thead>\n",
       "  <tbody>\n",
       "    <tr>\n",
       "      <th>395</th>\n",
       "      <td>395</td>\n",
       "      <td>35.041322</td>\n",
       "      <td>1</td>\n",
       "      <td>1</td>\n",
       "      <td>1</td>\n",
       "    </tr>\n",
       "    <tr>\n",
       "      <th>192</th>\n",
       "      <td>192</td>\n",
       "      <td>30.841121</td>\n",
       "      <td>0</td>\n",
       "      <td>1</td>\n",
       "      <td>0</td>\n",
       "    </tr>\n",
       "    <tr>\n",
       "      <th>17</th>\n",
       "      <td>17</td>\n",
       "      <td>29.411765</td>\n",
       "      <td>0</td>\n",
       "      <td>1</td>\n",
       "      <td>0</td>\n",
       "    </tr>\n",
       "    <tr>\n",
       "      <th>328</th>\n",
       "      <td>328</td>\n",
       "      <td>27.314815</td>\n",
       "      <td>0</td>\n",
       "      <td>1</td>\n",
       "      <td>0</td>\n",
       "    </tr>\n",
       "    <tr>\n",
       "      <th>193</th>\n",
       "      <td>193</td>\n",
       "      <td>26.782884</td>\n",
       "      <td>0</td>\n",
       "      <td>1</td>\n",
       "      <td>0</td>\n",
       "    </tr>\n",
       "  </tbody>\n",
       "</table>\n",
       "</div>"
      ],
      "text/plain": [
       "     index      $ chg  predicted  actual  correct\n",
       "395    395  35.041322          1       1        1\n",
       "192    192  30.841121          0       1        0\n",
       "17      17  29.411765          0       1        0\n",
       "328    328  27.314815          0       1        0\n",
       "193    193  26.782884          0       1        0"
      ]
     },
     "execution_count": 81,
     "metadata": {},
     "output_type": "execute_result"
    }
   ],
   "source": [
    "pred_label_rf = model.predict(X_test)\n",
    "results_rf=[]\n",
    "for pl, tl, idx, chg in zip(pred_label_rf, y_test, y_test.index, ipos.iloc[y_test.index]['cotc']):\n",
    "    if pl == tl:\n",
    "        results_rf.append([idx, chg, pl, tl, 1])\n",
    "    else:\n",
    "        results_rf.append([idx, chg, pl, tl, 0])\n",
    "rf2 = pd.DataFrame(results_rf, columns=['index', '$ chg', 'predicted', 'actual', 'correct'])\n",
    "rf2.sort_values('$ chg', ascending=False)[:5]"
   ]
  },
  {
   "cell_type": "code",
   "execution_count": 82,
   "metadata": {
    "collapsed": false
   },
   "outputs": [
    {
     "data": {
      "text/plain": [
       "-66.06198849426232"
      ]
     },
     "execution_count": 82,
     "metadata": {},
     "output_type": "execute_result"
    }
   ],
   "source": [
    "rf2[rf2['predicted']==1]['$ chg'].sum()"
   ]
  },
  {
   "cell_type": "code",
   "execution_count": 84,
   "metadata": {
    "collapsed": false
   },
   "outputs": [
    {
     "data": {
      "text/plain": [
       "<matplotlib.axes._subplots.AxesSubplot at 0x7f73522d3748>"
      ]
     },
     "execution_count": 84,
     "metadata": {},
     "output_type": "execute_result"
    },
    {
     "data": {
      "image/png": "[encoded data removed]",
      "text/plain": [
       "<Figure size 792x360 with 1 Axes>"
      ]
     },
     "metadata": {
      "needs_background": "light"
     },
     "output_type": "display_data"
    }
   ],
   "source": [
    "rf2[rf2['predicted']==1]['$ chg'].plot(kind='bar', figsize=(11,5))"
   ]
  },
  {
   "cell_type": "code",
   "execution_count": 85,
   "metadata": {
    "collapsed": false
   },
   "outputs": [
    {
     "data": {
      "image/png": "[encoded data removed]",
      "text/plain": [
       "<Figure size 1080x720 with 1 Axes>"
      ]
     },
     "metadata": {
      "needs_background": "light"
     },
     "output_type": "display_data"
    }
   ],
   "source": [
    "f_importances = clf_rf.feature_importances_\n",
    "f_names = X_train\n",
    "f_std = np.std([tree.feature_importances_ for tree in clf_rf.estimators_], axis=0)\n",
    "\n",
    "zz = zip(f_importances, f_names, f_std)\n",
    "zzs = sorted(zz, key=lambda x: x[0], reverse=True)\n",
    "\n",
    "imps = [x[0] for x in zzs[:20]]\n",
    "labels = [x[1] for x in zzs[:20]]\n",
    "errs = [x[2] for x in zzs[:20]]\n",
    "\n",
    "plt.subplots(figsize=(15,10))\n",
    "plt.bar(range(20), imps, color=\"r\", yerr=errs, align=\"center\")\n",
    "plt.xticks(range(20), labels, rotation=-70);"
   ]
  },
  {
   "cell_type": "code",
   "execution_count": null,
   "metadata": {},
   "outputs": [],
   "source": []
  }
 ],
 "metadata": {
  "kernelspec": {
   "display_name": "Python 3",
   "language": "python",
   "name": "python3"
  },
  "language_info": {
   "codemirror_mode": {
    "name": "ipython",
    "version": 3
   },
   "file_extension": ".py",
   "mimetype": "text/x-python",
   "name": "python",
   "nbconvert_exporter": "python",
   "pygments_lexer": "ipython3",
   "version": "3.7.2"
  }
 },
 "nbformat": 4,
 "nbformat_minor": 2
}
