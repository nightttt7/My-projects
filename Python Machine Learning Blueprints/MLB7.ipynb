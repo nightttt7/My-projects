{
 "cells": [
  {
   "cell_type": "code",
   "execution_count": 31,
   "metadata": {},
   "outputs": [],
   "source": [
    "import pandas as pd\n",
    "import numpy as np\n",
    "import pandas_datareader as pdr\n",
    "# from pandas_datareader import data, wb\n",
    "import matplotlib.pyplot as plt\n",
    "%matplotlib inline\n",
    "pd.set_option('display.max_colwidth',200)"
   ]
  },
  {
   "cell_type": "code",
   "execution_count": 87,
   "metadata": {},
   "outputs": [],
   "source": [
    "from sklearn.svm import SVR"
   ]
  },
  {
   "cell_type": "markdown",
   "metadata": {},
   "source": [
    "# --- short period ---"
   ]
  },
  {
   "cell_type": "code",
   "execution_count": 32,
   "metadata": {},
   "outputs": [
    {
     "data": {
      "text/html": [
       "<div>\n",
       "<style scoped>\n",
       "    .dataframe tbody tr th:only-of-type {\n",
       "        vertical-align: middle;\n",
       "    }\n",
       "\n",
       "    .dataframe tbody tr th {\n",
       "        vertical-align: top;\n",
       "    }\n",
       "\n",
       "    .dataframe thead th {\n",
       "        text-align: right;\n",
       "    }\n",
       "</style>\n",
       "<table border=\"1\" class=\"dataframe\">\n",
       "  <thead>\n",
       "    <tr style=\"text-align: right;\">\n",
       "      <th></th>\n",
       "      <th>High</th>\n",
       "      <th>Low</th>\n",
       "      <th>Open</th>\n",
       "      <th>Close</th>\n",
       "      <th>Volume</th>\n",
       "      <th>Adj Close</th>\n",
       "    </tr>\n",
       "    <tr>\n",
       "      <th>Date</th>\n",
       "      <th></th>\n",
       "      <th></th>\n",
       "      <th></th>\n",
       "      <th></th>\n",
       "      <th></th>\n",
       "      <th></th>\n",
       "    </tr>\n",
       "  </thead>\n",
       "  <tbody>\n",
       "    <tr>\n",
       "      <th>2010-01-04</th>\n",
       "      <td>113.389999</td>\n",
       "      <td>111.510002</td>\n",
       "      <td>112.370003</td>\n",
       "      <td>113.330002</td>\n",
       "      <td>118944600.0</td>\n",
       "      <td>93.675278</td>\n",
       "    </tr>\n",
       "    <tr>\n",
       "      <th>2010-01-05</th>\n",
       "      <td>113.680000</td>\n",
       "      <td>112.849998</td>\n",
       "      <td>113.260002</td>\n",
       "      <td>113.629997</td>\n",
       "      <td>111579900.0</td>\n",
       "      <td>93.923241</td>\n",
       "    </tr>\n",
       "    <tr>\n",
       "      <th>2010-01-06</th>\n",
       "      <td>113.989998</td>\n",
       "      <td>113.430000</td>\n",
       "      <td>113.519997</td>\n",
       "      <td>113.709999</td>\n",
       "      <td>116074400.0</td>\n",
       "      <td>93.989357</td>\n",
       "    </tr>\n",
       "    <tr>\n",
       "      <th>2010-01-07</th>\n",
       "      <td>114.330002</td>\n",
       "      <td>113.180000</td>\n",
       "      <td>113.500000</td>\n",
       "      <td>114.190002</td>\n",
       "      <td>131091100.0</td>\n",
       "      <td>94.386139</td>\n",
       "    </tr>\n",
       "    <tr>\n",
       "      <th>2010-01-08</th>\n",
       "      <td>114.620003</td>\n",
       "      <td>113.660004</td>\n",
       "      <td>113.889999</td>\n",
       "      <td>114.570000</td>\n",
       "      <td>126402800.0</td>\n",
       "      <td>94.700218</td>\n",
       "    </tr>\n",
       "  </tbody>\n",
       "</table>\n",
       "</div>"
      ],
      "text/plain": [
       "                  High         Low        Open       Close       Volume  \\\n",
       "Date                                                                      \n",
       "2010-01-04  113.389999  111.510002  112.370003  113.330002  118944600.0   \n",
       "2010-01-05  113.680000  112.849998  113.260002  113.629997  111579900.0   \n",
       "2010-01-06  113.989998  113.430000  113.519997  113.709999  116074400.0   \n",
       "2010-01-07  114.330002  113.180000  113.500000  114.190002  131091100.0   \n",
       "2010-01-08  114.620003  113.660004  113.889999  114.570000  126402800.0   \n",
       "\n",
       "            Adj Close  \n",
       "Date                   \n",
       "2010-01-04  93.675278  \n",
       "2010-01-05  93.923241  \n",
       "2010-01-06  93.989357  \n",
       "2010-01-07  94.386139  \n",
       "2010-01-08  94.700218  "
      ]
     },
     "execution_count": 32,
     "metadata": {},
     "output_type": "execute_result"
    }
   ],
   "source": [
    "# date period\n",
    "start_date = pd.to_datetime('2010-01-01')\n",
    "end_date = pd.to_datetime('2016-03-01')\n",
    "\n",
    "# get data from yahoo through pandas_datareader\n",
    "spy = pdr.data.get_data_yahoo('SPY', start_date, end_date)\n",
    "spy.head()"
   ]
  },
  {
   "cell_type": "code",
   "execution_count": 33,
   "metadata": {},
   "outputs": [
    {
     "data": {
      "text/plain": [
       "<matplotlib.axes._subplots.AxesSubplot at 0x7fcc2fbc0358>"
      ]
     },
     "execution_count": 33,
     "metadata": {},
     "output_type": "execute_result"
    },
    {
     "data": {
      "image/png": "[encoded data removed]",
      "text/plain": [
       "<Figure size 432x288 with 1 Axes>"
      ]
     },
     "metadata": {
      "needs_background": "light"
     },
     "output_type": "display_data"
    }
   ],
   "source": [
    "spy.Close.plot()"
   ]
  },
  {
   "cell_type": "code",
   "execution_count": 40,
   "metadata": {},
   "outputs": [
    {
     "data": {
      "text/plain": [
       "43.36016845703125"
      ]
     },
     "execution_count": 40,
     "metadata": {},
     "output_type": "execute_result"
    }
   ],
   "source": [
    "spy['daily change'] = spy.Close - spy.Open\n",
    "spy['daily change'].sum()"
   ]
  },
  {
   "cell_type": "code",
   "execution_count": 41,
   "metadata": {},
   "outputs": [
    {
     "data": {
      "text/plain": [
       "42.37982940673828"
      ]
     },
     "execution_count": 41,
     "metadata": {},
     "output_type": "execute_result"
    }
   ],
   "source": [
    "spy['overnight change'] = spy.Open - spy.Close.shift(1)\n",
    "spy['overnight change'].sum()"
   ]
  },
  {
   "cell_type": "code",
   "execution_count": 42,
   "metadata": {},
   "outputs": [
    {
     "data": {
      "text/plain": [
       "1.1464625384613436"
      ]
     },
     "execution_count": 42,
     "metadata": {},
     "output_type": "execute_result"
    }
   ],
   "source": [
    "np.std(spy['daily change'])"
   ]
  },
  {
   "cell_type": "code",
   "execution_count": 43,
   "metadata": {},
   "outputs": [
    {
     "data": {
      "text/plain": [
       "0.9535898434673087"
      ]
     },
     "execution_count": 43,
     "metadata": {},
     "output_type": "execute_result"
    }
   ],
   "source": [
    "np.std(spy['overnight change'])"
   ]
  },
  {
   "cell_type": "code",
   "execution_count": 46,
   "metadata": {},
   "outputs": [
    {
     "data": {
      "text/plain": [
       "-0.905834890069394"
      ]
     },
     "execution_count": 46,
     "metadata": {},
     "output_type": "execute_result"
    }
   ],
   "source": [
    "# negative mean\n",
    "spy[spy['daily change']<0]['daily change'].mean()"
   ]
  },
  {
   "cell_type": "code",
   "execution_count": 47,
   "metadata": {},
   "outputs": [
    {
     "data": {
      "text/plain": [
       "-0.6649585617913141"
      ]
     },
     "execution_count": 47,
     "metadata": {},
     "output_type": "execute_result"
    }
   ],
   "source": [
    "spy[spy['overnight change']<0]['overnight change'].mean()"
   ]
  },
  {
   "cell_type": "code",
   "execution_count": 50,
   "metadata": {},
   "outputs": [],
   "source": [
    "t_re = spy.Close/spy.Close.shift(1) - 1\n",
    "d_re = spy.Close/spy.Open - 1\n",
    "n_re = spy.Open/spy.Close.shift(1) - 1"
   ]
  },
  {
   "cell_type": "code",
   "execution_count": 57,
   "metadata": {},
   "outputs": [],
   "source": [
    "def get_stats(s, n=252):\n",
    "    s = s.dropna()\n",
    "    wins = len(s[s>0])\n",
    "    losses = len(s[s<0])\n",
    "    evens = len(s[s==0])\n",
    "    mean_w = round(s[s>0].mean(), 3)\n",
    "    mean_l = round(s[s<0].mean(), 3)\n",
    "    win_r = round(wins/losses, 3)\n",
    "    mean_trd = round(s.mean(), 3)\n",
    "    sd = round(np.std(s), 3)\n",
    "    max_l = round(s.min(), 3)\n",
    "    max_w = round(s.max(), 3)\n",
    "    sharpe_r = round((s.mean()/np.std(s))*np.sqrt(n), 4)\n",
    "    cnt = len(s)\n",
    "    print('Trades:', cnt,\\\n",
    "          '\\nWins:', wins,\\\n",
    "          '\\nLosses:', losses,\\\n",
    "          '\\nBreakeven:', evens,\\\n",
    "          '\\nWin/Loss Ratio', win_r,\\\n",
    "          '\\nMean Win:', mean_w,\\\n",
    "          '\\nMean Loss:', mean_l,\\\n",
    "          '\\nMean', mean_trd,\\\n",
    "          '\\nStd Dev:', sd,\\\n",
    "          '\\nMax Loss:', max_l,\\\n",
    "          '\\nMax Win:', max_w,\\\n",
    "          '\\nSharpe Ratio:', sharpe_r)"
   ]
  },
  {
   "cell_type": "code",
   "execution_count": 58,
   "metadata": {},
   "outputs": [
    {
     "name": "stdout",
     "output_type": "stream",
     "text": [
      "Trades: 1549 \n",
      "Wins: 844 \n",
      "Losses: 699 \n",
      "Breakeven: 6 \n",
      "Win/Loss Ratio 1.207 \n",
      "Mean Win: 0.007 \n",
      "Mean Loss: -0.007 \n",
      "Mean 0.0 \n",
      "Std Dev: 0.01 \n",
      "Max Loss: -0.065 \n",
      "Max Win: 0.046 \n",
      "Sharpe Ratio: 0.6477\n"
     ]
    }
   ],
   "source": [
    "get_stats(t_re)"
   ]
  },
  {
   "cell_type": "code",
   "execution_count": 59,
   "metadata": {},
   "outputs": [
    {
     "name": "stdout",
     "output_type": "stream",
     "text": [
      "Trades: 1550 \n",
      "Wins: 851 \n",
      "Losses: 689 \n",
      "Breakeven: 10 \n",
      "Win/Loss Ratio 1.235 \n",
      "Mean Win: 0.005 \n",
      "Mean Loss: -0.006 \n",
      "Mean 0.0 \n",
      "Std Dev: 0.008 \n",
      "Max Loss: -0.042 \n",
      "Max Win: 0.037 \n",
      "Sharpe Ratio: 0.4472\n"
     ]
    }
   ],
   "source": [
    "get_stats(d_re)"
   ]
  },
  {
   "cell_type": "code",
   "execution_count": 60,
   "metadata": {},
   "outputs": [
    {
     "name": "stdout",
     "output_type": "stream",
     "text": [
      "Trades: 1549 \n",
      "Wins: 821 \n",
      "Losses: 720 \n",
      "Breakeven: 8 \n",
      "Win/Loss Ratio 1.14 \n",
      "Mean Win: 0.004 \n",
      "Mean Loss: -0.004 \n",
      "Mean 0.0 \n",
      "Std Dev: 0.006 \n",
      "Max Loss: -0.052 \n",
      "Max Win: 0.041 \n",
      "Sharpe Ratio: 0.5071\n"
     ]
    }
   ],
   "source": [
    "get_stats(n_re)"
   ]
  },
  {
   "cell_type": "markdown",
   "metadata": {},
   "source": [
    "# --- longer period --- "
   ]
  },
  {
   "cell_type": "code",
   "execution_count": 61,
   "metadata": {},
   "outputs": [
    {
     "data": {
      "text/html": [
       "<div>\n",
       "<style scoped>\n",
       "    .dataframe tbody tr th:only-of-type {\n",
       "        vertical-align: middle;\n",
       "    }\n",
       "\n",
       "    .dataframe tbody tr th {\n",
       "        vertical-align: top;\n",
       "    }\n",
       "\n",
       "    .dataframe thead th {\n",
       "        text-align: right;\n",
       "    }\n",
       "</style>\n",
       "<table border=\"1\" class=\"dataframe\">\n",
       "  <thead>\n",
       "    <tr style=\"text-align: right;\">\n",
       "      <th></th>\n",
       "      <th>High</th>\n",
       "      <th>Low</th>\n",
       "      <th>Open</th>\n",
       "      <th>Close</th>\n",
       "      <th>Volume</th>\n",
       "      <th>Adj Close</th>\n",
       "    </tr>\n",
       "    <tr>\n",
       "      <th>Date</th>\n",
       "      <th></th>\n",
       "      <th></th>\n",
       "      <th></th>\n",
       "      <th></th>\n",
       "      <th></th>\n",
       "      <th></th>\n",
       "    </tr>\n",
       "  </thead>\n",
       "  <tbody>\n",
       "    <tr>\n",
       "      <th>2000-01-03</th>\n",
       "      <td>148.25000</td>\n",
       "      <td>143.875000</td>\n",
       "      <td>148.25000</td>\n",
       "      <td>145.4375</td>\n",
       "      <td>8164300.0</td>\n",
       "      <td>100.934494</td>\n",
       "    </tr>\n",
       "    <tr>\n",
       "      <th>2000-01-04</th>\n",
       "      <td>144.06250</td>\n",
       "      <td>139.640625</td>\n",
       "      <td>143.53125</td>\n",
       "      <td>139.7500</td>\n",
       "      <td>8089800.0</td>\n",
       "      <td>96.987312</td>\n",
       "    </tr>\n",
       "    <tr>\n",
       "      <th>2000-01-05</th>\n",
       "      <td>141.53125</td>\n",
       "      <td>137.250000</td>\n",
       "      <td>139.93750</td>\n",
       "      <td>140.0000</td>\n",
       "      <td>12177900.0</td>\n",
       "      <td>97.160843</td>\n",
       "    </tr>\n",
       "    <tr>\n",
       "      <th>2000-01-06</th>\n",
       "      <td>141.50000</td>\n",
       "      <td>137.750000</td>\n",
       "      <td>139.62500</td>\n",
       "      <td>137.7500</td>\n",
       "      <td>6227200.0</td>\n",
       "      <td>95.599319</td>\n",
       "    </tr>\n",
       "    <tr>\n",
       "      <th>2000-01-07</th>\n",
       "      <td>145.75000</td>\n",
       "      <td>140.062500</td>\n",
       "      <td>140.31250</td>\n",
       "      <td>145.7500</td>\n",
       "      <td>8066500.0</td>\n",
       "      <td>101.151367</td>\n",
       "    </tr>\n",
       "  </tbody>\n",
       "</table>\n",
       "</div>"
      ],
      "text/plain": [
       "                 High         Low       Open     Close      Volume   Adj Close\n",
       "Date                                                                          \n",
       "2000-01-03  148.25000  143.875000  148.25000  145.4375   8164300.0  100.934494\n",
       "2000-01-04  144.06250  139.640625  143.53125  139.7500   8089800.0   96.987312\n",
       "2000-01-05  141.53125  137.250000  139.93750  140.0000  12177900.0   97.160843\n",
       "2000-01-06  141.50000  137.750000  139.62500  137.7500   6227200.0   95.599319\n",
       "2000-01-07  145.75000  140.062500  140.31250  145.7500   8066500.0  101.151367"
      ]
     },
     "execution_count": 61,
     "metadata": {},
     "output_type": "execute_result"
    }
   ],
   "source": [
    "# date period\n",
    "start_date = pd.to_datetime('2000-01-01')\n",
    "end_date = pd.to_datetime('2016-03-01')\n",
    "\n",
    "# get data from yahoo through pandas_datareader\n",
    "spy = pdr.data.get_data_yahoo('SPY', start_date, end_date)\n",
    "spy.head()"
   ]
  },
  {
   "cell_type": "code",
   "execution_count": 63,
   "metadata": {},
   "outputs": [
    {
     "data": {
      "text/plain": [
       "<matplotlib.axes._subplots.AxesSubplot at 0x7fcc2fa2f5f8>"
      ]
     },
     "execution_count": 63,
     "metadata": {},
     "output_type": "execute_result"
    },
    {
     "data": {
      "image/png": "[encoded data removed]",
      "text/plain": [
       "<Figure size 432x288 with 1 Axes>"
      ]
     },
     "metadata": {
      "needs_background": "light"
     },
     "output_type": "display_data"
    }
   ],
   "source": [
    "spy.Close.plot()"
   ]
  },
  {
   "cell_type": "code",
   "execution_count": 64,
   "metadata": {},
   "outputs": [],
   "source": [
    "t_re = spy.Close/spy.Close.shift(1) - 1\n",
    "d_re = spy.Close/spy.Open - 1\n",
    "n_re = spy.Open/spy.Close.shift(1) - 1"
   ]
  },
  {
   "cell_type": "code",
   "execution_count": 65,
   "metadata": {},
   "outputs": [
    {
     "data": {
      "text/plain": [
       "52.67250061035156"
      ]
     },
     "execution_count": 65,
     "metadata": {},
     "output_type": "execute_result"
    }
   ],
   "source": [
    "(spy['Close'] - spy['Close'].shift(1)).sum()"
   ]
  },
  {
   "cell_type": "code",
   "execution_count": 66,
   "metadata": {},
   "outputs": [
    {
     "data": {
      "text/plain": [
       "-36.91032409667969"
      ]
     },
     "execution_count": 66,
     "metadata": {},
     "output_type": "execute_result"
    }
   ],
   "source": [
    "(spy['Close'] - spy['Open']).sum()"
   ]
  },
  {
   "cell_type": "code",
   "execution_count": 68,
   "metadata": {},
   "outputs": [
    {
     "data": {
      "text/plain": [
       "86.77032470703125"
      ]
     },
     "execution_count": 68,
     "metadata": {},
     "output_type": "execute_result"
    }
   ],
   "source": [
    "(spy['Open'] - spy['Close'].shift(1)).sum()"
   ]
  },
  {
   "cell_type": "code",
   "execution_count": 69,
   "metadata": {},
   "outputs": [
    {
     "name": "stdout",
     "output_type": "stream",
     "text": [
      "Trades: 4064 \n",
      "Wins: 2168 \n",
      "Losses: 1881 \n",
      "Breakeven: 15 \n",
      "Win/Loss Ratio 1.153 \n",
      "Mean Win: 0.008 \n",
      "Mean Loss: -0.009 \n",
      "Mean 0.0 \n",
      "Std Dev: 0.013 \n",
      "Max Loss: -0.098 \n",
      "Max Win: 0.145 \n",
      "Sharpe Ratio: 0.1958\n"
     ]
    }
   ],
   "source": [
    "get_stats(t_re)"
   ]
  },
  {
   "cell_type": "code",
   "execution_count": 70,
   "metadata": {},
   "outputs": [
    {
     "name": "stdout",
     "output_type": "stream",
     "text": [
      "Trades: 4065 \n",
      "Wins: 2128 \n",
      "Losses: 1908 \n",
      "Breakeven: 29 \n",
      "Win/Loss Ratio 1.115 \n",
      "Mean Win: 0.007 \n",
      "Mean Loss: -0.008 \n",
      "Mean -0.0 \n",
      "Std Dev: 0.011 \n",
      "Max Loss: -0.09 \n",
      "Max Win: 0.084 \n",
      "Sharpe Ratio: -0.0063\n"
     ]
    }
   ],
   "source": [
    "get_stats(d_re)"
   ]
  },
  {
   "cell_type": "code",
   "execution_count": 71,
   "metadata": {},
   "outputs": [
    {
     "name": "stdout",
     "output_type": "stream",
     "text": [
      "Trades: 4064 \n",
      "Wins: 2152 \n",
      "Losses: 1878 \n",
      "Breakeven: 34 \n",
      "Win/Loss Ratio 1.146 \n",
      "Mean Win: 0.004 \n",
      "Mean Loss: -0.005 \n",
      "Mean 0.0 \n",
      "Std Dev: 0.007 \n",
      "Max Loss: -0.083 \n",
      "Max Win: 0.061 \n",
      "Sharpe Ratio: 0.3541\n"
     ]
    }
   ],
   "source": [
    "get_stats(n_re)"
   ]
  },
  {
   "cell_type": "markdown",
   "metadata": {},
   "source": [
    "# --- SVM ---"
   ]
  },
  {
   "cell_type": "code",
   "execution_count": 75,
   "metadata": {},
   "outputs": [],
   "source": [
    "# last 20 Close\n",
    "for i in range(1, 21, 1):\n",
    "    spy.loc[:,'Close Minus ' + str(i)] = spy['Close'].shift(i)"
   ]
  },
  {
   "cell_type": "code",
   "execution_count": 86,
   "metadata": {},
   "outputs": [
    {
     "data": {
      "text/html": [
       "<div>\n",
       "<style scoped>\n",
       "    .dataframe tbody tr th:only-of-type {\n",
       "        vertical-align: middle;\n",
       "    }\n",
       "\n",
       "    .dataframe tbody tr th {\n",
       "        vertical-align: top;\n",
       "    }\n",
       "\n",
       "    .dataframe thead th {\n",
       "        text-align: right;\n",
       "    }\n",
       "</style>\n",
       "<table border=\"1\" class=\"dataframe\">\n",
       "  <thead>\n",
       "    <tr style=\"text-align: right;\">\n",
       "      <th></th>\n",
       "      <th>Close Minus 20</th>\n",
       "      <th>Close Minus 19</th>\n",
       "      <th>Close Minus 18</th>\n",
       "      <th>Close Minus 17</th>\n",
       "      <th>Close Minus 16</th>\n",
       "      <th>Close Minus 15</th>\n",
       "      <th>Close Minus 14</th>\n",
       "      <th>Close Minus 13</th>\n",
       "      <th>Close Minus 12</th>\n",
       "      <th>Close Minus 11</th>\n",
       "      <th>...</th>\n",
       "      <th>Close Minus 9</th>\n",
       "      <th>Close Minus 8</th>\n",
       "      <th>Close Minus 7</th>\n",
       "      <th>Close Minus 6</th>\n",
       "      <th>Close Minus 5</th>\n",
       "      <th>Close Minus 4</th>\n",
       "      <th>Close Minus 3</th>\n",
       "      <th>Close Minus 2</th>\n",
       "      <th>Close Minus 1</th>\n",
       "      <th>Close</th>\n",
       "    </tr>\n",
       "    <tr>\n",
       "      <th>Date</th>\n",
       "      <th></th>\n",
       "      <th></th>\n",
       "      <th></th>\n",
       "      <th></th>\n",
       "      <th></th>\n",
       "      <th></th>\n",
       "      <th></th>\n",
       "      <th></th>\n",
       "      <th></th>\n",
       "      <th></th>\n",
       "      <th></th>\n",
       "      <th></th>\n",
       "      <th></th>\n",
       "      <th></th>\n",
       "      <th></th>\n",
       "      <th></th>\n",
       "      <th></th>\n",
       "      <th></th>\n",
       "      <th></th>\n",
       "      <th></th>\n",
       "      <th></th>\n",
       "    </tr>\n",
       "  </thead>\n",
       "  <tbody>\n",
       "    <tr>\n",
       "      <th>2000-02-01</th>\n",
       "      <td>145.4375</td>\n",
       "      <td>139.75</td>\n",
       "      <td>140.00</td>\n",
       "      <td>137.7500</td>\n",
       "      <td>145.7500</td>\n",
       "      <td>146.25000</td>\n",
       "      <td>144.50000</td>\n",
       "      <td>143.06250</td>\n",
       "      <td>145.00000</td>\n",
       "      <td>146.96875</td>\n",
       "      <td>...</td>\n",
       "      <td>147.00000</td>\n",
       "      <td>144.75000</td>\n",
       "      <td>144.43750</td>\n",
       "      <td>140.34375</td>\n",
       "      <td>141.9375</td>\n",
       "      <td>140.8125</td>\n",
       "      <td>140.2500</td>\n",
       "      <td>135.8750</td>\n",
       "      <td>139.56250</td>\n",
       "      <td>140.93750</td>\n",
       "    </tr>\n",
       "    <tr>\n",
       "      <th>2000-02-02</th>\n",
       "      <td>139.7500</td>\n",
       "      <td>140.00</td>\n",
       "      <td>137.75</td>\n",
       "      <td>145.7500</td>\n",
       "      <td>146.2500</td>\n",
       "      <td>144.50000</td>\n",
       "      <td>143.06250</td>\n",
       "      <td>145.00000</td>\n",
       "      <td>146.96875</td>\n",
       "      <td>145.81250</td>\n",
       "      <td>...</td>\n",
       "      <td>144.75000</td>\n",
       "      <td>144.43750</td>\n",
       "      <td>140.34375</td>\n",
       "      <td>141.93750</td>\n",
       "      <td>140.8125</td>\n",
       "      <td>140.2500</td>\n",
       "      <td>135.8750</td>\n",
       "      <td>139.5625</td>\n",
       "      <td>140.93750</td>\n",
       "      <td>141.06250</td>\n",
       "    </tr>\n",
       "    <tr>\n",
       "      <th>2000-02-03</th>\n",
       "      <td>140.0000</td>\n",
       "      <td>137.75</td>\n",
       "      <td>145.75</td>\n",
       "      <td>146.2500</td>\n",
       "      <td>144.5000</td>\n",
       "      <td>143.06250</td>\n",
       "      <td>145.00000</td>\n",
       "      <td>146.96875</td>\n",
       "      <td>145.81250</td>\n",
       "      <td>147.00000</td>\n",
       "      <td>...</td>\n",
       "      <td>144.43750</td>\n",
       "      <td>140.34375</td>\n",
       "      <td>141.93750</td>\n",
       "      <td>140.81250</td>\n",
       "      <td>140.2500</td>\n",
       "      <td>135.8750</td>\n",
       "      <td>139.5625</td>\n",
       "      <td>140.9375</td>\n",
       "      <td>141.06250</td>\n",
       "      <td>143.18750</td>\n",
       "    </tr>\n",
       "    <tr>\n",
       "      <th>2000-02-04</th>\n",
       "      <td>137.7500</td>\n",
       "      <td>145.75</td>\n",
       "      <td>146.25</td>\n",
       "      <td>144.5000</td>\n",
       "      <td>143.0625</td>\n",
       "      <td>145.00000</td>\n",
       "      <td>146.96875</td>\n",
       "      <td>145.81250</td>\n",
       "      <td>147.00000</td>\n",
       "      <td>144.75000</td>\n",
       "      <td>...</td>\n",
       "      <td>140.34375</td>\n",
       "      <td>141.93750</td>\n",
       "      <td>140.81250</td>\n",
       "      <td>140.25000</td>\n",
       "      <td>135.8750</td>\n",
       "      <td>139.5625</td>\n",
       "      <td>140.9375</td>\n",
       "      <td>141.0625</td>\n",
       "      <td>143.18750</td>\n",
       "      <td>142.59375</td>\n",
       "    </tr>\n",
       "    <tr>\n",
       "      <th>2000-02-07</th>\n",
       "      <td>145.7500</td>\n",
       "      <td>146.25</td>\n",
       "      <td>144.50</td>\n",
       "      <td>143.0625</td>\n",
       "      <td>145.0000</td>\n",
       "      <td>146.96875</td>\n",
       "      <td>145.81250</td>\n",
       "      <td>147.00000</td>\n",
       "      <td>144.75000</td>\n",
       "      <td>144.43750</td>\n",
       "      <td>...</td>\n",
       "      <td>141.93750</td>\n",
       "      <td>140.81250</td>\n",
       "      <td>140.25000</td>\n",
       "      <td>135.87500</td>\n",
       "      <td>139.5625</td>\n",
       "      <td>140.9375</td>\n",
       "      <td>141.0625</td>\n",
       "      <td>143.1875</td>\n",
       "      <td>142.59375</td>\n",
       "      <td>142.37500</td>\n",
       "    </tr>\n",
       "  </tbody>\n",
       "</table>\n",
       "<p>5 rows × 21 columns</p>\n",
       "</div>"
      ],
      "text/plain": [
       "            Close Minus 20  Close Minus 19  Close Minus 18  Close Minus 17  \\\n",
       "Date                                                                         \n",
       "2000-02-01        145.4375          139.75          140.00        137.7500   \n",
       "2000-02-02        139.7500          140.00          137.75        145.7500   \n",
       "2000-02-03        140.0000          137.75          145.75        146.2500   \n",
       "2000-02-04        137.7500          145.75          146.25        144.5000   \n",
       "2000-02-07        145.7500          146.25          144.50        143.0625   \n",
       "\n",
       "            Close Minus 16  Close Minus 15  Close Minus 14  Close Minus 13  \\\n",
       "Date                                                                         \n",
       "2000-02-01        145.7500       146.25000       144.50000       143.06250   \n",
       "2000-02-02        146.2500       144.50000       143.06250       145.00000   \n",
       "2000-02-03        144.5000       143.06250       145.00000       146.96875   \n",
       "2000-02-04        143.0625       145.00000       146.96875       145.81250   \n",
       "2000-02-07        145.0000       146.96875       145.81250       147.00000   \n",
       "\n",
       "            Close Minus 12  Close Minus 11  ...  Close Minus 9  Close Minus 8  \\\n",
       "Date                                        ...                                 \n",
       "2000-02-01       145.00000       146.96875  ...      147.00000      144.75000   \n",
       "2000-02-02       146.96875       145.81250  ...      144.75000      144.43750   \n",
       "2000-02-03       145.81250       147.00000  ...      144.43750      140.34375   \n",
       "2000-02-04       147.00000       144.75000  ...      140.34375      141.93750   \n",
       "2000-02-07       144.75000       144.43750  ...      141.93750      140.81250   \n",
       "\n",
       "            Close Minus 7  Close Minus 6  Close Minus 5  Close Minus 4  \\\n",
       "Date                                                                     \n",
       "2000-02-01      144.43750      140.34375       141.9375       140.8125   \n",
       "2000-02-02      140.34375      141.93750       140.8125       140.2500   \n",
       "2000-02-03      141.93750      140.81250       140.2500       135.8750   \n",
       "2000-02-04      140.81250      140.25000       135.8750       139.5625   \n",
       "2000-02-07      140.25000      135.87500       139.5625       140.9375   \n",
       "\n",
       "            Close Minus 3  Close Minus 2  Close Minus 1      Close  \n",
       "Date                                                                \n",
       "2000-02-01       140.2500       135.8750      139.56250  140.93750  \n",
       "2000-02-02       135.8750       139.5625      140.93750  141.06250  \n",
       "2000-02-03       139.5625       140.9375      141.06250  143.18750  \n",
       "2000-02-04       140.9375       141.0625      143.18750  142.59375  \n",
       "2000-02-07       141.0625       143.1875      142.59375  142.37500  \n",
       "\n",
       "[5 rows x 21 columns]"
      ]
     },
     "execution_count": 86,
     "metadata": {},
     "output_type": "execute_result"
    }
   ],
   "source": [
    "# Close, delete NA rows\n",
    "spy20 = spy[[x for x in spy.columns if 'Close Minus' in x or x == 'Close']].iloc[20:,]\n",
    "# -20, -19, ... , Close\n",
    "spy20 = spy20.iloc[:,::-1]\n",
    "spy20.head()"
   ]
  },
  {
   "cell_type": "code",
   "execution_count": 88,
   "metadata": {},
   "outputs": [],
   "source": [
    "# \"sklearn\" package\n",
    "clf = SVR(kernel='linear')"
   ]
  },
  {
   "cell_type": "code",
   "execution_count": 89,
   "metadata": {},
   "outputs": [
    {
     "data": {
      "text/plain": [
       "4045"
      ]
     },
     "execution_count": 89,
     "metadata": {},
     "output_type": "execute_result"
    }
   ],
   "source": [
    "len(spy20)"
   ]
  },
  {
   "cell_type": "code",
   "execution_count": 99,
   "metadata": {
    "collapsed": false
   },
   "outputs": [],
   "source": [
    "X_train = spy20[:-1000]\n",
    "# y is tomorrow's close\n",
    "y_train = spy20['Close'].shift(-1)[:-1000]"
   ]
  },
  {
   "cell_type": "code",
   "execution_count": 100,
   "metadata": {
    "collapsed": true
   },
   "outputs": [],
   "source": [
    "X_test = spy20[-1000:]\n",
    "y_test = spy20['Close'].shift(-1)[-1000:]"
   ]
  },
  {
   "cell_type": "markdown",
   "metadata": {},
   "source": [
    "# --- SVM training ---"
   ]
  },
  {
   "cell_type": "code",
   "execution_count": 101,
   "metadata": {},
   "outputs": [],
   "source": [
    "model = clf.fit(X_train, y_train)"
   ]
  },
  {
   "cell_type": "code",
   "execution_count": 102,
   "metadata": {},
   "outputs": [],
   "source": [
    "predicts = model.predict(X_test)"
   ]
  },
  {
   "cell_type": "code",
   "execution_count": 141,
   "metadata": {
    "collapsed": false
   },
   "outputs": [
    {
     "data": {
      "text/html": [
       "<div>\n",
       "<style scoped>\n",
       "    .dataframe tbody tr th:only-of-type {\n",
       "        vertical-align: middle;\n",
       "    }\n",
       "\n",
       "    .dataframe tbody tr th {\n",
       "        vertical-align: top;\n",
       "    }\n",
       "\n",
       "    .dataframe thead th {\n",
       "        text-align: right;\n",
       "    }\n",
       "</style>\n",
       "<table border=\"1\" class=\"dataframe\">\n",
       "  <thead>\n",
       "    <tr style=\"text-align: right;\">\n",
       "      <th></th>\n",
       "      <th>Close</th>\n",
       "      <th>Predict</th>\n",
       "    </tr>\n",
       "    <tr>\n",
       "      <th>Date</th>\n",
       "      <th></th>\n",
       "      <th></th>\n",
       "    </tr>\n",
       "  </thead>\n",
       "  <tbody>\n",
       "    <tr>\n",
       "      <th>2012-03-09</th>\n",
       "      <td>137.580002</td>\n",
       "      <td>137.684409</td>\n",
       "    </tr>\n",
       "    <tr>\n",
       "      <th>2012-03-12</th>\n",
       "      <td>140.059998</td>\n",
       "      <td>137.927134</td>\n",
       "    </tr>\n",
       "    <tr>\n",
       "      <th>2012-03-13</th>\n",
       "      <td>139.910004</td>\n",
       "      <td>139.910895</td>\n",
       "    </tr>\n",
       "    <tr>\n",
       "      <th>2012-03-14</th>\n",
       "      <td>140.720001</td>\n",
       "      <td>139.923058</td>\n",
       "    </tr>\n",
       "    <tr>\n",
       "      <th>2012-03-15</th>\n",
       "      <td>140.300003</td>\n",
       "      <td>140.687120</td>\n",
       "    </tr>\n",
       "  </tbody>\n",
       "</table>\n",
       "</div>"
      ],
      "text/plain": [
       "                 Close     Predict\n",
       "Date                              \n",
       "2012-03-09  137.580002  137.684409\n",
       "2012-03-12  140.059998  137.927134\n",
       "2012-03-13  139.910004  139.910895\n",
       "2012-03-14  140.720001  139.923058\n",
       "2012-03-15  140.300003  140.687120"
      ]
     },
     "execution_count": 141,
     "metadata": {},
     "output_type": "execute_result"
    }
   ],
   "source": [
    "tf = pd.DataFrame(list(zip(y_test, predicts)), columns=['Close', 'Predict'], index=y_test.index)\n",
    "tf.head()"
   ]
  },
  {
   "cell_type": "code",
   "execution_count": 142,
   "metadata": {},
   "outputs": [],
   "source": [
    "cdc = spy[['Close']].iloc[-1000:]\n",
    "ndo = spy[['Open']].iloc[-1000:].shift(-1)"
   ]
  },
  {
   "cell_type": "code",
   "execution_count": 143,
   "metadata": {},
   "outputs": [
    {
     "data": {
      "text/html": [
       "<div>\n",
       "<style scoped>\n",
       "    .dataframe tbody tr th:only-of-type {\n",
       "        vertical-align: middle;\n",
       "    }\n",
       "\n",
       "    .dataframe tbody tr th {\n",
       "        vertical-align: top;\n",
       "    }\n",
       "\n",
       "    .dataframe thead th {\n",
       "        text-align: right;\n",
       "    }\n",
       "</style>\n",
       "<table border=\"1\" class=\"dataframe\">\n",
       "  <thead>\n",
       "    <tr style=\"text-align: right;\">\n",
       "      <th></th>\n",
       "      <th>Next Day Close</th>\n",
       "      <th>Predicted Next Close</th>\n",
       "      <th>Current Day Close</th>\n",
       "      <th>Next Day Open</th>\n",
       "    </tr>\n",
       "    <tr>\n",
       "      <th>Date</th>\n",
       "      <th></th>\n",
       "      <th></th>\n",
       "      <th></th>\n",
       "      <th></th>\n",
       "    </tr>\n",
       "  </thead>\n",
       "  <tbody>\n",
       "    <tr>\n",
       "      <th>2012-03-09</th>\n",
       "      <td>137.580002</td>\n",
       "      <td>137.684409</td>\n",
       "      <td>137.570007</td>\n",
       "      <td>137.550003</td>\n",
       "    </tr>\n",
       "    <tr>\n",
       "      <th>2012-03-12</th>\n",
       "      <td>140.059998</td>\n",
       "      <td>137.927134</td>\n",
       "      <td>137.580002</td>\n",
       "      <td>138.320007</td>\n",
       "    </tr>\n",
       "    <tr>\n",
       "      <th>2012-03-13</th>\n",
       "      <td>139.910004</td>\n",
       "      <td>139.910895</td>\n",
       "      <td>140.059998</td>\n",
       "      <td>140.100006</td>\n",
       "    </tr>\n",
       "    <tr>\n",
       "      <th>2012-03-14</th>\n",
       "      <td>140.720001</td>\n",
       "      <td>139.923058</td>\n",
       "      <td>139.910004</td>\n",
       "      <td>140.119995</td>\n",
       "    </tr>\n",
       "    <tr>\n",
       "      <th>2012-03-15</th>\n",
       "      <td>140.300003</td>\n",
       "      <td>140.687120</td>\n",
       "      <td>140.720001</td>\n",
       "      <td>140.360001</td>\n",
       "    </tr>\n",
       "  </tbody>\n",
       "</table>\n",
       "</div>"
      ],
      "text/plain": [
       "            Next Day Close  Predicted Next Close  Current Day Close  \\\n",
       "Date                                                                  \n",
       "2012-03-09      137.580002            137.684409         137.570007   \n",
       "2012-03-12      140.059998            137.927134         137.580002   \n",
       "2012-03-13      139.910004            139.910895         140.059998   \n",
       "2012-03-14      140.720001            139.923058         139.910004   \n",
       "2012-03-15      140.300003            140.687120         140.720001   \n",
       "\n",
       "            Next Day Open  \n",
       "Date                       \n",
       "2012-03-09     137.550003  \n",
       "2012-03-12     138.320007  \n",
       "2012-03-13     140.100006  \n",
       "2012-03-14     140.119995  \n",
       "2012-03-15     140.360001  "
      ]
     },
     "execution_count": 143,
     "metadata": {},
     "output_type": "execute_result"
    }
   ],
   "source": [
    "tf1 = pd.merge(tf, cdc, left_index=True, right_index=True)\n",
    "tf2 = pd.merge(tf1, ndo, left_index=True, right_index=True)\n",
    "tf2.columns = ['Next Day Close', 'Predicted Next Close', 'Current Day Close', 'Next Day Open']\n",
    "tf2.head()"
   ]
  },
  {
   "cell_type": "code",
   "execution_count": 144,
   "metadata": {},
   "outputs": [
    {
     "data": {
      "text/html": [
       "<div>\n",
       "<style scoped>\n",
       "    .dataframe tbody tr th:only-of-type {\n",
       "        vertical-align: middle;\n",
       "    }\n",
       "\n",
       "    .dataframe tbody tr th {\n",
       "        vertical-align: top;\n",
       "    }\n",
       "\n",
       "    .dataframe thead th {\n",
       "        text-align: right;\n",
       "    }\n",
       "</style>\n",
       "<table border=\"1\" class=\"dataframe\">\n",
       "  <thead>\n",
       "    <tr style=\"text-align: right;\">\n",
       "      <th></th>\n",
       "      <th>Next Day Close</th>\n",
       "      <th>Predicted Next Close</th>\n",
       "      <th>Current Day Close</th>\n",
       "      <th>Next Day Open</th>\n",
       "      <th>signal</th>\n",
       "    </tr>\n",
       "    <tr>\n",
       "      <th>Date</th>\n",
       "      <th></th>\n",
       "      <th></th>\n",
       "      <th></th>\n",
       "      <th></th>\n",
       "      <th></th>\n",
       "    </tr>\n",
       "  </thead>\n",
       "  <tbody>\n",
       "    <tr>\n",
       "      <th>2012-03-09</th>\n",
       "      <td>137.580002</td>\n",
       "      <td>137.684409</td>\n",
       "      <td>137.570007</td>\n",
       "      <td>137.550003</td>\n",
       "      <td>1</td>\n",
       "    </tr>\n",
       "    <tr>\n",
       "      <th>2012-03-12</th>\n",
       "      <td>140.059998</td>\n",
       "      <td>137.927134</td>\n",
       "      <td>137.580002</td>\n",
       "      <td>138.320007</td>\n",
       "      <td>0</td>\n",
       "    </tr>\n",
       "    <tr>\n",
       "      <th>2012-03-13</th>\n",
       "      <td>139.910004</td>\n",
       "      <td>139.910895</td>\n",
       "      <td>140.059998</td>\n",
       "      <td>140.100006</td>\n",
       "      <td>0</td>\n",
       "    </tr>\n",
       "    <tr>\n",
       "      <th>2012-03-14</th>\n",
       "      <td>140.720001</td>\n",
       "      <td>139.923058</td>\n",
       "      <td>139.910004</td>\n",
       "      <td>140.119995</td>\n",
       "      <td>0</td>\n",
       "    </tr>\n",
       "    <tr>\n",
       "      <th>2012-03-15</th>\n",
       "      <td>140.300003</td>\n",
       "      <td>140.687120</td>\n",
       "      <td>140.720001</td>\n",
       "      <td>140.360001</td>\n",
       "      <td>1</td>\n",
       "    </tr>\n",
       "  </tbody>\n",
       "</table>\n",
       "</div>"
      ],
      "text/plain": [
       "            Next Day Close  Predicted Next Close  Current Day Close  \\\n",
       "Date                                                                  \n",
       "2012-03-09      137.580002            137.684409         137.570007   \n",
       "2012-03-12      140.059998            137.927134         137.580002   \n",
       "2012-03-13      139.910004            139.910895         140.059998   \n",
       "2012-03-14      140.720001            139.923058         139.910004   \n",
       "2012-03-15      140.300003            140.687120         140.720001   \n",
       "\n",
       "            Next Day Open  signal  \n",
       "Date                               \n",
       "2012-03-09     137.550003       1  \n",
       "2012-03-12     138.320007       0  \n",
       "2012-03-13     140.100006       0  \n",
       "2012-03-14     140.119995       0  \n",
       "2012-03-15     140.360001       1  "
      ]
     },
     "execution_count": 144,
     "metadata": {},
     "output_type": "execute_result"
    }
   ],
   "source": [
    "tf2['signal'] = (tf2['Predicted Next Close'] > tf2['Next Day Open'])*1\n",
    "tf2.head()"
   ]
  },
  {
   "cell_type": "code",
   "execution_count": 145,
   "metadata": {},
   "outputs": [
    {
     "data": {
      "text/html": [
       "<div>\n",
       "<style scoped>\n",
       "    .dataframe tbody tr th:only-of-type {\n",
       "        vertical-align: middle;\n",
       "    }\n",
       "\n",
       "    .dataframe tbody tr th {\n",
       "        vertical-align: top;\n",
       "    }\n",
       "\n",
       "    .dataframe thead th {\n",
       "        text-align: right;\n",
       "    }\n",
       "</style>\n",
       "<table border=\"1\" class=\"dataframe\">\n",
       "  <thead>\n",
       "    <tr style=\"text-align: right;\">\n",
       "      <th></th>\n",
       "      <th>Next Day Close</th>\n",
       "      <th>Predicted Next Close</th>\n",
       "      <th>Current Day Close</th>\n",
       "      <th>Next Day Open</th>\n",
       "      <th>signal</th>\n",
       "      <th>PnL</th>\n",
       "    </tr>\n",
       "    <tr>\n",
       "      <th>Date</th>\n",
       "      <th></th>\n",
       "      <th></th>\n",
       "      <th></th>\n",
       "      <th></th>\n",
       "      <th></th>\n",
       "      <th></th>\n",
       "    </tr>\n",
       "  </thead>\n",
       "  <tbody>\n",
       "    <tr>\n",
       "      <th>2012-03-09</th>\n",
       "      <td>137.580002</td>\n",
       "      <td>137.684409</td>\n",
       "      <td>137.570007</td>\n",
       "      <td>137.550003</td>\n",
       "      <td>1</td>\n",
       "      <td>0.021809</td>\n",
       "    </tr>\n",
       "    <tr>\n",
       "      <th>2012-03-12</th>\n",
       "      <td>140.059998</td>\n",
       "      <td>137.927134</td>\n",
       "      <td>137.580002</td>\n",
       "      <td>138.320007</td>\n",
       "      <td>0</td>\n",
       "      <td>0.000000</td>\n",
       "    </tr>\n",
       "    <tr>\n",
       "      <th>2012-03-13</th>\n",
       "      <td>139.910004</td>\n",
       "      <td>139.910895</td>\n",
       "      <td>140.059998</td>\n",
       "      <td>140.100006</td>\n",
       "      <td>0</td>\n",
       "      <td>-0.000000</td>\n",
       "    </tr>\n",
       "    <tr>\n",
       "      <th>2012-03-14</th>\n",
       "      <td>140.720001</td>\n",
       "      <td>139.923058</td>\n",
       "      <td>139.910004</td>\n",
       "      <td>140.119995</td>\n",
       "      <td>0</td>\n",
       "      <td>0.000000</td>\n",
       "    </tr>\n",
       "    <tr>\n",
       "      <th>2012-03-15</th>\n",
       "      <td>140.300003</td>\n",
       "      <td>140.687120</td>\n",
       "      <td>140.720001</td>\n",
       "      <td>140.360001</td>\n",
       "      <td>1</td>\n",
       "      <td>-0.042745</td>\n",
       "    </tr>\n",
       "  </tbody>\n",
       "</table>\n",
       "</div>"
      ],
      "text/plain": [
       "            Next Day Close  Predicted Next Close  Current Day Close  \\\n",
       "Date                                                                  \n",
       "2012-03-09      137.580002            137.684409         137.570007   \n",
       "2012-03-12      140.059998            137.927134         137.580002   \n",
       "2012-03-13      139.910004            139.910895         140.059998   \n",
       "2012-03-14      140.720001            139.923058         139.910004   \n",
       "2012-03-15      140.300003            140.687120         140.720001   \n",
       "\n",
       "            Next Day Open  signal       PnL  \n",
       "Date                                         \n",
       "2012-03-09     137.550003       1  0.021809  \n",
       "2012-03-12     138.320007       0  0.000000  \n",
       "2012-03-13     140.100006       0 -0.000000  \n",
       "2012-03-14     140.119995       0  0.000000  \n",
       "2012-03-15     140.360001       1 -0.042745  "
      ]
     },
     "execution_count": 145,
     "metadata": {},
     "output_type": "execute_result"
    }
   ],
   "source": [
    "tf2['PnL'] = tf2.signal*(tf2['Next Day Close']/tf2['Next Day Open']-1)*100\n",
    "tf2.head()"
   ]
  },
  {
   "cell_type": "code",
   "execution_count": 146,
   "metadata": {},
   "outputs": [
    {
     "data": {
      "text/plain": [
       "2.9784477857968903"
      ]
     },
     "execution_count": 146,
     "metadata": {},
     "output_type": "execute_result"
    }
   ],
   "source": [
    "tf2.PnL.sum()"
   ]
  },
  {
   "cell_type": "code",
   "execution_count": 147,
   "metadata": {},
   "outputs": [
    {
     "data": {
      "text/plain": [
       "30.560203552246094"
      ]
     },
     "execution_count": 147,
     "metadata": {},
     "output_type": "execute_result"
    }
   ],
   "source": [
    "(spy.Close-spy.Open).iloc[-1000:].sum()"
   ]
  },
  {
   "cell_type": "code",
   "execution_count": 148,
   "metadata": {},
   "outputs": [
    {
     "name": "stdout",
     "output_type": "stream",
     "text": [
      "Trades: 999 \n",
      "Wins: 259 \n",
      "Losses: 231 \n",
      "Breakeven: 509 \n",
      "Win/Loss Ratio 1.121 \n",
      "Mean Win: 0.467 \n",
      "Mean Loss: -0.511 \n",
      "Mean 0.003 \n",
      "Std Dev: 0.455 \n",
      "Max Loss: -2.135 \n",
      "Max Win: 2.756 \n",
      "Sharpe Ratio: 0.104\n"
     ]
    }
   ],
   "source": [
    "get_stats(tf2.PnL)"
   ]
  },
  {
   "cell_type": "code",
   "execution_count": 149,
   "metadata": {},
   "outputs": [
    {
     "name": "stdout",
     "output_type": "stream",
     "text": [
      "Trades: 1000 \n",
      "Wins: 448 \n",
      "Losses: 546 \n",
      "Breakeven: 6 \n",
      "Win/Loss Ratio 0.821 \n",
      "Mean Win: 0.005 \n",
      "Mean Loss: -0.005 \n",
      "Mean -0.0 \n",
      "Std Dev: 0.007 \n",
      "Max Loss: -0.027 \n",
      "Max Win: 0.044 \n",
      "Sharpe Ratio: -0.3952\n"
     ]
    }
   ],
   "source": [
    "get_stats((spy.Open/spy.Close-1).iloc[-1000:])"
   ]
  },
  {
   "cell_type": "code",
   "execution_count": 150,
   "metadata": {},
   "outputs": [],
   "source": [
    "tf2['signal1'] = (tf2['Predicted Next Close'] > (tf2['Next Day Open']+1))*1"
   ]
  },
  {
   "cell_type": "code",
   "execution_count": 154,
   "metadata": {},
   "outputs": [],
   "source": [
    "tf2['PnL1'] = tf2.signal1*(tf2['Next Day Close']/tf2['Next Day Open']-1)*100"
   ]
  },
  {
   "cell_type": "code",
   "execution_count": 155,
   "metadata": {},
   "outputs": [
    {
     "data": {
      "text/plain": [
       "-1.8467958028563158"
      ]
     },
     "execution_count": 155,
     "metadata": {},
     "output_type": "execute_result"
    }
   ],
   "source": [
    "tf2.PnL1.sum()"
   ]
  },
  {
   "cell_type": "code",
   "execution_count": 156,
   "metadata": {},
   "outputs": [
    {
     "name": "stdout",
     "output_type": "stream",
     "text": [
      "Trades: 999 \n",
      "Wins: 56 \n",
      "Losses: 50 \n",
      "Breakeven: 893 \n",
      "Win/Loss Ratio 1.12 \n",
      "Mean Win: 0.572 \n",
      "Mean Loss: -0.678 \n",
      "Mean -0.002 \n",
      "Std Dev: 0.256 \n",
      "Max Loss: -1.966 \n",
      "Max Win: 2.756 \n",
      "Sharpe Ratio: -0.1145\n"
     ]
    }
   ],
   "source": [
    "get_stats(tf2.PnL1)"
   ]
  },
  {
   "cell_type": "code",
   "execution_count": 158,
   "metadata": {},
   "outputs": [],
   "source": [
    "tf2['signal2'] = (tf2['Predicted Next Close'] < (tf2['Next Day Open']+1))*1"
   ]
  },
  {
   "cell_type": "code",
   "execution_count": 159,
   "metadata": {},
   "outputs": [],
   "source": [
    "tf2['PnL2'] = tf2.signal2*(tf2['Next Day Close']/tf2['Next Day Open']-1)*100"
   ]
  },
  {
   "cell_type": "code",
   "execution_count": 160,
   "metadata": {},
   "outputs": [
    {
     "data": {
      "text/plain": [
       "22.38914293319532"
      ]
     },
     "execution_count": 160,
     "metadata": {},
     "output_type": "execute_result"
    }
   ],
   "source": [
    "tf2.PnL2.sum()"
   ]
  },
  {
   "cell_type": "code",
   "execution_count": 161,
   "metadata": {},
   "outputs": [
    {
     "name": "stdout",
     "output_type": "stream",
     "text": [
      "Trades: 999 \n",
      "Wins: 489 \n",
      "Losses: 398 \n",
      "Breakeven: 112 \n",
      "Win/Loss Ratio 1.229 \n",
      "Mean Win: 0.446 \n",
      "Mean Loss: -0.491 \n",
      "Mean 0.022 \n",
      "Std Dev: 0.605 \n",
      "Max Loss: -4.175 \n",
      "Max Win: 1.969 \n",
      "Sharpe Ratio: 0.5885\n"
     ]
    }
   ],
   "source": [
    "get_stats(tf2.PnL2)"
   ]
  },
  {
   "cell_type": "markdown",
   "metadata": {},
   "source": [
    "# --- change the train and test period ---"
   ]
  },
  {
   "cell_type": "code",
   "execution_count": 164,
   "metadata": {
    "collapsed": true
   },
   "outputs": [],
   "source": [
    "X_train = spy20[:-2000]\n",
    "y_train = spy20['Close'].shift(-1)[:-2000]\n",
    "X_test = spy20[-2000:-1000]\n",
    "y_test = spy20['Close'].shift(-1)[-2000:-1000]"
   ]
  },
  {
   "cell_type": "code",
   "execution_count": 165,
   "metadata": {
    "collapsed": false
   },
   "outputs": [],
   "source": [
    "model = clf.fit(X_train, y_train)\n",
    "predicts = model.predict(X_test)\n",
    "tf = pd.DataFrame(list(zip(y_test, predicts)), columns=['Close', 'Predict'], index=y_test.index)"
   ]
  },
  {
   "cell_type": "code",
   "execution_count": 166,
   "metadata": {},
   "outputs": [],
   "source": [
    "cdc = spy[['Close']].iloc[-2000:-1000]\n",
    "ndo = spy[['Open']].iloc[-2000:-1000].shift(-1)\n",
    "tf1 = pd.merge(tf, cdc, left_index=True, right_index=True)\n",
    "tf2 = pd.merge(tf1, ndo, left_index=True, right_index=True)\n",
    "tf2.columns = ['Next Day Close', 'Predicted Next Close', 'Current Day Close', 'Next Day Open']"
   ]
  },
  {
   "cell_type": "code",
   "execution_count": 167,
   "metadata": {},
   "outputs": [
    {
     "data": {
      "text/plain": [
       "33.2933465994514"
      ]
     },
     "execution_count": 167,
     "metadata": {},
     "output_type": "execute_result"
    }
   ],
   "source": [
    "tf2['signal'] = (tf2['Predicted Next Close'] < (tf2['Next Day Open']+1))*1\n",
    "tf2['PnL'] = tf2.signal*(tf2['Next Day Close']/tf2['Next Day Open']-1)*100\n",
    "tf2.PnL.sum()"
   ]
  },
  {
   "cell_type": "code",
   "execution_count": 168,
   "metadata": {},
   "outputs": [
    {
     "name": "stdout",
     "output_type": "stream",
     "text": [
      "Trades: 999 \n",
      "Wins: 468 \n",
      "Losses: 389 \n",
      "Breakeven: 142 \n",
      "Win/Loss Ratio 1.203 \n",
      "Mean Win: 0.771 \n",
      "Mean Loss: -0.842 \n",
      "Mean 0.033 \n",
      "Std Dev: 1.111 \n",
      "Max Loss: -8.991 \n",
      "Max Win: 7.968 \n",
      "Sharpe Ratio: 0.4763\n"
     ]
    }
   ],
   "source": [
    "get_stats(tf2.PnL)"
   ]
  },
  {
   "cell_type": "code",
   "execution_count": 169,
   "metadata": {},
   "outputs": [
    {
     "data": {
      "text/plain": [
       "-7.090003967285156"
      ]
     },
     "execution_count": 169,
     "metadata": {},
     "output_type": "execute_result"
    }
   ],
   "source": [
    "(spy.Close-spy.Open).iloc[-2000:-1000].sum()"
   ]
  },
  {
   "cell_type": "markdown",
   "metadata": {},
   "source": [
    "# --- another model ---"
   ]
  },
  {
   "cell_type": "code",
   "execution_count": 170,
   "metadata": {},
   "outputs": [],
   "source": [
    "from scipy.spatial.distance import euclidean\n",
    "from fastdtw import fastdtw"
   ]
  },
  {
   "cell_type": "code",
   "execution_count": 171,
   "metadata": {},
   "outputs": [],
   "source": [
    "def dtw_dist(x, y):\n",
    "    distance, path = fastdtw(x, y, dist=euclidean)\n",
    "    return distance"
   ]
  },
  {
   "cell_type": "code",
   "execution_count": 172,
   "metadata": {
    "collapsed": false
   },
   "outputs": [],
   "source": [
    "tseries = []\n",
    "tlen = 5\n",
    "for i in range(tlen, len(spy), tlen):\n",
    "    pctc = spy['Close'].iloc[i-tlen:i].pct_change()[1:].values * 100\n",
    "    res = spy['Close'].iloc[i-tlen:i+1].pct_change()[-1] * 100\n",
    "    tseries.append((pctc, res))"
   ]
  },
  {
   "cell_type": "code",
   "execution_count": 173,
   "metadata": {
    "collapsed": false
   },
   "outputs": [
    {
     "data": {
      "text/plain": [
       "812"
      ]
     },
     "execution_count": 173,
     "metadata": {},
     "output_type": "execute_result"
    }
   ],
   "source": [
    "len(tseries)"
   ]
  },
  {
   "cell_type": "code",
   "execution_count": 174,
   "metadata": {
    "collapsed": false
   },
   "outputs": [
    {
     "data": {
      "text/plain": [
       "(array([-3.91061453,  0.17889088, -1.60714286,  5.8076225 ]),\n",
       " 0.34305317324185847)"
      ]
     },
     "execution_count": 174,
     "metadata": {},
     "output_type": "execute_result"
    }
   ],
   "source": [
    "tseries[0]"
   ]
  },
  {
   "cell_type": "code",
   "execution_count": 175,
   "metadata": {
    "collapsed": false
   },
   "outputs": [],
   "source": [
    "dist_pairs = []\n",
    "for i in range(len(tseries)):\n",
    "    for j in range(len(tseries)):\n",
    "        dist = dtw_dist(tseries[i][0], tseries[j][0])\n",
    "        dist_pairs.append((i,j,dist,tseries[i][1], tseries[j][1]))"
   ]
  },
  {
   "cell_type": "code",
   "execution_count": 176,
   "metadata": {
    "collapsed": false
   },
   "outputs": [],
   "source": [
    "dist_frame = pd.DataFrame(dist_pairs, columns=['A','B','Dist', 'A Ret', 'B Ret'])"
   ]
  },
  {
   "cell_type": "code",
   "execution_count": 177,
   "metadata": {
    "collapsed": false,
    "scrolled": true
   },
   "outputs": [],
   "source": [
    "sf = dist_frame[dist_frame['Dist']>0].sort_values(['A','B']).reset_index(drop=1)"
   ]
  },
  {
   "cell_type": "code",
   "execution_count": 178,
   "metadata": {
    "collapsed": false,
    "scrolled": true
   },
   "outputs": [],
   "source": [
    "sfe = sf[sf['A']<sf['B']]"
   ]
  },
  {
   "cell_type": "code",
   "execution_count": 179,
   "metadata": {
    "collapsed": false,
    "scrolled": true
   },
   "outputs": [],
   "source": [
    "winf = sfe[(sfe['Dist']<=1)&(sfe['A Ret']>0)]"
   ]
  },
  {
   "cell_type": "code",
   "execution_count": 183,
   "metadata": {
    "collapsed": false,
    "scrolled": true
   },
   "outputs": [
    {
     "data": {
      "text/html": [
       "<div>\n",
       "<style scoped>\n",
       "    .dataframe tbody tr th:only-of-type {\n",
       "        vertical-align: middle;\n",
       "    }\n",
       "\n",
       "    .dataframe tbody tr th {\n",
       "        vertical-align: top;\n",
       "    }\n",
       "\n",
       "    .dataframe thead th {\n",
       "        text-align: right;\n",
       "    }\n",
       "</style>\n",
       "<table border=\"1\" class=\"dataframe\">\n",
       "  <thead>\n",
       "    <tr style=\"text-align: right;\">\n",
       "      <th></th>\n",
       "      <th>A</th>\n",
       "      <th>B</th>\n",
       "      <th>Dist</th>\n",
       "      <th>A Ret</th>\n",
       "      <th>B Ret</th>\n",
       "    </tr>\n",
       "  </thead>\n",
       "  <tbody>\n",
       "    <tr>\n",
       "      <th>3312</th>\n",
       "      <td>4</td>\n",
       "      <td>69</td>\n",
       "      <td>0.778630</td>\n",
       "      <td>1.360843</td>\n",
       "      <td>-1.696072</td>\n",
       "    </tr>\n",
       "    <tr>\n",
       "      <th>3439</th>\n",
       "      <td>4</td>\n",
       "      <td>196</td>\n",
       "      <td>0.608312</td>\n",
       "      <td>1.360843</td>\n",
       "      <td>0.410596</td>\n",
       "    </tr>\n",
       "    <tr>\n",
       "      <th>3609</th>\n",
       "      <td>4</td>\n",
       "      <td>366</td>\n",
       "      <td>0.973128</td>\n",
       "      <td>1.360843</td>\n",
       "      <td>0.040522</td>\n",
       "    </tr>\n",
       "    <tr>\n",
       "      <th>3790</th>\n",
       "      <td>4</td>\n",
       "      <td>547</td>\n",
       "      <td>0.832545</td>\n",
       "      <td>1.360843</td>\n",
       "      <td>-1.447712</td>\n",
       "    </tr>\n",
       "    <tr>\n",
       "      <th>3891</th>\n",
       "      <td>4</td>\n",
       "      <td>648</td>\n",
       "      <td>0.548848</td>\n",
       "      <td>1.360843</td>\n",
       "      <td>-0.510458</td>\n",
       "    </tr>\n",
       "  </tbody>\n",
       "</table>\n",
       "</div>"
      ],
      "text/plain": [
       "      A    B      Dist     A Ret     B Ret\n",
       "3312  4   69  0.778630  1.360843 -1.696072\n",
       "3439  4  196  0.608312  1.360843  0.410596\n",
       "3609  4  366  0.973128  1.360843  0.040522\n",
       "3790  4  547  0.832545  1.360843 -1.447712\n",
       "3891  4  648  0.548848  1.360843 -0.510458"
      ]
     },
     "execution_count": 183,
     "metadata": {},
     "output_type": "execute_result"
    }
   ],
   "source": [
    "winf.head()"
   ]
  },
  {
   "cell_type": "code",
   "execution_count": 184,
   "metadata": {
    "collapsed": false
   },
   "outputs": [
    {
     "data": {
      "text/plain": [
       "[<matplotlib.lines.Line2D at 0x7fcc172d6780>]"
      ]
     },
     "execution_count": 184,
     "metadata": {},
     "output_type": "execute_result"
    },
    {
     "data": {
      "image/png": "[encoded data removed]",
      "text/plain": [
       "<Figure size 432x288 with 1 Axes>"
      ]
     },
     "metadata": {
      "needs_background": "light"
     },
     "output_type": "display_data"
    }
   ],
   "source": [
    "plt.plot(np.arange(4), tseries[6][0])"
   ]
  },
  {
   "cell_type": "code",
   "execution_count": 185,
   "metadata": {
    "collapsed": false
   },
   "outputs": [
    {
     "data": {
      "text/plain": [
       "[<matplotlib.lines.Line2D at 0x7fcc1730a518>]"
      ]
     },
     "execution_count": 185,
     "metadata": {},
     "output_type": "execute_result"
    },
    {
     "data": {
      "image/png": "[encoded data removed]",
      "text/plain": [
       "<Figure size 432x288 with 1 Axes>"
      ]
     },
     "metadata": {
      "needs_background": "light"
     },
     "output_type": "display_data"
    }
   ],
   "source": [
    "plt.plot(np.arange(4), tseries[598][0])"
   ]
  },
  {
   "cell_type": "code",
   "execution_count": 186,
   "metadata": {
    "collapsed": true
   },
   "outputs": [],
   "source": [
    "excluded = {}\n",
    "return_list = []\n",
    "def get_returns(r):\n",
    "    if excluded.get(r['A']) is None:\n",
    "        return_list.append(r['B Ret'])\n",
    "        if r['B Ret'] < 0:\n",
    "            excluded.update({r['A']:1})"
   ]
  },
  {
   "cell_type": "code",
   "execution_count": 187,
   "metadata": {
    "collapsed": false,
    "scrolled": true
   },
   "outputs": [],
   "source": [
    "winf.apply(get_returns, axis=1);"
   ]
  },
  {
   "cell_type": "code",
   "execution_count": 188,
   "metadata": {
    "collapsed": false
   },
   "outputs": [
    {
     "name": "stdout",
     "output_type": "stream",
     "text": [
      "Trades: 569 \n",
      "Wins: 352 \n",
      "Losses: 217 \n",
      "Breakeven: 0 \n",
      "Win/Loss Ratio 1.622 \n",
      "Mean Win: 0.572 \n",
      "Mean Loss: -0.646 \n",
      "Mean 0.108 \n",
      "Std Dev: 0.818 \n",
      "Max Loss: -2.999 \n",
      "Max Win: 3.454 \n",
      "Sharpe Ratio: 2.0877\n"
     ]
    }
   ],
   "source": [
    "get_stats(pd.Series(return_list))"
   ]
  }
 ],
 "metadata": {
  "kernelspec": {
   "display_name": "Python 3",
   "language": "python",
   "name": "python3"
  },
  "language_info": {
   "codemirror_mode": {
    "name": "ipython",
    "version": 3
   },
   "file_extension": ".py",
   "mimetype": "text/x-python",
   "name": "python",
   "nbconvert_exporter": "python",
   "pygments_lexer": "ipython3",
   "version": "3.7.2"
  }
 },
 "nbformat": 4,
 "nbformat_minor": 2
}
