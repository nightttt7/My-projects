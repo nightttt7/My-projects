{
 "cells": [
  {
   "cell_type": "markdown",
   "metadata": {},
   "source": [
    "# runing in local"
   ]
  },
  {
   "cell_type": "code",
   "execution_count": 7,
   "metadata": {},
   "outputs": [],
   "source": [
    "def get_flight_str(URL):\n",
    "    # imports\n",
    "    from selenium import webdriver\n",
    "    from selenium.webdriver.common.desired_capabilities import DesiredCapabilities\n",
    "    from bs4 import BeautifulSoup\n",
    "    import time\n",
    "    from selenium.webdriver.common.by import By\n",
    "    from selenium.common.exceptions import TimeoutException, NoSuchElementException\n",
    "    # choose chrome\n",
    "    driver = webdriver.Chrome()\n",
    "    driver.implicitly_wait(10)\n",
    "    # # initial\n",
    "    try:\n",
    "        driver.get(URL)\n",
    "    except TimeoutException:\n",
    "        print('time out')\n",
    "    # # get prices sheet\n",
    "    try:\n",
    "        button = driver.find_element(By.CLASS_NAME,\"gws-flights-form__departure-input\")\n",
    "    except NoSuchElementException:\n",
    "        print('no element ')\n",
    "    button.click()\n",
    "    time.sleep(5)\n",
    "    # # loop get month price\n",
    "    # monthp\n",
    "    monthp = \"\"\n",
    "    # get the first 2 months prices\n",
    "    try:\n",
    "        tmp = driver.find_elements(By.CLASS_NAME,\"gws-travel-calendar__month\")\n",
    "    except NoSuchElementException:\n",
    "        print('no such element')\n",
    "    for tmp1 in tmp:\n",
    "        monthp = monthp+tmp1.text\n",
    "    # get bottonnext\n",
    "    try:\n",
    "        buttonnext = driver.find_element(By.CLASS_NAME,\"gws-travel-calendar__next\")\n",
    "    except NoSuchElementException:\n",
    "        print('no element ')\n",
    "    # get next months prices\n",
    "    for i in range(4):\n",
    "        # next 2 months\n",
    "        buttonnext.click()\n",
    "        time.sleep(3)\n",
    "        buttonnext.click()\n",
    "        time.sleep(3)    \n",
    "        # get the prices\n",
    "        try:\n",
    "            tmp = driver.find_elements(By.CLASS_NAME,\"gws-travel-calendar__month\")\n",
    "        except NoSuchElementException:\n",
    "            print('no such element')\n",
    "        for tmp1 in tmp:\n",
    "            monthp = monthp+tmp1.text\n",
    "    driver.close()\n",
    "    return(monthp)"
   ]
  },
  {
   "cell_type": "code",
   "execution_count": 8,
   "metadata": {},
   "outputs": [],
   "source": [
    "URL1 = \"https://www.google.com/flights#flt=OSL.AMS.2019-04-05;c:NOK;e:1;sd:1;t:f;tt:o\"\n",
    "URL2 = \"https://www.google.com/flights#flt=OSL./m/0947l.2019-04-05;c:NOK;e:1;sd:1;t:f;tt:o\"\n",
    "URL3 = \"https://www.google.com/flights#flt=OSL./m/056_y.2019-04-05;c:NOK;e:1;sd:1;t:f;tt:o\"\n",
    "URLs = [URL1, URL2, URL3]\n",
    "monthpl = []\n",
    "for URL in URLs:\n",
    "    monthpl.append(get_flight_str(URL))"
   ]
  },
  {
   "cell_type": "code",
   "execution_count": 13,
   "metadata": {},
   "outputs": [],
   "source": [
    "f = open('monthp.txt', 'w', encoding='utf8')\n",
    "for s in monthpl:\n",
    "    f.write(s)\n",
    "f.close()"
   ]
  },
  {
   "cell_type": "markdown",
   "metadata": {},
   "source": [
    "# run in cloud"
   ]
  },
  {
   "cell_type": "code",
   "execution_count": 242,
   "metadata": {},
   "outputs": [],
   "source": [
    "with open('monthp.txt','r') as a:\n",
    "    monthp = a.read()"
   ]
  },
  {
   "cell_type": "code",
   "execution_count": 243,
   "metadata": {},
   "outputs": [],
   "source": [
    "AMS = monthp.split(\"/n\")[0]\n",
    "MIL = monthp.split(\"/n\")[1]\n",
    "MAD = monthp.split(\"/n\")[2]"
   ]
  },
  {
   "cell_type": "code",
   "execution_count": 244,
   "metadata": {},
   "outputs": [],
   "source": [
    "# use which one?\n",
    "k = 0"
   ]
  },
  {
   "cell_type": "code",
   "execution_count": 245,
   "metadata": {},
   "outputs": [],
   "source": [
    "USE = [AMS, MIL, MAD][k]"
   ]
  },
  {
   "cell_type": "code",
   "execution_count": 246,
   "metadata": {},
   "outputs": [],
   "source": [
    "marmay = USE.split(u\"六月\\n一二三四五六日\")[0].split(u\"三月\\n一二三四五六日\\n1\\n2\\n3\\n4\\n5\\n6\")[1].split(u\"三四五六日\")\n",
    "mar = marmay[0][1:-5].split(\"\\n\")\n",
    "apr = marmay[1][1:-3].split(\"\\n\")\n",
    "may = marmay[2][1:].split(\"\\n\")\n",
    "\n",
    "price1 = []\n",
    "for i in range(int(len(mar)/2)):\n",
    "    price1.append([\"mar\"+mar[2*i],int(mar[2*i+1].replace(\",\",\"\"))])\n",
    "for i in range(int(len(apr)/2)):\n",
    "    price1.append([\"apr\"+apr[2*i],int(apr[2*i+1].replace(\",\",\"\"))])\n",
    "for i in range(int(len(may)/2)):\n",
    "    price1.append([\"may\"+may[2*i],int(may[2*i+1].replace(\",\",\"\"))])"
   ]
  },
  {
   "cell_type": "code",
   "execution_count": 247,
   "metadata": {},
   "outputs": [],
   "source": [
    "octjan = USE.split(u\"六月\\n一二三四五六日\")[1].split(u\"十月\\n一二三四五六日\")[1].split(u\"\\n一二三四五六日\")\n",
    "oct = octjan[0][1:-3].split(\"\\n\")\n",
    "nov = octjan[1][1:-3].split(\"\\n\")\n",
    "dec = octjan[2][1:-7].split(\"\\n\")\n",
    "jan = octjan[3][1:].split(\"\\n\")\n",
    "\n",
    "price2 = []\n",
    "for i in range(int(len(oct)/2)):\n",
    "    price2.append([\"oct\"+oct[2*i],int(oct[2*i+1].replace(\",\",\"\"))])\n",
    "for i in range(int(len(nov)/2)):\n",
    "    price2.append([\"nov\"+nov[2*i],int(nov[2*i+1].replace(\",\",\"\"))])\n",
    "for i in range(int(len(dec)/2)):\n",
    "    price2.append([\"dec\"+dec[2*i],int(dec[2*i+1].replace(\",\",\"\"))])\n",
    "for i in range(int(len(jan)/2)):\n",
    "    price2.append([\"jan\"+jan[2*i],int(jan[2*i+1].replace(\",\",\"\"))])"
   ]
  },
  {
   "cell_type": "markdown",
   "metadata": {},
   "source": [
    "# data ready"
   ]
  },
  {
   "cell_type": "code",
   "execution_count": 249,
   "metadata": {},
   "outputs": [],
   "source": [
    "import matplotlib.pyplot as plt\n",
    "%matplotlib inline\n",
    "import pandas as pd\n",
    "import numpy as np"
   ]
  },
  {
   "cell_type": "code",
   "execution_count": 296,
   "metadata": {},
   "outputs": [],
   "source": [
    "# choose price1 or 2 (marmay or octjan)\n",
    "price = price1"
   ]
  },
  {
   "cell_type": "code",
   "execution_count": 297,
   "metadata": {},
   "outputs": [],
   "source": [
    "# change to DF\n",
    "fares = pd.DataFrame(price, columns=[\"day\",\"price\"])"
   ]
  },
  {
   "cell_type": "code",
   "execution_count": 298,
   "metadata": {},
   "outputs": [
    {
     "data": {
      "text/plain": [
       "<matplotlib.collections.PathCollection at 0x7fdc3dc9d160>"
      ]
     },
     "execution_count": 298,
     "metadata": {},
     "output_type": "execute_result"
    },
    {
     "data": {
      "image/png": "[encoded data removed]",
      "text/plain": [
       "<Figure size 720x432 with 1 Axes>"
      ]
     },
     "metadata": {
      "needs_background": "light"
     },
     "output_type": "display_data"
    }
   ],
   "source": [
    "# point plot\n",
    "fig, ax = plt.subplots(figsize=(10,6))\n",
    "plt.scatter(np.arange(len(fares['price'])),fares['price'])"
   ]
  },
  {
   "cell_type": "code",
   "execution_count": 299,
   "metadata": {},
   "outputs": [],
   "source": [
    "# DBSCAN\n",
    "from sklearn.cluster import DBSCAN\n",
    "from sklearn.preprocessing import StandardScaler"
   ]
  },
  {
   "cell_type": "code",
   "execution_count": 300,
   "metadata": {},
   "outputs": [],
   "source": [
    "ff = pd.DataFrame(fares['price']).reset_index()"
   ]
  },
  {
   "cell_type": "code",
   "execution_count": 301,
   "metadata": {},
   "outputs": [
    {
     "name": "stderr",
     "output_type": "stream",
     "text": [
      "/usr/local/python3/lib/python3.7/site-packages/sklearn/preprocessing/data.py:645: DataConversionWarning: Data with input dtype int64 were all converted to float64 by StandardScaler.\n",
      "  return self.partial_fit(X, y)\n",
      "/usr/local/python3/lib/python3.7/site-packages/sklearn/base.py:464: DataConversionWarning: Data with input dtype int64 were all converted to float64 by StandardScaler.\n",
      "  return self.fit(X, **fit_params).transform(X)\n"
     ]
    }
   ],
   "source": [
    "# for x and y, Z-score it: \"(value-mean_value)/sd\"\n",
    "X = StandardScaler().fit_transform(ff)\n",
    "# do the \n",
    "db = DBSCAN(eps=.4, min_samples=1).fit(X)\n",
    "# please ignore the error, error is nothing"
   ]
  },
  {
   "cell_type": "code",
   "execution_count": 302,
   "metadata": {},
   "outputs": [
    {
     "data": {
      "text/plain": [
       "Text(0.5, 1.01, 'total clusters: 7')"
      ]
     },
     "execution_count": 302,
     "metadata": {},
     "output_type": "execute_result"
    },
    {
     "data": {
      "image/png": "[encoded data removed]",
      "text/plain": [
       "<Figure size 864x576 with 1 Axes>"
      ]
     },
     "metadata": {
      "needs_background": "light"
     },
     "output_type": "display_data"
    }
   ],
   "source": [
    "# plot it, I do not know why so many codes\n",
    "labels = db.labels_\n",
    "clusters = len(set(labels))\n",
    "unique_labels = set(labels)\n",
    "colors = plt.cm.Spectral(np.linspace(0, 1, len(unique_labels)))\n",
    "plt.subplots(figsize=(12, 8))\n",
    "for k, c in zip(unique_labels, colors) :\n",
    "    class_member_mask = (labels == k)\n",
    "    xy = X[class_member_mask]\n",
    "    plt.plot(xy[:, 0], xy[:, 1], 'o', markerfacecolor=c, markeredgecolor='k', markersize=14)\n",
    "plt.title(\"total clusters: {}\".format(clusters), fontsize=14, y=1.01)"
   ]
  },
  {
   "cell_type": "code",
   "execution_count": 303,
   "metadata": {},
   "outputs": [
    {
     "data": {
      "text/html": [
       "<div>\n",
       "<style scoped>\n",
       "    .dataframe tbody tr th:only-of-type {\n",
       "        vertical-align: middle;\n",
       "    }\n",
       "\n",
       "    .dataframe tbody tr th {\n",
       "        vertical-align: top;\n",
       "    }\n",
       "\n",
       "    .dataframe thead th {\n",
       "        text-align: right;\n",
       "    }\n",
       "</style>\n",
       "<table border=\"1\" class=\"dataframe\">\n",
       "  <thead>\n",
       "    <tr style=\"text-align: right;\">\n",
       "      <th></th>\n",
       "      <th>day</th>\n",
       "      <th>index</th>\n",
       "      <th>price</th>\n",
       "      <th>cluster</th>\n",
       "    </tr>\n",
       "  </thead>\n",
       "  <tbody>\n",
       "    <tr>\n",
       "      <th>0</th>\n",
       "      <td>mar7</td>\n",
       "      <td>0</td>\n",
       "      <td>3312</td>\n",
       "      <td>0</td>\n",
       "    </tr>\n",
       "    <tr>\n",
       "      <th>1</th>\n",
       "      <td>mar8</td>\n",
       "      <td>1</td>\n",
       "      <td>1290</td>\n",
       "      <td>1</td>\n",
       "    </tr>\n",
       "    <tr>\n",
       "      <th>2</th>\n",
       "      <td>mar9</td>\n",
       "      <td>2</td>\n",
       "      <td>1400</td>\n",
       "      <td>1</td>\n",
       "    </tr>\n",
       "    <tr>\n",
       "      <th>3</th>\n",
       "      <td>mar10</td>\n",
       "      <td>3</td>\n",
       "      <td>1532</td>\n",
       "      <td>1</td>\n",
       "    </tr>\n",
       "    <tr>\n",
       "      <th>4</th>\n",
       "      <td>mar11</td>\n",
       "      <td>4</td>\n",
       "      <td>1290</td>\n",
       "      <td>1</td>\n",
       "    </tr>\n",
       "  </tbody>\n",
       "</table>\n",
       "</div>"
      ],
      "text/plain": [
       "     day  index  price  cluster\n",
       "0   mar7      0   3312        0\n",
       "1   mar8      1   1290        1\n",
       "2   mar9      2   1400        1\n",
       "3  mar10      3   1532        1\n",
       "4  mar11      4   1290        1"
      ]
     },
     "execution_count": 303,
     "metadata": {},
     "output_type": "execute_result"
    }
   ],
   "source": [
    "pf = pd.concat([fares['day'],ff,pd.DataFrame(db.labels_,columns=['cluster'])], axis=1)\n",
    "pf[:5]"
   ]
  },
  {
   "cell_type": "code",
   "execution_count": 304,
   "metadata": {},
   "outputs": [
    {
     "data": {
      "text/html": [
       "<div>\n",
       "<style scoped>\n",
       "    .dataframe tbody tr th:only-of-type {\n",
       "        vertical-align: middle;\n",
       "    }\n",
       "\n",
       "    .dataframe tbody tr th {\n",
       "        vertical-align: top;\n",
       "    }\n",
       "\n",
       "    .dataframe thead th {\n",
       "        text-align: right;\n",
       "    }\n",
       "</style>\n",
       "<table border=\"1\" class=\"dataframe\">\n",
       "  <thead>\n",
       "    <tr style=\"text-align: right;\">\n",
       "      <th></th>\n",
       "      <th>min</th>\n",
       "      <th>count</th>\n",
       "    </tr>\n",
       "    <tr>\n",
       "      <th>cluster</th>\n",
       "      <th></th>\n",
       "      <th></th>\n",
       "    </tr>\n",
       "  </thead>\n",
       "  <tbody>\n",
       "    <tr>\n",
       "      <th>0</th>\n",
       "      <td>3312</td>\n",
       "      <td>1</td>\n",
       "    </tr>\n",
       "    <tr>\n",
       "      <th>1</th>\n",
       "      <td>1290</td>\n",
       "      <td>8</td>\n",
       "    </tr>\n",
       "    <tr>\n",
       "      <th>2</th>\n",
       "      <td>1010</td>\n",
       "      <td>4</td>\n",
       "    </tr>\n",
       "    <tr>\n",
       "      <th>3</th>\n",
       "      <td>610</td>\n",
       "      <td>8</td>\n",
       "    </tr>\n",
       "    <tr>\n",
       "      <th>4</th>\n",
       "      <td>349</td>\n",
       "      <td>49</td>\n",
       "    </tr>\n",
       "    <tr>\n",
       "      <th>5</th>\n",
       "      <td>349</td>\n",
       "      <td>6</td>\n",
       "    </tr>\n",
       "    <tr>\n",
       "      <th>6</th>\n",
       "      <td>1531</td>\n",
       "      <td>2</td>\n",
       "    </tr>\n",
       "  </tbody>\n",
       "</table>\n",
       "</div>"
      ],
      "text/plain": [
       "          min  count\n",
       "cluster             \n",
       "0        3312      1\n",
       "1        1290      8\n",
       "2        1010      4\n",
       "3         610      8\n",
       "4         349     49\n",
       "5         349      6\n",
       "6        1531      2"
      ]
     },
     "execution_count": 304,
     "metadata": {},
     "output_type": "execute_result"
    }
   ],
   "source": [
    "rf = pf.groupby('cluster')['price'].agg(['min','count'])\n",
    "rf"
   ]
  },
  {
   "cell_type": "code",
   "execution_count": 305,
   "metadata": {},
   "outputs": [
    {
     "data": {
      "text/html": [
       "<div>\n",
       "<style scoped>\n",
       "    .dataframe tbody tr th:only-of-type {\n",
       "        vertical-align: middle;\n",
       "    }\n",
       "\n",
       "    .dataframe tbody tr th {\n",
       "        vertical-align: top;\n",
       "    }\n",
       "\n",
       "    .dataframe thead th {\n",
       "        text-align: right;\n",
       "    }\n",
       "</style>\n",
       "<table border=\"1\" class=\"dataframe\">\n",
       "  <thead>\n",
       "    <tr style=\"text-align: right;\">\n",
       "      <th></th>\n",
       "      <th>min</th>\n",
       "      <th>count</th>\n",
       "    </tr>\n",
       "  </thead>\n",
       "  <tbody>\n",
       "    <tr>\n",
       "      <th>count</th>\n",
       "      <td>7.000000</td>\n",
       "      <td>7.000000</td>\n",
       "    </tr>\n",
       "    <tr>\n",
       "      <th>mean</th>\n",
       "      <td>1207.285714</td>\n",
       "      <td>11.142857</td>\n",
       "    </tr>\n",
       "    <tr>\n",
       "      <th>std</th>\n",
       "      <td>1033.637221</td>\n",
       "      <td>16.915758</td>\n",
       "    </tr>\n",
       "    <tr>\n",
       "      <th>min</th>\n",
       "      <td>349.000000</td>\n",
       "      <td>1.000000</td>\n",
       "    </tr>\n",
       "    <tr>\n",
       "      <th>10%</th>\n",
       "      <td>349.000000</td>\n",
       "      <td>1.600000</td>\n",
       "    </tr>\n",
       "    <tr>\n",
       "      <th>25%</th>\n",
       "      <td>479.500000</td>\n",
       "      <td>3.000000</td>\n",
       "    </tr>\n",
       "    <tr>\n",
       "      <th>50%</th>\n",
       "      <td>1010.000000</td>\n",
       "      <td>6.000000</td>\n",
       "    </tr>\n",
       "    <tr>\n",
       "      <th>75%</th>\n",
       "      <td>1410.500000</td>\n",
       "      <td>8.000000</td>\n",
       "    </tr>\n",
       "    <tr>\n",
       "      <th>90%</th>\n",
       "      <td>2243.400000</td>\n",
       "      <td>24.400000</td>\n",
       "    </tr>\n",
       "    <tr>\n",
       "      <th>max</th>\n",
       "      <td>3312.000000</td>\n",
       "      <td>49.000000</td>\n",
       "    </tr>\n",
       "  </tbody>\n",
       "</table>\n",
       "</div>"
      ],
      "text/plain": [
       "               min      count\n",
       "count     7.000000   7.000000\n",
       "mean   1207.285714  11.142857\n",
       "std    1033.637221  16.915758\n",
       "min     349.000000   1.000000\n",
       "10%     349.000000   1.600000\n",
       "25%     479.500000   3.000000\n",
       "50%    1010.000000   6.000000\n",
       "75%    1410.500000   8.000000\n",
       "90%    2243.400000  24.400000\n",
       "max    3312.000000  49.000000"
      ]
     },
     "execution_count": 305,
     "metadata": {},
     "output_type": "execute_result"
    }
   ],
   "source": [
    "rf.describe([.1,.25,.5,.75,.9])"
   ]
  },
  {
   "cell_type": "code",
   "execution_count": 309,
   "metadata": {},
   "outputs": [
    {
     "data": {
      "text/html": [
       "<div>\n",
       "<style scoped>\n",
       "    .dataframe tbody tr th:only-of-type {\n",
       "        vertical-align: middle;\n",
       "    }\n",
       "\n",
       "    .dataframe tbody tr th {\n",
       "        vertical-align: top;\n",
       "    }\n",
       "\n",
       "    .dataframe thead th {\n",
       "        text-align: right;\n",
       "    }\n",
       "</style>\n",
       "<table border=\"1\" class=\"dataframe\">\n",
       "  <thead>\n",
       "    <tr style=\"text-align: right;\">\n",
       "      <th></th>\n",
       "      <th>day</th>\n",
       "      <th>index</th>\n",
       "      <th>price</th>\n",
       "      <th>cluster</th>\n",
       "    </tr>\n",
       "  </thead>\n",
       "  <tbody>\n",
       "    <tr>\n",
       "      <th>25</th>\n",
       "      <td>apr1</td>\n",
       "      <td>25</td>\n",
       "      <td>399</td>\n",
       "      <td>5</td>\n",
       "    </tr>\n",
       "    <tr>\n",
       "      <th>26</th>\n",
       "      <td>apr2</td>\n",
       "      <td>26</td>\n",
       "      <td>349</td>\n",
       "      <td>5</td>\n",
       "    </tr>\n",
       "    <tr>\n",
       "      <th>27</th>\n",
       "      <td>apr3</td>\n",
       "      <td>27</td>\n",
       "      <td>399</td>\n",
       "      <td>5</td>\n",
       "    </tr>\n",
       "    <tr>\n",
       "      <th>31</th>\n",
       "      <td>apr7</td>\n",
       "      <td>31</td>\n",
       "      <td>399</td>\n",
       "      <td>5</td>\n",
       "    </tr>\n",
       "    <tr>\n",
       "      <th>32</th>\n",
       "      <td>apr8</td>\n",
       "      <td>32</td>\n",
       "      <td>349</td>\n",
       "      <td>5</td>\n",
       "    </tr>\n",
       "  </tbody>\n",
       "</table>\n",
       "</div>"
      ],
      "text/plain": [
       "     day  index  price  cluster\n",
       "25  apr1     25    399        5\n",
       "26  apr2     26    349        5\n",
       "27  apr3     27    399        5\n",
       "31  apr7     31    399        5\n",
       "32  apr8     32    349        5"
      ]
     },
     "execution_count": 309,
     "metadata": {},
     "output_type": "execute_result"
    }
   ],
   "source": [
    "# the days\n",
    "pf[pf['cluster'] == 5][:5]"
   ]
  }
 ],
 "metadata": {
  "kernelspec": {
   "display_name": "Python 3",
   "language": "python",
   "name": "python3"
  },
  "language_info": {
   "codemirror_mode": {
    "name": "ipython",
    "version": 3
   },
   "file_extension": ".py",
   "mimetype": "text/x-python",
   "name": "python",
   "nbconvert_exporter": "python",
   "pygments_lexer": "ipython3",
   "version": "3.7.2"
  }
 },
 "nbformat": 4,
 "nbformat_minor": 2
}
